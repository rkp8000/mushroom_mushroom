{
 "cells": [
  {
   "cell_type": "markdown",
   "metadata": {},
   "source": [
    "# Take snapshots of time-series for each file and save them to disk"
   ]
  },
  {
   "cell_type": "code",
   "execution_count": null,
   "metadata": {
    "collapsed": true
   },
   "outputs": [],
   "source": [
    "%reset -f\n",
    "import os\n",
    "import matplotlib.pyplot as plt\n",
    "import numpy as np\n",
    "\n",
    "from data import DataLoader, find_segs\n",
    "from db import make_session, d_models\n",
    "from plot import shade, set_font_size\n",
    "\n",
    "import CONFIG as C\n",
    "\n",
    "\n",
    "SAVE_DIR = 'data_snapshots'\n",
    "LABELS = ('behav', 'gcamp')\n",
    "BEHAV_VARIABLES = [\n",
    "    ['speed'], ['ball'], ['v_ang'], ['air']\n",
    "]\n",
    "GCAMP_VARIABLES = [\n",
    "    ['g2s'], ['g3s'], ['g4s'], ['g5s'], ['g2d'], ['g3d'], ['g4d'], ['g5d'],\n",
    "]"
   ]
  },
  {
   "cell_type": "code",
   "execution_count": null,
   "metadata": {},
   "outputs": [],
   "source": [
    "session = make_session()\n",
    "trials = session.query(d_models.Trial).all()\n",
    "session.close()\n",
    "\n",
    "for ctr, trial in enumerate(trials):\n",
    "    print('Loading data for trial {}/{} ({})'.format(ctr+1, len(trials), trial.name))\n",
    "    trials[ctr].dl = DataLoader(trial, sfx='0', vel_filt=None)"
   ]
  },
  {
   "cell_type": "markdown",
   "metadata": {},
   "source": [
    "### Define function that saves data time-series to PNG"
   ]
  },
  {
   "cell_type": "code",
   "execution_count": null,
   "metadata": {
    "collapsed": true
   },
   "outputs": [],
   "source": [
    "def trial_to_png(\n",
    "    save_file, trial, variables, width=30, ax_height=3,\n",
    "    lw=2, colors=None, y_lims=None, y_tick_spacings=None,\n",
    "    shading=None):\n",
    "    \"\"\"\n",
    "    Save the complete time-series data for several quantities for\n",
    "    a trial to a single PNG image for efficient viewing.\n",
    "    \n",
    "    :param shading: shading to apply on top of time-series traces; dict\n",
    "        where keys are rgbas and vals are segments to shade\n",
    "    \"\"\"\n",
    "    if colors is None:\n",
    "        colors = {}\n",
    "    if y_lims is None:\n",
    "        y_lims = {}\n",
    "    if y_tick_spacings is None:\n",
    "        y_tick_spacings = {}\n",
    "    if shading is None:\n",
    "        shading == {}\n",
    "    \n",
    "    # make sure each element of variables is a list of variables\n",
    "    variables = [vs if hasattr(vs, '__iter__') else [vs] for vs in variables]\n",
    "    \n",
    "    # make sure each element of variables is at most 2 long\n",
    "    if any([len(vs) > 2 for vs in variables]):\n",
    "        raise ValueError('At most 2 variables are allowed per axis.')\n",
    "        \n",
    "    # make sure save directory exists\n",
    "    save_dir = os.path.dirname(save_file)\n",
    "    if not os.path.exists(save_dir):\n",
    "        os.makedirs(save_dir)\n",
    "        \n",
    "    # get quantities from trial\n",
    "    ts = trial.dl.t\n",
    "    unique = list(set(sum(variables, [])))\n",
    "    for v in unique:\n",
    "        if v not in colors:\n",
    "            colors[v] = 'k'\n",
    "            \n",
    "    data = {v: getattr(trial.dl, v) for v in unique}\n",
    "    \n",
    "    # arrange figure\n",
    "    fig_size = (width, ax_height*len(variables))\n",
    "    fig, axs = plt.subplots(\n",
    "        len(variables), 1, figsize=fig_size, tight_layout=True, squeeze=False)\n",
    "    \n",
    "    for ax, vs in zip(axs[:, 0], variables):\n",
    "        \n",
    "        ax.set_xlabel('t (s)')\n",
    "        \n",
    "        ax.plot(ts, data[vs[0]], color=colors[vs[0]], lw=lw)\n",
    "        ax.set_ylabel(vs[0], color=colors[vs[0]])\n",
    "        \n",
    "        ax.set_xlim(ts[0], ts[-1])\n",
    "        ax.grid()\n",
    "        \n",
    "        if vs[0] in y_lims:\n",
    "            ax.set_ylim(y_lims[vs[0]])\n",
    "        \n",
    "        if vs[0] in y_tick_spacings:\n",
    "            ax.set_yticks(np.arange(\n",
    "                *ax.get_ylim(), y_tick_spacings[vs[0]]))\n",
    "            \n",
    "        if shading is not None:\n",
    "            for rgba, segs in shading.items():\n",
    "                shade(ax, segs, rgba)\n",
    "            \n",
    "        set_font_size(ax, 16)\n",
    "        \n",
    "        if len(vs) == 1:\n",
    "            continue\n",
    "            \n",
    "        ax_twin = ax.twinx()\n",
    "        ax_twin.plot(ts, data[vs[1]], color=colors[vs[1]], lw=lw)\n",
    "        ax_twin.set_ylabel(vs[1], color=colors[vs[1]])\n",
    "    \n",
    "        if vs[1] in y_lims:\n",
    "            ax_twin.set_ylim(y_lims[vs[1]])\n",
    "        \n",
    "        if vs[1] in y_tick_spacings:\n",
    "            ax_twin.set_yticks(np.arange(\n",
    "                *ax_twin.get_ylim(), y_tick_spacings[vs[1]]))\n",
    "            \n",
    "        ax_twin.set_xlim(ts[0], ts[-1])\n",
    "            \n",
    "        set_font_size(ax_twin, 16)\n",
    "        \n",
    "    # save png\n",
    "    fig.savefig(save_file)\n",
    "    plt.close(fig)\n",
    "    \n",
    "    return save_file"
   ]
  },
  {
   "cell_type": "markdown",
   "metadata": {},
   "source": [
    "### Basic behavioral and gcamp variables"
   ]
  },
  {
   "cell_type": "code",
   "execution_count": null,
   "metadata": {
    "scrolled": true
   },
   "outputs": [],
   "source": [
    "for trial in trials:\n",
    "    print('Saving data snapshot for trial \"{}\"...'.format(trial.name))\n",
    "    save_dir = os.path.join(\n",
    "        SAVE_DIR, trial.fly,\n",
    "        '{} ({})'.format(trial.name, trial.expt))\n",
    "    \n",
    "    for label, vs in zip(LABELS, [BEHAV_VARIABLES, GCAMP_VARIABLES]):\n",
    "        \n",
    "        save_path = os.path.join(save_dir, '{}.png'.format(label))\n",
    "        trial_to_png(save_path, trial, vs)\n",
    "        \n",
    "        print('Snapshot saved at \"{}\".'.format(save_path))"
   ]
  },
  {
   "cell_type": "markdown",
   "metadata": {},
   "source": [
    "### Close up of walking speed"
   ]
  },
  {
   "cell_type": "code",
   "execution_count": null,
   "metadata": {
    "scrolled": true
   },
   "outputs": [],
   "source": [
    "session = make_session()\n",
    "trials = session.query(d_models.Trial).all()\n",
    "session.close()\n",
    "\n",
    "for trial in trials:\n",
    "    trial.dl = DataLoader(trial, sfx='0', vel_filt=None)\n",
    "    \n",
    "    if trial.walking_threshold is not None:\n",
    "        states = trial.dl.state\n",
    "        ts_ = np.concatenate([\n",
    "            trial.dl.t,\n",
    "            [trial.dl.t[-1] + C.DT]\n",
    "        ])\n",
    "        rgbas = [(0, 0, 0, 0.2), (1, 0, 0, 0.2), (0, 1, 0, 0.2)]\n",
    "        labels = ['A', 'P', 'W']\n",
    "        \n",
    "        shading = {}\n",
    "        for rgba, label in zip(rgbas, labels):\n",
    "            segs_idx = find_segs(states == label)\n",
    "            segs = np.nan * np.ones(segs_idx.shape)\n",
    "            segs[:, 0] = ts_[segs_idx[:, 0]]\n",
    "            segs[:, 1] = ts_[segs_idx[:, 1]]\n",
    "            \n",
    "            shading[rgba] = segs\n",
    "    else:\n",
    "        shading=None\n",
    "    \n",
    "    print('Saving data snapshot for trial \"{}\"...'.format(trial.name))\n",
    "    save_dir = os.path.join(\n",
    "        SAVE_DIR, trial.fly,\n",
    "        '{} ({})'.format(trial.name, trial.expt))\n",
    "    \n",
    "    save_path = os.path.join(save_dir, 'speed.png')\n",
    "    trial_to_png(\n",
    "        save_path, trial, [['speed']], width=60, ax_height=8,\n",
    "        y_lims={'speed': [0, None]}, y_tick_spacings={'speed': 0.005},\n",
    "        shading=shading)\n",
    "\n",
    "    print('Snapshot saved at \"{}\".'.format(save_path))"
   ]
  },
  {
   "cell_type": "markdown",
   "metadata": {},
   "source": [
    "### Speed overlaid with GS"
   ]
  },
  {
   "cell_type": "code",
   "execution_count": null,
   "metadata": {},
   "outputs": [],
   "source": [
    "vs = [\n",
    "    ['speed', 'G2S'],\n",
    "    ['speed', 'G3S'],\n",
    "    ['speed', 'G4S'],\n",
    "    ['speed', 'G5S'],\n",
    "]\n",
    "colors = {'speed': 'k', 'G2S': 'm', 'G3S': 'm', 'G4S': 'm', 'G5S': 'm'}\n",
    "\n",
    "for trial in trials:\n",
    "    print('Saving data snapshot for trial \"{}\"...'.format(trial.name))\n",
    "    save_dir = os.path.join(\n",
    "        SAVE_DIR, trial.fly,\n",
    "        '{} ({})'.format(trial.name, trial.expt))\n",
    "    \n",
    "    save_path = os.path.join(save_dir, 'speed_vs_GS.png')\n",
    "    trial_to_png(save_path, trial, variables=vs, colors=colors)\n",
    "        \n",
    "    print('Snapshot saved at \"{}\".'.format(save_path))"
   ]
  },
  {
   "cell_type": "markdown",
   "metadata": {},
   "source": [
    "### Write js file listing all trials and image names"
   ]
  },
  {
   "cell_type": "code",
   "execution_count": null,
   "metadata": {
    "collapsed": true
   },
   "outputs": [],
   "source": [
    "TRIAL_FILE = 'js_viewer/trials.js'\n",
    "\n",
    "# get all files in save directory\n",
    "sub_dirs = [\n",
    "    os.path.join(SAVE_DIR, d) for d in os.listdir(SAVE_DIR)\n",
    "    if os.path.isdir(os.path.join(SAVE_DIR, d))\n",
    "    and not d.startswith('.')]\n",
    "\n",
    "trial_keys = []\n",
    "trial_paths = []\n",
    "\n",
    "for sub_dir in sub_dirs:\n",
    "    trial_keys_ = [\n",
    "        d for d in os.listdir(sub_dir)\n",
    "        if os.path.isdir(os.path.join(sub_dir, d))\n",
    "        and not d.startswith('.')\n",
    "    ]\n",
    "    \n",
    "    trial_paths_ = [os.path.join(sub_dir, tk) for tk in trial_keys_]\n",
    "    \n",
    "    trial_keys.extend(trial_keys_)\n",
    "    trial_paths.extend(trial_paths_)"
   ]
  },
  {
   "cell_type": "code",
   "execution_count": null,
   "metadata": {
    "collapsed": true
   },
   "outputs": [],
   "source": [
    "# open file\n",
    "with open(TRIAL_FILE, 'w') as f:\n",
    "    f.write('var trials = {};\\n')\n",
    "    \n",
    "    for tk, tp in zip(trial_keys, trial_paths):\n",
    "        f.write('trials[\"{}\"] = \"{}\";\\n'.format(tk, tp))\n",
    "        \n",
    "    f.write('\\n')\n",
    "    f.write('var plot_types = [\\n')\n",
    "    \n",
    "    for plot_type in ('behav', 'gcamp', 'speed_vs_GS', 'speed_vs_GD'):\n",
    "        f.write('  \"{}\",\\n'.format(plot_type))\n",
    "    f.write(']\\n')"
   ]
  }
 ],
 "metadata": {
  "kernelspec": {
   "display_name": "Python 3",
   "language": "python",
   "name": "python3"
  },
  "language_info": {
   "codemirror_mode": {
    "name": "ipython",
    "version": 3
   },
   "file_extension": ".py",
   "mimetype": "text/x-python",
   "name": "python",
   "nbconvert_exporter": "python",
   "pygments_lexer": "ipython3",
   "version": "3.6.1"
  }
 },
 "nbformat": 4,
 "nbformat_minor": 2
}

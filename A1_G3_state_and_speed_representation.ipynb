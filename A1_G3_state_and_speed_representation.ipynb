{
 "cells": [
  {
   "cell_type": "markdown",
   "metadata": {},
   "source": [
    "In this notebook we examine whether the G3 compartment represents only the walking/paused state of the fly, or whether it contains information about the fine-scale walking speed of the fly as well."
   ]
  },
  {
   "cell_type": "markdown",
   "metadata": {},
   "source": [
    "# Classify walking/paused states using G3\n",
    "\n",
    "Here we fit a logistic regression classifier to predict the walking ('W') or paused ('P') states for each trial with labeled states."
   ]
  },
  {
   "cell_type": "code",
   "execution_count": null,
   "metadata": {
    "collapsed": true
   },
   "outputs": [],
   "source": [
    "%matplotlib inline\n",
    "import matplotlib.pyplot as plt\n",
    "import numpy as np\n",
    "from sklearn.linear_model import LogisticRegression\n",
    "\n",
    "from aux import make_extended_predictor_matrix\n",
    "from data import DataLoader\n",
    "\n",
    "\n",
    "WINDOW = (-2, 2)\n",
    "\n",
    "def classify_states(trial, dans, windows):\n",
    "    \"\"\"\n",
    "    Fit a classifier predicting a trial's paused vs. walking states\n",
    "    using activity from a set of neural compartments.\n",
    "    \n",
    "    :param trial: trial object\n",
    "    :param dans: list of DAN compartments to use for prediction\n",
    "    :param windows: dict of windows to use for each predictive dan\n",
    "        (keys are DAN names, vals are tuples of (start, end) time\n",
    "            points relative to time point of prediction)\n",
    "            \n",
    "    :return: ClassifierResult\n",
    "    \"\"\"\n",
    "    \n",
    "    try:\n",
    "        dl = trial.dl\n",
    "    except:\n",
    "        dl = DataLoader(trial, vel_filt=None)\n",
    "        \n",
    "    states = dl.states\n",
    "    vs = {dan: getattr(dl, dan) for dan in dans}\n",
    "    \n",
    "    # make extended dan predictor matrix\n",
    "    vs_extd = make_extended_predictor_matrix(vs, windows, order=dans)\n",
    "    \n",
    "    # make valid mask (not nan predictors and not ambiguous state)\n",
    "    valid = np.all(~np.isnan(vs_extd), axis=1) & (states != 'A')\n",
    "    \n",
    "    if len(set(states[valid])) == 2:\n",
    "        # at least two states\n",
    "        \n",
    "        # fit classifier\n",
    "        clf = LogisticRegression(n_jobs=-1)\n",
    "        clf.fit(vs_extd[valid], states[valid])\n",
    "        \n",
    "        # make state predictions\n",
    "        states_pred = np.repeat('', len(states))\n",
    "        states_pred[valid] = clf.predict(vs_extd[valid])\n",
    "        \n",
    "        # get coefficients\n",
    "        window_lens = [windows[d][1] - windows[d][0] for d in dans]\n",
    "        splits = np.split(clf.coef_[0], np.cumsum(window_lens)[:-1])\n",
    "        \n",
    "        coefs = {d: s for d, s in zip(dans, splits)}\n",
    "        \n",
    "    else:\n",
    "        # fewer than two states\n",
    "        clf = None\n",
    "        states_pred = None\n",
    "        coefs = None\n",
    "        \n",
    "    result = ClassifierResult(\n",
    "        trial_id=trial.id, dans=dans, windows=windows, valid=valid,\n",
    "        states_pred=states_pred, states=states, coefs=coefs, clf=clf)\n",
    "    \n",
    "    return result\n",
    "\n",
    "\n",
    "class ClassifierResult(object):\n",
    "    \n",
    "    def __init__(self, trial_id, dans, windows, valid, states_pred, states, coefs, clf):\n",
    "        self.trial_id = trial_id,\n",
    "        self.dans = dans\n",
    "        self.window = windows\n",
    "        self.valid = valid\n",
    "        self.states_pred = states_pred\n",
    "        self.states = states\n",
    "        self.coefs = coefs\n",
    "        self.clf = clf\n",
    "        \n",
    "        # get number of valid time points\n",
    "        self.n_valid = valid.sum()\n",
    "        \n",
    "        # get fraction of valid time points in walking state\n",
    "        self.walk_frac = np.sum(states[valid] == 'W') / self.n_valid\n",
    "        \n",
    "        # get accuracy (fraction of correctly labeled valid states)\n",
    "        if states_pred is not None:\n",
    "            self.acc = np.sum(states_pred[valid] == states[valid]) / self.n_valid\n",
    "        else:\n",
    "            self.acc = None"
   ]
  },
  {
   "cell_type": "markdown",
   "metadata": {},
   "source": [
    "# Predict walking speed during walking states using G3"
   ]
  },
  {
   "cell_type": "code",
   "execution_count": null,
   "metadata": {
    "collapsed": true
   },
   "outputs": [],
   "source": []
  }
 ],
 "metadata": {
  "kernelspec": {
   "display_name": "Python 3",
   "language": "python",
   "name": "python3"
  },
  "language_info": {
   "codemirror_mode": {
    "name": "ipython",
    "version": 3
   },
   "file_extension": ".py",
   "mimetype": "text/x-python",
   "name": "python",
   "nbconvert_exporter": "python",
   "pygments_lexer": "ipython3",
   "version": "3.6.1"
  }
 },
 "nbformat": 4,
 "nbformat_minor": 2
}

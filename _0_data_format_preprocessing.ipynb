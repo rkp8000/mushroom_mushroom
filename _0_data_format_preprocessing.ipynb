{
 "cells": [
  {
   "cell_type": "markdown",
   "metadata": {},
   "source": [
    "# Make light times files"
   ]
  },
  {
   "cell_type": "code",
   "execution_count": 1,
   "metadata": {
    "collapsed": true
   },
   "outputs": [],
   "source": [
    "import numpy as np\n",
    "import os\n",
    "import pandas as pd\n",
    "\n",
    "import LOCAL as L\n",
    "\n",
    "\n",
    "ORIG_ENDS_WITH = 'LightTimes.csv'\n",
    "OLD_FORMAT_FILE = 'Light_Times.xlsx'\n",
    "ADD_FRAMES = 18080\n",
    "\n",
    "REGIONS = ['dan', 'mbon']\n",
    "EXPTS = ['closed_odor_fluct', 'white_odor_fluct', 'no_air']\n",
    "\n",
    "\n",
    "def make_paired_light_times_file(trial_dir):\n",
    "    \"\"\"Save a light times file with two entries given the original light times file.\"\"\"\n",
    "    f_orig = [f for f in os.listdir(trial_dir) if f.endswith(ORIG_ENDS_WITH)][0]\n",
    "    path_orig = os.path.join(trial_dir, f_orig)\n",
    "    \n",
    "    df_orig = pd.read_csv(path_orig, header=None)\n",
    "    \n",
    "    frame_0 = df_orig[0][0]\n",
    "    \n",
    "    df_new = pd.DataFrame(\n",
    "        np.array([frame_0, frame_0 + ADD_FRAMES]).T)\n",
    "    \n",
    "    path_new = os.path.join(trial_dir, OLD_FORMAT_FILE)\n",
    "    df_new.to_excel(path_new, header=False, index=False)\n",
    "    \n",
    "    return df_new"
   ]
  },
  {
   "cell_type": "code",
   "execution_count": 2,
   "metadata": {
    "collapsed": true
   },
   "outputs": [],
   "source": [
    "# get all directories of trials that need light times files fixed\n",
    "trial_dirs = []\n",
    "\n",
    "for region in REGIONS:\n",
    "    for expt in EXPTS:\n",
    "        for dir_path, dir_names, f_names in os.walk(os.path.join(L.DATA_ROOT, region, expt)):\n",
    "            if not dir_names:\n",
    "                trial_dirs.append(dir_path)"
   ]
  },
  {
   "cell_type": "code",
   "execution_count": 3,
   "metadata": {
    "collapsed": true
   },
   "outputs": [],
   "source": [
    "# loop over all trials and fix light times files\n",
    "for trial_dir in trial_dirs:\n",
    "    make_paired_light_times_file(trial_dir)"
   ]
  }
 ],
 "metadata": {
  "kernelspec": {
   "display_name": "Python 3",
   "language": "python",
   "name": "python3"
  },
  "language_info": {
   "codemirror_mode": {
    "name": "ipython",
    "version": 3
   },
   "file_extension": ".py",
   "mimetype": "text/x-python",
   "name": "python",
   "nbconvert_exporter": "python",
   "pygments_lexer": "ipython3",
   "version": "3.6.3"
  }
 },
 "nbformat": 4,
 "nbformat_minor": 2
}

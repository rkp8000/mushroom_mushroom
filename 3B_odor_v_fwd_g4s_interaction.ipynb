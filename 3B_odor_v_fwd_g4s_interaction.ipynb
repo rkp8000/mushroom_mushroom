{
 "cells": [
  {
   "cell_type": "markdown",
   "metadata": {},
   "source": [
    "In this notebook we look for interactions between the odor and the v_fwd representations in G4S."
   ]
  },
  {
   "cell_type": "code",
   "execution_count": null,
   "metadata": {
    "collapsed": true
   },
   "outputs": [],
   "source": [
    "%matplotlib inline\n",
    "from copy import deepcopy\n",
    "from itertools import product as cproduct\n",
    "import matplotlib.gridspec as gridspec\n",
    "import matplotlib.pyplot as plt\n",
    "import numpy as np\n",
    "import pandas as pd\n",
    "from sklearn.linear_model import Lasso, LinearRegression, Ridge\n",
    "\n",
    "from aux import Generic\n",
    "from data import DataLoader, random_chunk_split\n",
    "from db import make_session, d_models\n",
    "from lin_fit import fit_h_train_test, calc_r2\n",
    "from plot import set_font_size\n",
    "\n",
    "import CONFIG as C"
   ]
  },
  {
   "cell_type": "markdown",
   "metadata": {},
   "source": [
    "Parameters"
   ]
  },
  {
   "cell_type": "code",
   "execution_count": null,
   "metadata": {
    "collapsed": true
   },
   "outputs": [],
   "source": [
    "TRAIN_LEN = 32  # s\n",
    "TEST_LEN = 8  # s\n",
    "\n",
    "EXPTS = ['white_odor_fluct']\n",
    "TARG = 'G4S'\n",
    "\n",
    "WDW = (-3, 1)\n",
    "\n",
    "METHODS = {\n",
    "    'odor_binary': 'built-in',\n",
    "    'v_fwd': 'built-in',\n",
    "}\n",
    "\n",
    "PARAMS = {\n",
    "    'odor_binary': {'model': LinearRegression},\n",
    "    'v_fwd': {'model': LinearRegression},\n",
    "}"
   ]
  },
  {
   "cell_type": "markdown",
   "metadata": {},
   "source": [
    "Resuable subroutines"
   ]
  },
  {
   "cell_type": "markdown",
   "metadata": {},
   "source": [
    "Linear models"
   ]
  },
  {
   "cell_type": "code",
   "execution_count": null,
   "metadata": {
    "collapsed": true
   },
   "outputs": [],
   "source": [
    "class ModelO(object):\n",
    "    \n",
    "    def __init__(self, trial):\n",
    "        \n",
    "        # run odor_binary --> TARG fit\n",
    "        rslt = fit_h_train_test(\n",
    "            trial=trial,\n",
    "            x_name='odor_binary',\n",
    "            y_name=TARG,\n",
    "            wdw=WDW,\n",
    "            train_len=TRAIN_LEN,\n",
    "            test_len=TEST_LEN,\n",
    "            method=METHODS['odor_binary'],\n",
    "            params=PARAMS['odor_binary'],\n",
    "            C=C)\n",
    "        \n",
    "        # store results\n",
    "        for k, v in rslt.items():\n",
    "            self.__dict__[k] = v"
   ]
  },
  {
   "cell_type": "code",
   "execution_count": null,
   "metadata": {
    "collapsed": true
   },
   "outputs": [],
   "source": [
    "class ModelVF(object):\n",
    "    \n",
    "    def __init__(self, trial):\n",
    "        \n",
    "        # run v_fwd --> TARG fit\n",
    "        rslt = fit_h_train_test(\n",
    "            trial=trial,\n",
    "            x_name='v_fwd',\n",
    "            y_name=TARG,\n",
    "            wdw=WDW,\n",
    "            train_len=TRAIN_LEN,\n",
    "            test_len=TEST_LEN,\n",
    "            method=METHODS['v_fwd'],\n",
    "            params=PARAMS['v_fwd'],\n",
    "            C=C)\n",
    "        \n",
    "        # store results\n",
    "        for k, v in rslt.items():\n",
    "            self.__dict__[k] = v"
   ]
  },
  {
   "cell_type": "code",
   "execution_count": null,
   "metadata": {
    "collapsed": true
   },
   "outputs": [],
   "source": [
    "class ModelOVFI(object):\n",
    "    \n",
    "    def __init__(self, trial):\n",
    "        \n",
    "        # run odor_binary --> TARG fit\n",
    "        self.o = fit_h_train_test(\n",
    "            trial=trial,\n",
    "            x_name='odor_binary',\n",
    "            y_name=TARG,\n",
    "            wdw=WDW,\n",
    "            train_len=TRAIN_LEN,\n",
    "            test_len=TEST_LEN,\n",
    "            method=METHODS['odor_binary'],\n",
    "            params=PARAMS['odor_binary'],\n",
    "            C=C)\n",
    "        \n",
    "        # run v_fwd --> TARG fit\n",
    "        self.vf = fit_h_train_test(\n",
    "            trial=trial,\n",
    "            x_name='v_fwd',\n",
    "            y_name=TARG,\n",
    "            wdw=WDW,\n",
    "            train_len=TRAIN_LEN,\n",
    "            test_len=TEST_LEN,\n",
    "            method=METHODS['v_fwd'],\n",
    "            params=PARAMS['v_fwd'],\n",
    "            C=C)\n",
    "        \n",
    "        self.trial_name = trial.name\n",
    "        self.y_name = TARG\n",
    "        \n",
    "        self.train = self.o.train & self.vf.train\n",
    "        self.test = self.o.test & self.vf.test\n",
    "        self.t = self.o.t\n",
    "        \n",
    "        self.y = self.o.y\n",
    "        \n",
    "        self.y_hat_train = self.o.y_hat_train + self.vf.y_hat_train\n",
    "        self.y_hat_test = self.o.y_hat_test + self.vf.y_hat_test\n",
    "        \n",
    "        self.r2_train = calc_r2(self.y, self.y_hat_train)\n",
    "        self.r2_test = calc_r2(self.y, self.y_hat_test)"
   ]
  },
  {
   "cell_type": "code",
   "execution_count": null,
   "metadata": {
    "collapsed": true
   },
   "outputs": [],
   "source": [
    "class ModelOVFJ(object):\n",
    "    \n",
    "    def __init__(self, trial):\n",
    "        \n",
    "        # run joint (odor_binary, v_fwd) --> TARG fit\n",
    "        rslt = fit_hs_train_test(\n",
    "            trial=trial,\n",
    "            x_names=('odor_binary', 'v_fwd'),\n",
    "            y_name=TARG,\n",
    "            wdws={'odor_binary': WDW, 'v_fwd': WDW},\n",
    "            train_len=TRAIN_LEN,\n",
    "            test_len=TEST_LEN,\n",
    "            methods=METHODS,\n",
    "            params=PARAMS,\n",
    "            C=C)\n",
    "        \n",
    "        self.trial_name = trial.name\n",
    "        self.y_name = TARG\n",
    "        \n",
    "        self.train = rslt.train\n",
    "        self.test = rslt.test\n",
    "        self.t = rslt.t\n",
    "        \n",
    "        self.xs = rslt.xs\n",
    "        self.y = rslt.y\n",
    "        \n",
    "        self.y_hat_train = rslt.y_hat_train\n",
    "        self.y_hat_test = rslt.y_hat_test\n",
    "        \n",
    "        self.r2_train = calc_r2(self.y, self.y_hat_train)\n",
    "        self.r2_test = calc_r2(self.y, self.y_hat_test)"
   ]
  },
  {
   "cell_type": "markdown",
   "metadata": {},
   "source": [
    "### Plot true vs predicted G4S for each trial/model"
   ]
  },
  {
   "cell_type": "code",
   "execution_count": null,
   "metadata": {
    "collapsed": true
   },
   "outputs": [],
   "source": []
  }
 ],
 "metadata": {
  "kernelspec": {
   "display_name": "Python 3",
   "language": "python",
   "name": "python3"
  },
  "language_info": {
   "codemirror_mode": {
    "name": "ipython",
    "version": 3
   },
   "file_extension": ".py",
   "mimetype": "text/x-python",
   "name": "python",
   "nbconvert_exporter": "python",
   "pygments_lexer": "ipython3",
   "version": "3.6.3"
  }
 },
 "nbformat": 4,
 "nbformat_minor": 2
}

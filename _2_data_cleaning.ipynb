{
 "cells": [
  {
   "cell_type": "markdown",
   "metadata": {},
   "source": [
    "# Clean and cache data from all trials in all expts"
   ]
  },
  {
   "cell_type": "code",
   "execution_count": 2,
   "metadata": {
    "collapsed": true
   },
   "outputs": [],
   "source": [
    "import os\n",
    "\n",
    "from data import DataLoader\n",
    "from db import make_session, d_models\n",
    "\n",
    "import LOCAL as L\n",
    "\n",
    "\n",
    "SFX_CLEAN = 0\n",
    "\n",
    "\n",
    "def clean_and_cache(region, expt, verbose=False, skip_existing=True):\n",
    "    \n",
    "    # load trials\n",
    "    session = make_session()\n",
    "    trials = session.query(d_models.Trial).filter_by(\n",
    "        region=region, expt=expt).all()\n",
    "    session.close()\n",
    "    \n",
    "    # remove cleaned file and create DataLoader for each trial\n",
    "    for trial in trials:\n",
    "        \n",
    "        path_clean = os.path.join(\n",
    "            L.DATA_ROOT, trial.path, '{}_{}.csv'.format(trial.pfx_clean, SFX_CLEAN))\n",
    "        \n",
    "        if os.path.exists(path_clean) and skip_existing:\n",
    "            continue\n",
    "            \n",
    "        print('Cleaning data from trial \"{}\".'.format(trial.name))\n",
    "        \n",
    "        if os.path.exists(path_clean):\n",
    "            os.remove(path_clean)\n",
    "\n",
    "        # load trial with DataLoader\n",
    "        dl = DataLoader(trial, sfx=SFX_CLEAN, vel_filt=None, verbose=verbose)\n",
    "        \n",
    "        print('Cleaned.')"
   ]
  },
  {
   "cell_type": "code",
   "execution_count": 2,
   "metadata": {
    "collapsed": true
   },
   "outputs": [
    {
     "name": "stdout",
     "output_type": "stream",
     "text": [
      "Cleaning data from trial \"20160118.Fly1.2\".\n"
     ]
    },
    {
     "name": "stderr",
     "output_type": "stream",
     "text": [
      "/Users/rkp/Dropbox/Repositories/mushroom_mushroom/data.py:618: RuntimeWarning: invalid value encountered in less\n",
      "  down_jumps = cc([[0.], (diff < (-th_jump * x_range)).astype(float)])\n",
      "/Users/rkp/Dropbox/Repositories/mushroom_mushroom/data.py:619: RuntimeWarning: invalid value encountered in greater\n",
      "  up_jumps = cc([[0.], (diff > (th_jump * x_range)).astype(float)])\n"
     ]
    },
    {
     "name": "stdout",
     "output_type": "stream",
     "text": [
      "Cleaned.\n",
      "Cleaning data from trial \"20160118.Fly1.3\".\n",
      "Cleaned.\n",
      "Cleaning data from trial \"20160118.Fly1.4\".\n",
      "Cleaned.\n",
      "Cleaning data from trial \"20160118.Fly1.6\".\n",
      "Cleaned.\n",
      "Cleaning data from trial \"20160118.Fly1.7\".\n",
      "Cleaned.\n",
      "Cleaning data from trial \"20160118.Fly1.8\".\n",
      "Cleaned.\n",
      "Cleaning data from trial \"20160118.Fly2.1\".\n",
      "Cleaned.\n",
      "Cleaning data from trial \"20160118.Fly2.2\".\n",
      "Cleaned.\n",
      "Cleaning data from trial \"20160118.Fly2.3\".\n",
      "Cleaned.\n",
      "Cleaning data from trial \"20160118.Fly2.4\".\n",
      "Cleaned.\n",
      "Cleaning data from trial \"20160118.Fly2.5\".\n",
      "Cleaned.\n",
      "Cleaning data from trial \"20160118.Fly2.6\".\n",
      "Cleaned.\n",
      "Cleaning data from trial \"20160118.Fly2.7\".\n",
      "Cleaned.\n",
      "Cleaning data from trial \"20160118.Fly4.1\".\n",
      "Cleaned.\n",
      "Cleaning data from trial \"20160118.Fly4.2\".\n",
      "Cleaned.\n",
      "Cleaning data from trial \"20160118.Fly4.3\".\n",
      "Cleaned.\n",
      "Cleaning data from trial \"20160118.Fly4.4\".\n",
      "Cleaned.\n",
      "Cleaning data from trial \"20160118.Fly4.5\".\n",
      "Cleaned.\n",
      "Cleaning data from trial \"20160118.Fly4.6\".\n",
      "Cleaned.\n",
      "Cleaning data from trial \"20160118.Fly4.7\".\n",
      "Cleaned.\n",
      "Cleaning data from trial \"20160118.Fly4.8\".\n",
      "Cleaned.\n",
      "Cleaning data from trial \"20160119.Fly1.1\".\n",
      "Cleaned.\n",
      "Cleaning data from trial \"20160119.Fly1.2\".\n",
      "Cleaned.\n",
      "Cleaning data from trial \"20160119.Fly1.3\".\n",
      "Cleaned.\n",
      "Cleaning data from trial \"20160119.Fly1.4\".\n",
      "Cleaned.\n",
      "Cleaning data from trial \"20160119.Fly3.1\".\n",
      "Cleaned.\n",
      "Cleaning data from trial \"20160119.Fly3.2\".\n",
      "Cleaned.\n",
      "Cleaning data from trial \"20160119.Fly3.3\".\n",
      "Cleaned.\n",
      "Cleaning data from trial \"20160119.Fly3.4\".\n",
      "Cleaned.\n",
      "Cleaning data from trial \"20160119.Fly3.5\".\n",
      "Cleaned.\n",
      "Cleaning data from trial \"20160130.Fly3.1\".\n",
      "Cleaned.\n",
      "Cleaning data from trial \"20160130.Fly3.2\".\n",
      "Cleaned.\n",
      "Cleaning data from trial \"20160130.Fly3.3\".\n",
      "Cleaned.\n",
      "Cleaning data from trial \"20160130.Fly3.4\".\n",
      "Cleaned.\n",
      "Cleaning data from trial \"20160130.Fly3.5\".\n",
      "Cleaned.\n",
      "Cleaning data from trial \"20160130.Fly3.6\".\n",
      "Cleaned.\n",
      "Cleaning data from trial \"20160130.Fly3.7\".\n",
      "Cleaned.\n",
      "Cleaning data from trial \"20160201.Fly2.1\".\n",
      "Cleaned.\n",
      "Cleaning data from trial \"20160201.Fly2.3\".\n",
      "Cleaned.\n",
      "Cleaning data from trial \"20160201.Fly2.4\".\n",
      "Cleaned.\n",
      "Cleaning data from trial \"20160201.Fly2.5\".\n",
      "Cleaned.\n",
      "Cleaning data from trial \"20160201.Fly2.6\".\n",
      "Cleaned.\n",
      "Cleaning data from trial \"20160201.Fly2.7\".\n",
      "Cleaned.\n",
      "Cleaning data from trial \"20160202.Fly1.1\".\n",
      "Cleaned.\n",
      "Cleaning data from trial \"20160202.Fly1.2\".\n",
      "Cleaned.\n",
      "Cleaning data from trial \"20160202.Fly1.3\".\n",
      "Cleaned.\n",
      "Cleaning data from trial \"20160202.Fly1.4\".\n",
      "Cleaned.\n",
      "Cleaning data from trial \"20160203.Fly4.1\".\n",
      "Cleaned.\n",
      "Cleaning data from trial \"20160203.Fly4.2\".\n",
      "Cleaned.\n",
      "Cleaning data from trial \"20160203.Fly4.3\".\n",
      "Cleaned.\n",
      "Cleaning data from trial \"20160203.Fly4.4\".\n",
      "Cleaned.\n",
      "Cleaning data from trial \"20160203.Fly4.5\".\n",
      "Cleaned.\n",
      "Cleaning data from trial \"20160203.Fly8.1\".\n",
      "Cleaned.\n",
      "Cleaning data from trial \"20160203.Fly8.2\".\n",
      "Cleaned.\n",
      "Cleaning data from trial \"20160203.Fly8.3\".\n",
      "Cleaned.\n",
      "Cleaning data from trial \"20160203.Fly8.4\".\n",
      "Cleaned.\n",
      "Cleaning data from trial \"20160203.Fly8.6\".\n",
      "Cleaned.\n",
      "Cleaning data from trial \"20160205.Fly1.1\".\n",
      "Cleaned.\n",
      "Cleaning data from trial \"20160205.Fly1.2\".\n",
      "Cleaned.\n",
      "Cleaning data from trial \"20160205.Fly1.3\".\n",
      "Cleaned.\n",
      "Cleaning data from trial \"20160205.Fly1.4\".\n",
      "Cleaned.\n",
      "Cleaning data from trial \"20160205.Fly1.5\".\n",
      "Cleaned.\n",
      "Cleaning data from trial \"20160205.Fly1.6\".\n",
      "Cleaned.\n",
      "Cleaning data from trial \"20160205.Fly3.1\".\n",
      "Cleaned.\n",
      "Cleaning data from trial \"20160205.Fly6.1\".\n",
      "Cleaned.\n",
      "Cleaning data from trial \"20160205.Fly7.1\".\n",
      "Cleaned.\n",
      "Cleaning data from trial \"20160205.Fly7.2\".\n",
      "Cleaned.\n",
      "Cleaning data from trial \"20160205.Fly7.3\".\n",
      "Cleaned.\n",
      "Cleaning data from trial \"20160205.Fly7.4\".\n",
      "Cleaned.\n",
      "Cleaning data from trial \"20160205.Fly8.1\".\n",
      "Cleaned.\n",
      "Cleaning data from trial \"20160210.Fly1.1\".\n",
      "Cleaned.\n",
      "Cleaning data from trial \"20160210.Fly1.2\".\n",
      "Cleaned.\n",
      "Cleaning data from trial \"20160210.Fly1.3\".\n",
      "Cleaned.\n",
      "Cleaning data from trial \"20160210.Fly1.4\".\n",
      "Cleaned.\n",
      "Cleaning data from trial \"20160210.Fly2.2\".\n",
      "Cleaned.\n",
      "Cleaning data from trial \"20160210.Fly2.3\".\n",
      "Cleaned.\n",
      "Cleaning data from trial \"20160210.Fly3.1\".\n",
      "Cleaned.\n",
      "Cleaning data from trial \"20160210.Fly3.2\".\n",
      "Cleaned.\n",
      "Cleaning data from trial \"20160210.Fly3.3\".\n",
      "Cleaned.\n",
      "Cleaning data from trial \"20160210.Fly3.4\".\n",
      "Cleaned.\n",
      "Cleaning data from trial \"20160211.Fly1.1\".\n",
      "Cleaned.\n",
      "Cleaning data from trial \"20160211.Fly1.2\".\n",
      "Cleaned.\n",
      "Cleaning data from trial \"20160211.Fly2.1\".\n",
      "Cleaned.\n",
      "Cleaning data from trial \"20160211.Fly3.1\".\n",
      "Cleaned.\n",
      "Cleaning data from trial \"20160211.Fly3.2\".\n",
      "Cleaned.\n",
      "Cleaning data from trial \"20160211.Fly3.3\".\n",
      "Cleaned.\n",
      "Cleaning data from trial \"20160211.Fly3.4\".\n",
      "Cleaned.\n",
      "Cleaning data from trial \"20160211.Fly4.1\".\n",
      "Cleaned.\n",
      "Cleaning data from trial \"20160211.Fly4.2\".\n",
      "Cleaned.\n",
      "Cleaning data from trial \"20160211.Fly5.1\".\n",
      "Cleaned.\n",
      "Cleaning data from trial \"20160211.Fly5.2\".\n",
      "Cleaned.\n"
     ]
    }
   ],
   "source": [
    "clean_and_cache('dan', 'asensory_5_hz')"
   ]
  },
  {
   "cell_type": "code",
   "execution_count": 3,
   "metadata": {
    "collapsed": true
   },
   "outputs": [
    {
     "name": "stdout",
     "output_type": "stream",
     "text": [
      "Cleaning data from trial \"20160524.Fly1.1\".\n"
     ]
    },
    {
     "name": "stderr",
     "output_type": "stream",
     "text": [
      "/Users/rkp/Dropbox/Repositories/mushroom_mushroom/data.py:618: RuntimeWarning: invalid value encountered in less\n",
      "  down_jumps = cc([[0.], (diff < (-th_jump * x_range)).astype(float)])\n",
      "/Users/rkp/Dropbox/Repositories/mushroom_mushroom/data.py:619: RuntimeWarning: invalid value encountered in greater\n",
      "  up_jumps = cc([[0.], (diff > (th_jump * x_range)).astype(float)])\n"
     ]
    },
    {
     "name": "stdout",
     "output_type": "stream",
     "text": [
      "Cleaned.\n",
      "Cleaning data from trial \"20160524.Fly2.1\".\n",
      "Cleaned.\n",
      "Cleaning data from trial \"20160524.Fly2.2\".\n",
      "Cleaned.\n",
      "Cleaning data from trial \"20160524.Fly2.3\".\n",
      "Cleaned.\n",
      "Cleaning data from trial \"20160524.Fly3.1\".\n",
      "Cleaned.\n",
      "Cleaning data from trial \"20160524.Fly4.1\".\n",
      "Cleaned.\n",
      "Cleaning data from trial \"20160525.Fly1.1\".\n",
      "Cleaned.\n",
      "Cleaning data from trial \"20160525.Fly1.2\".\n",
      "Cleaned.\n",
      "Cleaning data from trial \"20160525.Fly1.3\".\n",
      "Cleaned.\n",
      "Cleaning data from trial \"20160525.Fly2.1\".\n",
      "Cleaned.\n",
      "Cleaning data from trial \"20160525.Fly2.2\".\n",
      "Cleaned.\n",
      "Cleaning data from trial \"20160525.Fly3.1\".\n",
      "Cleaned.\n",
      "Cleaning data from trial \"20160525.Fly3.2\".\n",
      "Cleaned.\n",
      "Cleaning data from trial \"20160525.Fly4.1\".\n",
      "Cleaned.\n",
      "Cleaning data from trial \"20160525.Fly4.2\".\n",
      "Cleaned.\n",
      "Cleaning data from trial \"20160525.Fly5.1\".\n",
      "Cleaned.\n",
      "Cleaning data from trial \"20160525.Fly5.2\".\n",
      "Cleaned.\n",
      "Cleaning data from trial \"20160525.Fly5.3\".\n",
      "Cleaned.\n",
      "Cleaning data from trial \"20160525.Fly6.1\".\n",
      "Cleaned.\n",
      "Cleaning data from trial \"20160525.Fly6.2\".\n",
      "Cleaned.\n",
      "Cleaning data from trial \"20160526.Fly1.1\".\n",
      "Cleaned.\n",
      "Cleaning data from trial \"20160526.Fly2.1\".\n",
      "Cleaned.\n",
      "Cleaning data from trial \"20160531.Fly2.1\".\n",
      "Cleaned.\n",
      "Cleaning data from trial \"20160531.Fly2.2\".\n",
      "Cleaned.\n",
      "Cleaning data from trial \"20160531.Fly2.3\".\n",
      "Cleaned.\n",
      "Cleaning data from trial \"20160601.Fly1.2\".\n",
      "Cleaned.\n",
      "Cleaning data from trial \"20160601.Fly2.1\".\n",
      "Cleaned.\n",
      "Cleaning data from trial \"20160601.Fly4.1\".\n",
      "Cleaned.\n",
      "Cleaning data from trial \"20160614.Fly1.1\".\n",
      "Cleaned.\n",
      "Cleaning data from trial \"20160614.Fly1.2\".\n",
      "Cleaned.\n",
      "Cleaning data from trial \"20160614.Fly1.3\".\n",
      "Cleaned.\n",
      "Cleaning data from trial \"20160614.Fly1.4\".\n",
      "Cleaned.\n",
      "Cleaning data from trial \"20160614.Fly2.1\".\n",
      "Cleaned.\n",
      "Cleaning data from trial \"20160614.Fly2.2\".\n",
      "Cleaned.\n",
      "Cleaning data from trial \"20160614.Fly2.3\".\n",
      "Cleaned.\n",
      "Cleaning data from trial \"20160614.Fly3.1\".\n",
      "Cleaned.\n",
      "Cleaning data from trial \"20160614.Fly3.2\".\n",
      "Cleaned.\n",
      "Cleaning data from trial \"20160614.Fly3.4\".\n",
      "Cleaned.\n",
      "Cleaning data from trial \"20160614.Fly4.1\".\n",
      "Cleaned.\n",
      "Cleaning data from trial \"20160614.Fly4.2\".\n",
      "Cleaned.\n",
      "Cleaning data from trial \"20160628.Fly1.1\".\n",
      "Cleaned.\n",
      "Cleaning data from trial \"20160628.Fly1.2\".\n",
      "Cleaned.\n",
      "Cleaning data from trial \"20160628.Fly1.3\".\n",
      "Cleaned.\n",
      "Cleaning data from trial \"20160628.Fly1.4\".\n",
      "Cleaned.\n",
      "Cleaning data from trial \"20160628.Fly2.1\".\n",
      "Cleaned.\n",
      "Cleaning data from trial \"20160628.Fly2.2\".\n",
      "Cleaned.\n",
      "Cleaning data from trial \"20160628.Fly2.3\".\n",
      "Cleaned.\n",
      "Cleaning data from trial \"20160628.Fly2.4\".\n",
      "Cleaned.\n",
      "Cleaning data from trial \"20160628.Fly3.1\".\n",
      "Cleaned.\n",
      "Cleaning data from trial \"20160628.Fly3.2\".\n",
      "Cleaned.\n",
      "Cleaning data from trial \"20160628.Fly4.1\".\n",
      "Cleaned.\n",
      "Cleaning data from trial \"20160628.Fly4.2\".\n",
      "Cleaned.\n",
      "Cleaning data from trial \"20160628.Fly4.3\".\n",
      "Cleaned.\n",
      "Cleaning data from trial \"20160628.Fly5.1\".\n",
      "Cleaned.\n",
      "Cleaning data from trial \"20160628.Fly5.2\".\n",
      "Cleaned.\n",
      "Cleaning data from trial \"20160628.Fly5.3\".\n",
      "Cleaned.\n"
     ]
    }
   ],
   "source": [
    "clean_and_cache('dan', 'asensory_10_hz')"
   ]
  },
  {
   "cell_type": "code",
   "execution_count": 4,
   "metadata": {
    "collapsed": true
   },
   "outputs": [
    {
     "name": "stdout",
     "output_type": "stream",
     "text": [
      "Cleaning data from trial \"20160904.Fly4.2\".\n",
      "Cleaned.\n",
      "Cleaning data from trial \"20160904.Fly4.3\".\n",
      "Cleaned.\n",
      "Cleaning data from trial \"20160904.Fly4.6\".\n",
      "Cleaned.\n",
      "Cleaning data from trial \"20160904.Fly4.7\".\n",
      "Cleaned.\n",
      "Cleaning data from trial \"20160904.Fly5.3\".\n",
      "Cleaned.\n",
      "Cleaning data from trial \"20160904.Fly5.4\".\n",
      "Cleaned.\n",
      "Cleaning data from trial \"20160904.Fly6.1\".\n",
      "Cleaned.\n",
      "Cleaning data from trial \"20160904.Fly6.2\".\n",
      "Cleaned.\n",
      "Cleaning data from trial \"20160904.Fly6.3\".\n",
      "Cleaned.\n",
      "Cleaning data from trial \"20160904.Fly6.4\".\n",
      "Cleaned.\n",
      "Cleaning data from trial \"20160904.Fly6.7\".\n",
      "Cleaned.\n",
      "Cleaning data from trial \"20160904.Fly6.8\".\n",
      "Cleaned.\n",
      "Cleaning data from trial \"20160905.Fly1.1\".\n",
      "Cleaned.\n",
      "Cleaning data from trial \"20160905.Fly1.2\".\n",
      "Cleaned.\n",
      "Cleaning data from trial \"20160905.Fly1.3\".\n",
      "Cleaned.\n",
      "Cleaning data from trial \"20160905.Fly1.4\".\n",
      "Cleaned.\n",
      "Cleaning data from trial \"20160905.Fly1.5\".\n",
      "Cleaned.\n",
      "Cleaning data from trial \"20160905.Fly1.6\".\n",
      "Cleaned.\n",
      "Cleaning data from trial \"20160905.Fly1.7\".\n",
      "Cleaned.\n",
      "Cleaning data from trial \"20160905.Fly2.1\".\n",
      "Cleaned.\n",
      "Cleaning data from trial \"20160905.Fly2.2\".\n",
      "Cleaned.\n",
      "Cleaning data from trial \"20160905.Fly2.3\".\n",
      "Cleaned.\n",
      "Cleaning data from trial \"20160905.Fly2.4\".\n",
      "Cleaned.\n",
      "Cleaning data from trial \"20160905.Fly4.1\".\n",
      "Cleaned.\n",
      "Cleaning data from trial \"20160905.Fly4.2\".\n",
      "Cleaned.\n",
      "Cleaning data from trial \"20160905.Fly4.3\".\n",
      "Cleaned.\n",
      "Cleaning data from trial \"20160905.Fly4.4\".\n",
      "Cleaned.\n",
      "Cleaning data from trial \"20160905.Fly4.5\".\n",
      "Cleaned.\n",
      "Cleaning data from trial \"20160905.Fly4.6\".\n",
      "Cleaned.\n",
      "Cleaning data from trial \"20160905.Fly4.7\".\n",
      "Cleaned.\n",
      "Cleaning data from trial \"20160905.Fly5.1\".\n",
      "Cleaned.\n",
      "Cleaning data from trial \"20160905.Fly5.2\".\n",
      "Cleaned.\n",
      "Cleaning data from trial \"20160905.Fly5.4\".\n",
      "Cleaned.\n",
      "Cleaning data from trial \"20160905.Fly6.1\".\n",
      "Cleaned.\n",
      "Cleaning data from trial \"20160905.Fly6.2\".\n",
      "Cleaned.\n",
      "Cleaning data from trial \"20160905.Fly6.3\".\n",
      "Cleaned.\n",
      "Cleaning data from trial \"20160905.Fly6.4\".\n",
      "Cleaned.\n",
      "Cleaning data from trial \"20160905.Fly7.1\".\n",
      "Cleaned.\n",
      "Cleaning data from trial \"20160905.Fly7.2\".\n",
      "Cleaned.\n",
      "Cleaning data from trial \"20160905.Fly7.3\".\n",
      "Cleaned.\n",
      "Cleaning data from trial \"20160905.Fly7.4\".\n",
      "Cleaned.\n",
      "Cleaning data from trial \"20160905.Fly7.5\".\n",
      "Cleaned.\n",
      "Cleaning data from trial \"20160905.Fly8.1\".\n",
      "Cleaned.\n",
      "Cleaning data from trial \"20160905.Fly8.2\".\n",
      "Cleaned.\n",
      "Cleaning data from trial \"20160905.Fly8.3\".\n",
      "Cleaned.\n",
      "Cleaning data from trial \"20160905.Fly8.4\".\n",
      "Cleaned.\n",
      "Cleaning data from trial \"20160905.Fly8.5\".\n",
      "Cleaned.\n",
      "Cleaning data from trial \"20160906.Fly1.1\".\n",
      "Cleaned.\n",
      "Cleaning data from trial \"20160906.Fly1.2\".\n",
      "Cleaned.\n",
      "Cleaning data from trial \"20160906.Fly1.3\".\n",
      "Cleaned.\n",
      "Cleaning data from trial \"20160906.Fly1.4\".\n",
      "Cleaned.\n",
      "Cleaning data from trial \"20160906.Fly1.5\".\n",
      "Cleaned.\n",
      "Cleaning data from trial \"20160906.Fly1.6\".\n",
      "Cleaned.\n",
      "Cleaning data from trial \"20160906.Fly1.7\".\n",
      "Cleaned.\n",
      "Cleaning data from trial \"20160906.Fly3.1\".\n",
      "Cleaned.\n",
      "Cleaning data from trial \"20160906.Fly3.2\".\n",
      "Cleaned.\n",
      "Cleaning data from trial \"20160906.Fly3.3\".\n",
      "Cleaned.\n",
      "Cleaning data from trial \"20160906.Fly4.1\".\n",
      "Cleaned.\n",
      "Cleaning data from trial \"20160906.Fly4.2\".\n",
      "Cleaned.\n",
      "Cleaning data from trial \"20160906.Fly6.1\".\n",
      "Cleaned.\n",
      "Cleaning data from trial \"20160906.Fly6.2\".\n",
      "Cleaned.\n",
      "Cleaning data from trial \"20160906.Fly6.3\".\n",
      "Cleaned.\n",
      "Cleaning data from trial \"20160906.Fly6.4\".\n",
      "Cleaned.\n",
      "Cleaning data from trial \"20160906.Fly7.2\".\n",
      "Cleaned.\n",
      "Cleaning data from trial \"20160906.Fly7.3\".\n",
      "Cleaned.\n",
      "Cleaning data from trial \"20160906.Fly8.1\".\n",
      "Cleaned.\n",
      "Cleaning data from trial \"20160906.Fly8.2\".\n",
      "Cleaned.\n",
      "Cleaning data from trial \"20160906.Fly8.3\".\n",
      "Cleaned.\n",
      "Cleaning data from trial \"20160906.Fly8.4\".\n",
      "Cleaned.\n",
      "Cleaning data from trial \"20160906.Fly8.5\".\n",
      "Cleaned.\n",
      "Cleaning data from trial \"20160906.Fly9.1\".\n",
      "Cleaned.\n",
      "Cleaning data from trial \"20160906.Fly9.2\".\n",
      "Cleaned.\n",
      "Cleaning data from trial \"20160906.Fly9.3\".\n",
      "Cleaned.\n",
      "Cleaning data from trial \"20160906.Fly9.4\".\n",
      "Cleaned.\n",
      "Cleaning data from trial \"20160906.Fly9.5\".\n",
      "Cleaned.\n",
      "Cleaning data from trial \"20160906.Fly9.6\".\n",
      "Cleaned.\n",
      "Cleaning data from trial \"20170111.Fly2.2\".\n",
      "Cleaned.\n",
      "Cleaning data from trial \"20170111.Fly2.3\".\n",
      "Cleaned.\n",
      "Cleaning data from trial \"20170111.Fly2.7\".\n",
      "Cleaned.\n",
      "Cleaning data from trial \"20170111.Fly2.8\".\n",
      "Cleaned.\n",
      "Cleaning data from trial \"20170117.Fly1.1\".\n",
      "Cleaned.\n",
      "Cleaning data from trial \"20170117.Fly1.2\".\n",
      "Cleaned.\n",
      "Cleaning data from trial \"20170118.Fly2.1\".\n",
      "Cleaned.\n",
      "Cleaning data from trial \"20170118.Fly2.2\".\n",
      "Cleaned.\n",
      "Cleaning data from trial \"20170118.Fly2.8\".\n",
      "Cleaned.\n",
      "Cleaning data from trial \"20170131.Fly1.1\".\n",
      "Cleaned.\n",
      "Cleaning data from trial \"20170131.Fly1.2\".\n",
      "Cleaned.\n",
      "Cleaning data from trial \"20170131.Fly2.1\".\n",
      "Cleaned.\n",
      "Cleaning data from trial \"20170131.Fly2.2\".\n",
      "Cleaned.\n",
      "Cleaning data from trial \"20170131.Fly2.8\".\n",
      "Cleaned.\n",
      "Cleaning data from trial \"20170201.Fly1.1\".\n",
      "Cleaned.\n",
      "Cleaning data from trial \"20170201.Fly2.1\".\n",
      "Cleaned.\n",
      "Cleaning data from trial \"20170201.Fly2.2\".\n",
      "Cleaned.\n",
      "Cleaning data from trial \"20170201.Fly2.3\".\n",
      "Cleaned.\n",
      "Cleaning data from trial \"20170201.Fly2.4\".\n",
      "Cleaned.\n",
      "Cleaning data from trial \"20170201.Fly4.1\".\n",
      "Cleaned.\n",
      "Cleaning data from trial \"20170201.Fly4.2\".\n",
      "Cleaned.\n",
      "Cleaning data from trial \"20170201.Fly4.3\".\n",
      "Cleaned.\n",
      "Cleaning data from trial \"20170310.Fly2.1\".\n",
      "Cleaned.\n",
      "Cleaning data from trial \"20170310.Fly2.2\".\n",
      "Cleaned.\n",
      "Cleaning data from trial \"20170310.Fly2.6\".\n",
      "Cleaned.\n",
      "Cleaning data from trial \"20170310.Fly3.1\".\n",
      "Cleaned.\n",
      "Cleaning data from trial \"20170310.Fly3.2\".\n",
      "Cleaned.\n",
      "Cleaning data from trial \"20170313.Fly1.1\".\n",
      "Cleaned.\n",
      "Cleaning data from trial \"20170313.Fly1.2\".\n",
      "Cleaned.\n",
      "Cleaning data from trial \"20170313.Fly1.3\".\n",
      "Cleaned.\n",
      "Cleaning data from trial \"20170313.Fly1.4\".\n",
      "Cleaned.\n",
      "Cleaning data from trial \"20170313.Fly1.8\".\n",
      "Cleaned.\n",
      "Cleaning data from trial \"20170313.Fly3.1\".\n",
      "Cleaned.\n",
      "Cleaning data from trial \"20170313.Fly3.2\".\n",
      "Cleaned.\n",
      "Cleaning data from trial \"20170313.Fly3.3\".\n",
      "Cleaned.\n",
      "Cleaning data from trial \"20170330.Fly1.1\".\n",
      "Cleaned.\n",
      "Cleaning data from trial \"20170330.Fly1.2\".\n",
      "Cleaned.\n",
      "Cleaning data from trial \"20170331.Fly1.1\".\n",
      "Cleaned.\n",
      "Cleaning data from trial \"20170331.Fly1.2\".\n",
      "Cleaned.\n",
      "Cleaning data from trial \"20170331.Fly2.4\".\n",
      "Cleaned.\n",
      "Cleaning data from trial \"20170331.Fly3.2\".\n",
      "Cleaned.\n",
      "Cleaning data from trial \"20170428.Fly1.1\".\n",
      "Cleaned.\n",
      "Cleaning data from trial \"20170428.Fly1.2\".\n",
      "Cleaned.\n",
      "Cleaning data from trial \"20170428.Fly1.7\".\n",
      "Cleaned.\n",
      "Cleaning data from trial \"20170428.Fly2.1\".\n",
      "Cleaned.\n",
      "Cleaning data from trial \"20170428.Fly2.2\".\n",
      "Cleaned.\n",
      "Cleaning data from trial \"20170428.Fly2.6\".\n",
      "Cleaned.\n",
      "Cleaning data from trial \"20170428.Fly5.1\".\n",
      "Cleaned.\n",
      "Cleaning data from trial \"20170428.Fly5.2\".\n",
      "Cleaned.\n",
      "Cleaning data from trial \"20170428.Fly5.7\".\n",
      "Cleaned.\n"
     ]
    }
   ],
   "source": [
    "clean_and_cache('dan', 'closed')"
   ]
  },
  {
   "cell_type": "code",
   "execution_count": 5,
   "metadata": {
    "collapsed": true
   },
   "outputs": [
    {
     "name": "stdout",
     "output_type": "stream",
     "text": [
      "Cleaning data from trial \"20170111.Fly2.5\".\n"
     ]
    },
    {
     "name": "stderr",
     "output_type": "stream",
     "text": [
      "/Users/rkp/Dropbox/Repositories/mushroom_mushroom/data.py:618: RuntimeWarning: invalid value encountered in less\n",
      "  down_jumps = cc([[0.], (diff < (-th_jump * x_range)).astype(float)])\n",
      "/Users/rkp/Dropbox/Repositories/mushroom_mushroom/data.py:619: RuntimeWarning: invalid value encountered in greater\n",
      "  up_jumps = cc([[0.], (diff > (th_jump * x_range)).astype(float)])\n"
     ]
    },
    {
     "name": "stdout",
     "output_type": "stream",
     "text": [
      "Cleaned.\n",
      "Cleaning data from trial \"20170111.Fly2.6\".\n",
      "Cleaned.\n",
      "Cleaning data from trial \"20170117.Fly1.3\".\n",
      "Cleaned.\n",
      "Cleaning data from trial \"20170117.Fly1.4\".\n",
      "Cleaned.\n",
      "Cleaning data from trial \"20170117.Fly1.5\".\n",
      "Cleaned.\n",
      "Cleaning data from trial \"20170117.Fly1.6\".\n",
      "Cleaned.\n",
      "Cleaning data from trial \"20170118.Fly2.4\".\n",
      "Cleaned.\n",
      "Cleaning data from trial \"20170118.Fly2.5\".\n",
      "Cleaned.\n",
      "Cleaning data from trial \"20170118.Fly2.6\".\n",
      "Cleaned.\n",
      "Cleaning data from trial \"20170118.Fly2.7\".\n",
      "Cleaned.\n"
     ]
    }
   ],
   "source": [
    "clean_and_cache('dan', 'sinusoidal')"
   ]
  },
  {
   "cell_type": "code",
   "execution_count": 6,
   "metadata": {
    "collapsed": true
   },
   "outputs": [
    {
     "name": "stdout",
     "output_type": "stream",
     "text": [
      "Cleaning data from trial \"20170428.Fly1.4\".\n"
     ]
    },
    {
     "name": "stderr",
     "output_type": "stream",
     "text": [
      "/Users/rkp/Dropbox/Repositories/mushroom_mushroom/data.py:618: RuntimeWarning: invalid value encountered in less\n",
      "  down_jumps = cc([[0.], (diff < (-th_jump * x_range)).astype(float)])\n",
      "/Users/rkp/Dropbox/Repositories/mushroom_mushroom/data.py:619: RuntimeWarning: invalid value encountered in greater\n",
      "  up_jumps = cc([[0.], (diff > (th_jump * x_range)).astype(float)])\n"
     ]
    },
    {
     "name": "stdout",
     "output_type": "stream",
     "text": [
      "Cleaned.\n",
      "Cleaning data from trial \"20170428.Fly1.5\".\n",
      "Cleaned.\n",
      "Cleaning data from trial \"20170428.Fly2.4\".\n",
      "Cleaned.\n",
      "Cleaning data from trial \"20170428.Fly5.4\".\n",
      "Cleaned.\n",
      "Cleaning data from trial \"20170428.Fly5.5\".\n",
      "Cleaned.\n"
     ]
    }
   ],
   "source": [
    "clean_and_cache('dan', 'closed_white')"
   ]
  },
  {
   "cell_type": "code",
   "execution_count": 7,
   "metadata": {
    "collapsed": true
   },
   "outputs": [
    {
     "name": "stdout",
     "output_type": "stream",
     "text": [
      "Cleaning data from trial \"20170310.Fly2.7\".\n"
     ]
    },
    {
     "name": "stderr",
     "output_type": "stream",
     "text": [
      "/Users/rkp/Dropbox/Repositories/mushroom_mushroom/data.py:618: RuntimeWarning: invalid value encountered in less\n",
      "  down_jumps = cc([[0.], (diff < (-th_jump * x_range)).astype(float)])\n",
      "/Users/rkp/Dropbox/Repositories/mushroom_mushroom/data.py:619: RuntimeWarning: invalid value encountered in greater\n",
      "  up_jumps = cc([[0.], (diff > (th_jump * x_range)).astype(float)])\n"
     ]
    },
    {
     "name": "stdout",
     "output_type": "stream",
     "text": [
      "Cleaned.\n",
      "Cleaning data from trial \"20170310.Fly3.5\".\n",
      "Cleaned.\n",
      "Cleaning data from trial \"20170313.Fly1.7\".\n",
      "Cleaned.\n",
      "Cleaning data from trial \"20170313.Fly3.6\".\n",
      "Cleaned.\n",
      "Cleaning data from trial \"20170330.Fly1.3\".\n",
      "Cleaned.\n",
      "Cleaning data from trial \"20170331.Fly1.3\".\n",
      "Cleaned.\n",
      "Cleaning data from trial \"20170331.Fly2.5\".\n",
      "Cleaned.\n",
      "Cleaning data from trial \"20170331.Fly3.3\".\n",
      "Cleaned.\n",
      "Cleaning data from trial \"20170428.Fly1.3\".\n",
      "Cleaned.\n",
      "Cleaning data from trial \"20170428.Fly2.3\".\n",
      "Cleaned.\n",
      "Cleaning data from trial \"20170428.Fly5.3\".\n",
      "Cleaned.\n"
     ]
    }
   ],
   "source": [
    "clean_and_cache('dan', 'no_air_motion')"
   ]
  },
  {
   "cell_type": "code",
   "execution_count": 2,
   "metadata": {
    "collapsed": true
   },
   "outputs": [
    {
     "name": "stdout",
     "output_type": "stream",
     "text": [
      "Cleaning data from trial \"20180116.Fly1.05\".\n"
     ]
    },
    {
     "name": "stderr",
     "output_type": "stream",
     "text": [
      "/Users/rkp/Dropbox/Repositories/mushroom_mushroom/data.py:475: RuntimeWarning: invalid value encountered in less\n",
      "  mask_low = odor_binary < C.ODOR_BINARY_CUTOFF\n",
      "/Users/rkp/Dropbox/Repositories/mushroom_mushroom/data.py:476: RuntimeWarning: invalid value encountered in greater_equal\n",
      "  mask_high = odor_binary >= C.ODOR_BINARY_CUTOFF\n"
     ]
    },
    {
     "name": "stdout",
     "output_type": "stream",
     "text": [
      "Cleaned.\n",
      "Cleaning data from trial \"20180116.Fly2.11\".\n"
     ]
    },
    {
     "name": "stderr",
     "output_type": "stream",
     "text": [
      "/Users/rkp/Dropbox/Repositories/mushroom_mushroom/data.py:475: RuntimeWarning: invalid value encountered in less\n",
      "  mask_low = odor_binary < C.ODOR_BINARY_CUTOFF\n",
      "/Users/rkp/Dropbox/Repositories/mushroom_mushroom/data.py:476: RuntimeWarning: invalid value encountered in greater_equal\n",
      "  mask_high = odor_binary >= C.ODOR_BINARY_CUTOFF\n"
     ]
    },
    {
     "name": "stdout",
     "output_type": "stream",
     "text": [
      "Cleaned.\n",
      "Cleaning data from trial \"20180116.Fly3.21\".\n"
     ]
    },
    {
     "name": "stderr",
     "output_type": "stream",
     "text": [
      "/Users/rkp/Dropbox/Repositories/mushroom_mushroom/data.py:475: RuntimeWarning: invalid value encountered in less\n",
      "  mask_low = odor_binary < C.ODOR_BINARY_CUTOFF\n",
      "/Users/rkp/Dropbox/Repositories/mushroom_mushroom/data.py:476: RuntimeWarning: invalid value encountered in greater_equal\n",
      "  mask_high = odor_binary >= C.ODOR_BINARY_CUTOFF\n"
     ]
    },
    {
     "name": "stdout",
     "output_type": "stream",
     "text": [
      "Cleaned.\n"
     ]
    }
   ],
   "source": [
    "clean_and_cache('dan', 'closed_odor_fluct')"
   ]
  },
  {
   "cell_type": "code",
   "execution_count": 3,
   "metadata": {
    "collapsed": true
   },
   "outputs": [
    {
     "name": "stdout",
     "output_type": "stream",
     "text": [
      "Cleaning data from trial \"20171204.Fly1.02\".\n"
     ]
    },
    {
     "name": "stderr",
     "output_type": "stream",
     "text": [
      "/Users/rkp/Dropbox/Repositories/mushroom_mushroom/data.py:475: RuntimeWarning: invalid value encountered in less\n",
      "  mask_low = odor_binary < C.ODOR_BINARY_CUTOFF\n",
      "/Users/rkp/Dropbox/Repositories/mushroom_mushroom/data.py:476: RuntimeWarning: invalid value encountered in greater_equal\n",
      "  mask_high = odor_binary >= C.ODOR_BINARY_CUTOFF\n",
      "/Users/rkp/Dropbox/Repositories/mushroom_mushroom/data.py:636: RuntimeWarning: invalid value encountered in less\n",
      "  down_jumps = cc([[0.], (diff < (-th_jump * x_range)).astype(float)])\n",
      "/Users/rkp/Dropbox/Repositories/mushroom_mushroom/data.py:637: RuntimeWarning: invalid value encountered in greater\n",
      "  up_jumps = cc([[0.], (diff > (th_jump * x_range)).astype(float)])\n"
     ]
    },
    {
     "name": "stdout",
     "output_type": "stream",
     "text": [
      "Cleaned.\n",
      "Cleaning data from trial \"20180116.Fly1.03\".\n"
     ]
    },
    {
     "name": "stderr",
     "output_type": "stream",
     "text": [
      "/Users/rkp/Dropbox/Repositories/mushroom_mushroom/data.py:475: RuntimeWarning: invalid value encountered in less\n",
      "  mask_low = odor_binary < C.ODOR_BINARY_CUTOFF\n",
      "/Users/rkp/Dropbox/Repositories/mushroom_mushroom/data.py:476: RuntimeWarning: invalid value encountered in greater_equal\n",
      "  mask_high = odor_binary >= C.ODOR_BINARY_CUTOFF\n",
      "/Users/rkp/Dropbox/Repositories/mushroom_mushroom/data.py:636: RuntimeWarning: invalid value encountered in less\n",
      "  down_jumps = cc([[0.], (diff < (-th_jump * x_range)).astype(float)])\n",
      "/Users/rkp/Dropbox/Repositories/mushroom_mushroom/data.py:637: RuntimeWarning: invalid value encountered in greater\n",
      "  up_jumps = cc([[0.], (diff > (th_jump * x_range)).astype(float)])\n"
     ]
    },
    {
     "name": "stdout",
     "output_type": "stream",
     "text": [
      "Cleaned.\n",
      "Cleaning data from trial \"20180116.Fly1.04\".\n"
     ]
    },
    {
     "name": "stderr",
     "output_type": "stream",
     "text": [
      "/Users/rkp/Dropbox/Repositories/mushroom_mushroom/data.py:475: RuntimeWarning: invalid value encountered in less\n",
      "  mask_low = odor_binary < C.ODOR_BINARY_CUTOFF\n",
      "/Users/rkp/Dropbox/Repositories/mushroom_mushroom/data.py:476: RuntimeWarning: invalid value encountered in greater_equal\n",
      "  mask_high = odor_binary >= C.ODOR_BINARY_CUTOFF\n",
      "/Users/rkp/Dropbox/Repositories/mushroom_mushroom/data.py:636: RuntimeWarning: invalid value encountered in less\n",
      "  down_jumps = cc([[0.], (diff < (-th_jump * x_range)).astype(float)])\n",
      "/Users/rkp/Dropbox/Repositories/mushroom_mushroom/data.py:637: RuntimeWarning: invalid value encountered in greater\n",
      "  up_jumps = cc([[0.], (diff > (th_jump * x_range)).astype(float)])\n"
     ]
    },
    {
     "name": "stdout",
     "output_type": "stream",
     "text": [
      "Cleaned.\n",
      "Cleaning data from trial \"20180116.Fly1.06\".\n"
     ]
    },
    {
     "name": "stderr",
     "output_type": "stream",
     "text": [
      "/Users/rkp/Dropbox/Repositories/mushroom_mushroom/data.py:475: RuntimeWarning: invalid value encountered in less\n",
      "  mask_low = odor_binary < C.ODOR_BINARY_CUTOFF\n",
      "/Users/rkp/Dropbox/Repositories/mushroom_mushroom/data.py:476: RuntimeWarning: invalid value encountered in greater_equal\n",
      "  mask_high = odor_binary >= C.ODOR_BINARY_CUTOFF\n",
      "/Users/rkp/Dropbox/Repositories/mushroom_mushroom/data.py:636: RuntimeWarning: invalid value encountered in less\n",
      "  down_jumps = cc([[0.], (diff < (-th_jump * x_range)).astype(float)])\n",
      "/Users/rkp/Dropbox/Repositories/mushroom_mushroom/data.py:637: RuntimeWarning: invalid value encountered in greater\n",
      "  up_jumps = cc([[0.], (diff > (th_jump * x_range)).astype(float)])\n"
     ]
    },
    {
     "name": "stdout",
     "output_type": "stream",
     "text": [
      "Cleaned.\n",
      "Cleaning data from trial \"20180116.Fly1.07\".\n"
     ]
    },
    {
     "name": "stderr",
     "output_type": "stream",
     "text": [
      "/Users/rkp/Dropbox/Repositories/mushroom_mushroom/data.py:475: RuntimeWarning: invalid value encountered in less\n",
      "  mask_low = odor_binary < C.ODOR_BINARY_CUTOFF\n",
      "/Users/rkp/Dropbox/Repositories/mushroom_mushroom/data.py:476: RuntimeWarning: invalid value encountered in greater_equal\n",
      "  mask_high = odor_binary >= C.ODOR_BINARY_CUTOFF\n",
      "/Users/rkp/Dropbox/Repositories/mushroom_mushroom/data.py:636: RuntimeWarning: invalid value encountered in less\n",
      "  down_jumps = cc([[0.], (diff < (-th_jump * x_range)).astype(float)])\n",
      "/Users/rkp/Dropbox/Repositories/mushroom_mushroom/data.py:637: RuntimeWarning: invalid value encountered in greater\n",
      "  up_jumps = cc([[0.], (diff > (th_jump * x_range)).astype(float)])\n"
     ]
    },
    {
     "name": "stdout",
     "output_type": "stream",
     "text": [
      "Cleaned.\n",
      "Cleaning data from trial \"20180116.Fly2.10\".\n"
     ]
    },
    {
     "name": "stderr",
     "output_type": "stream",
     "text": [
      "/Users/rkp/Dropbox/Repositories/mushroom_mushroom/data.py:475: RuntimeWarning: invalid value encountered in less\n",
      "  mask_low = odor_binary < C.ODOR_BINARY_CUTOFF\n",
      "/Users/rkp/Dropbox/Repositories/mushroom_mushroom/data.py:476: RuntimeWarning: invalid value encountered in greater_equal\n",
      "  mask_high = odor_binary >= C.ODOR_BINARY_CUTOFF\n",
      "/Users/rkp/Dropbox/Repositories/mushroom_mushroom/data.py:636: RuntimeWarning: invalid value encountered in less\n",
      "  down_jumps = cc([[0.], (diff < (-th_jump * x_range)).astype(float)])\n",
      "/Users/rkp/Dropbox/Repositories/mushroom_mushroom/data.py:637: RuntimeWarning: invalid value encountered in greater\n",
      "  up_jumps = cc([[0.], (diff > (th_jump * x_range)).astype(float)])\n"
     ]
    },
    {
     "name": "stdout",
     "output_type": "stream",
     "text": [
      "Cleaned.\n",
      "Cleaning data from trial \"20180116.Fly2.12\".\n"
     ]
    },
    {
     "name": "stderr",
     "output_type": "stream",
     "text": [
      "/Users/rkp/Dropbox/Repositories/mushroom_mushroom/data.py:475: RuntimeWarning: invalid value encountered in less\n",
      "  mask_low = odor_binary < C.ODOR_BINARY_CUTOFF\n",
      "/Users/rkp/Dropbox/Repositories/mushroom_mushroom/data.py:476: RuntimeWarning: invalid value encountered in greater_equal\n",
      "  mask_high = odor_binary >= C.ODOR_BINARY_CUTOFF\n",
      "/Users/rkp/Dropbox/Repositories/mushroom_mushroom/data.py:636: RuntimeWarning: invalid value encountered in less\n",
      "  down_jumps = cc([[0.], (diff < (-th_jump * x_range)).astype(float)])\n",
      "/Users/rkp/Dropbox/Repositories/mushroom_mushroom/data.py:637: RuntimeWarning: invalid value encountered in greater\n",
      "  up_jumps = cc([[0.], (diff > (th_jump * x_range)).astype(float)])\n"
     ]
    },
    {
     "name": "stdout",
     "output_type": "stream",
     "text": [
      "Cleaned.\n",
      "Cleaning data from trial \"20180116.Fly2.15\".\n"
     ]
    },
    {
     "name": "stderr",
     "output_type": "stream",
     "text": [
      "/Users/rkp/Dropbox/Repositories/mushroom_mushroom/data.py:475: RuntimeWarning: invalid value encountered in less\n",
      "  mask_low = odor_binary < C.ODOR_BINARY_CUTOFF\n",
      "/Users/rkp/Dropbox/Repositories/mushroom_mushroom/data.py:476: RuntimeWarning: invalid value encountered in greater_equal\n",
      "  mask_high = odor_binary >= C.ODOR_BINARY_CUTOFF\n",
      "/Users/rkp/Dropbox/Repositories/mushroom_mushroom/data.py:636: RuntimeWarning: invalid value encountered in less\n",
      "  down_jumps = cc([[0.], (diff < (-th_jump * x_range)).astype(float)])\n",
      "/Users/rkp/Dropbox/Repositories/mushroom_mushroom/data.py:637: RuntimeWarning: invalid value encountered in greater\n",
      "  up_jumps = cc([[0.], (diff > (th_jump * x_range)).astype(float)])\n"
     ]
    },
    {
     "name": "stdout",
     "output_type": "stream",
     "text": [
      "Cleaned.\n",
      "Cleaning data from trial \"20180116.Fly2.16\".\n"
     ]
    },
    {
     "name": "stderr",
     "output_type": "stream",
     "text": [
      "/Users/rkp/Dropbox/Repositories/mushroom_mushroom/data.py:475: RuntimeWarning: invalid value encountered in less\n",
      "  mask_low = odor_binary < C.ODOR_BINARY_CUTOFF\n",
      "/Users/rkp/Dropbox/Repositories/mushroom_mushroom/data.py:476: RuntimeWarning: invalid value encountered in greater_equal\n",
      "  mask_high = odor_binary >= C.ODOR_BINARY_CUTOFF\n",
      "/Users/rkp/Dropbox/Repositories/mushroom_mushroom/data.py:636: RuntimeWarning: invalid value encountered in less\n",
      "  down_jumps = cc([[0.], (diff < (-th_jump * x_range)).astype(float)])\n",
      "/Users/rkp/Dropbox/Repositories/mushroom_mushroom/data.py:637: RuntimeWarning: invalid value encountered in greater\n",
      "  up_jumps = cc([[0.], (diff > (th_jump * x_range)).astype(float)])\n"
     ]
    },
    {
     "name": "stdout",
     "output_type": "stream",
     "text": [
      "Cleaned.\n",
      "Cleaning data from trial \"20180116.Fly3.19\".\n"
     ]
    },
    {
     "name": "stderr",
     "output_type": "stream",
     "text": [
      "/Users/rkp/Dropbox/Repositories/mushroom_mushroom/data.py:475: RuntimeWarning: invalid value encountered in less\n",
      "  mask_low = odor_binary < C.ODOR_BINARY_CUTOFF\n",
      "/Users/rkp/Dropbox/Repositories/mushroom_mushroom/data.py:476: RuntimeWarning: invalid value encountered in greater_equal\n",
      "  mask_high = odor_binary >= C.ODOR_BINARY_CUTOFF\n",
      "/Users/rkp/Dropbox/Repositories/mushroom_mushroom/data.py:636: RuntimeWarning: invalid value encountered in less\n",
      "  down_jumps = cc([[0.], (diff < (-th_jump * x_range)).astype(float)])\n",
      "/Users/rkp/Dropbox/Repositories/mushroom_mushroom/data.py:637: RuntimeWarning: invalid value encountered in greater\n",
      "  up_jumps = cc([[0.], (diff > (th_jump * x_range)).astype(float)])\n"
     ]
    },
    {
     "name": "stdout",
     "output_type": "stream",
     "text": [
      "Cleaned.\n",
      "Cleaning data from trial \"20180116.Fly3.20\".\n"
     ]
    },
    {
     "name": "stderr",
     "output_type": "stream",
     "text": [
      "/Users/rkp/Dropbox/Repositories/mushroom_mushroom/data.py:475: RuntimeWarning: invalid value encountered in less\n",
      "  mask_low = odor_binary < C.ODOR_BINARY_CUTOFF\n",
      "/Users/rkp/Dropbox/Repositories/mushroom_mushroom/data.py:476: RuntimeWarning: invalid value encountered in greater_equal\n",
      "  mask_high = odor_binary >= C.ODOR_BINARY_CUTOFF\n",
      "/Users/rkp/Dropbox/Repositories/mushroom_mushroom/data.py:636: RuntimeWarning: invalid value encountered in less\n",
      "  down_jumps = cc([[0.], (diff < (-th_jump * x_range)).astype(float)])\n",
      "/Users/rkp/Dropbox/Repositories/mushroom_mushroom/data.py:637: RuntimeWarning: invalid value encountered in greater\n",
      "  up_jumps = cc([[0.], (diff > (th_jump * x_range)).astype(float)])\n"
     ]
    },
    {
     "name": "stdout",
     "output_type": "stream",
     "text": [
      "Cleaned.\n",
      "Cleaning data from trial \"20180116.Fly3.22\".\n"
     ]
    },
    {
     "name": "stderr",
     "output_type": "stream",
     "text": [
      "/Users/rkp/Dropbox/Repositories/mushroom_mushroom/data.py:475: RuntimeWarning: invalid value encountered in less\n",
      "  mask_low = odor_binary < C.ODOR_BINARY_CUTOFF\n",
      "/Users/rkp/Dropbox/Repositories/mushroom_mushroom/data.py:476: RuntimeWarning: invalid value encountered in greater_equal\n",
      "  mask_high = odor_binary >= C.ODOR_BINARY_CUTOFF\n",
      "/Users/rkp/Dropbox/Repositories/mushroom_mushroom/data.py:636: RuntimeWarning: invalid value encountered in less\n",
      "  down_jumps = cc([[0.], (diff < (-th_jump * x_range)).astype(float)])\n",
      "/Users/rkp/Dropbox/Repositories/mushroom_mushroom/data.py:637: RuntimeWarning: invalid value encountered in greater\n",
      "  up_jumps = cc([[0.], (diff > (th_jump * x_range)).astype(float)])\n"
     ]
    },
    {
     "name": "stdout",
     "output_type": "stream",
     "text": [
      "Cleaned.\n",
      "Cleaning data from trial \"20180116.Fly3.23\".\n"
     ]
    },
    {
     "name": "stderr",
     "output_type": "stream",
     "text": [
      "/Users/rkp/Dropbox/Repositories/mushroom_mushroom/data.py:475: RuntimeWarning: invalid value encountered in less\n",
      "  mask_low = odor_binary < C.ODOR_BINARY_CUTOFF\n",
      "/Users/rkp/Dropbox/Repositories/mushroom_mushroom/data.py:476: RuntimeWarning: invalid value encountered in greater_equal\n",
      "  mask_high = odor_binary >= C.ODOR_BINARY_CUTOFF\n",
      "/Users/rkp/Dropbox/Repositories/mushroom_mushroom/data.py:636: RuntimeWarning: invalid value encountered in less\n",
      "  down_jumps = cc([[0.], (diff < (-th_jump * x_range)).astype(float)])\n",
      "/Users/rkp/Dropbox/Repositories/mushroom_mushroom/data.py:637: RuntimeWarning: invalid value encountered in greater\n",
      "  up_jumps = cc([[0.], (diff > (th_jump * x_range)).astype(float)])\n"
     ]
    },
    {
     "name": "stdout",
     "output_type": "stream",
     "text": [
      "Cleaned.\n"
     ]
    }
   ],
   "source": [
    "clean_and_cache('dan', 'white_odor_fluct')"
   ]
  },
  {
   "cell_type": "code",
   "execution_count": 4,
   "metadata": {
    "collapsed": true
   },
   "outputs": [],
   "source": [
    "clean_and_cache('dan', 'no_air')"
   ]
  },
  {
   "cell_type": "code",
   "execution_count": 3,
   "metadata": {
    "collapsed": true
   },
   "outputs": [
    {
     "name": "stdout",
     "output_type": "stream",
     "text": [
      "Cleaning data from trial \"20180116.Fly1.02\".\n"
     ]
    },
    {
     "name": "stderr",
     "output_type": "stream",
     "text": [
      "/Users/rkp/Dropbox/Repositories/mushroom_mushroom/data.py:475: RuntimeWarning: invalid value encountered in less\n",
      "  mask_low = odor_binary < C.ODOR_BINARY_CUTOFF\n",
      "/Users/rkp/Dropbox/Repositories/mushroom_mushroom/data.py:476: RuntimeWarning: invalid value encountered in greater_equal\n",
      "  mask_high = odor_binary >= C.ODOR_BINARY_CUTOFF\n",
      "/Users/rkp/Dropbox/Repositories/mushroom_mushroom/data.py:636: RuntimeWarning: invalid value encountered in less\n",
      "  down_jumps = cc([[0.], (diff < (-th_jump * x_range)).astype(float)])\n",
      "/Users/rkp/Dropbox/Repositories/mushroom_mushroom/data.py:637: RuntimeWarning: invalid value encountered in greater\n",
      "  up_jumps = cc([[0.], (diff > (th_jump * x_range)).astype(float)])\n"
     ]
    },
    {
     "name": "stdout",
     "output_type": "stream",
     "text": [
      "Cleaned.\n",
      "Cleaning data from trial \"20180116.Fly2.09\".\n",
      "Cleaned.\n",
      "Cleaning data from trial \"20180116.Fly2.14\".\n",
      "Cleaned.\n",
      "Cleaning data from trial \"20180116.Fly3.18\".\n",
      "Cleaned.\n"
     ]
    }
   ],
   "source": [
    "clean_and_cache('dan', 'single_pulse')"
   ]
  },
  {
   "cell_type": "code",
   "execution_count": 2,
   "metadata": {
    "collapsed": true
   },
   "outputs": [
    {
     "name": "stdout",
     "output_type": "stream",
     "text": [
      "Cleaning data from trial \"20171220.Fly3.06\".\n"
     ]
    },
    {
     "name": "stderr",
     "output_type": "stream",
     "text": [
      "/Users/rkp/Dropbox/Repositories/mushroom_mushroom/data.py:475: RuntimeWarning: invalid value encountered in less\n",
      "  mask_low = odor_binary < C.ODOR_BINARY_CUTOFF\n",
      "/Users/rkp/Dropbox/Repositories/mushroom_mushroom/data.py:476: RuntimeWarning: invalid value encountered in greater_equal\n",
      "  mask_high = odor_binary >= C.ODOR_BINARY_CUTOFF\n"
     ]
    },
    {
     "name": "stdout",
     "output_type": "stream",
     "text": [
      "Cleaned.\n",
      "Cleaning data from trial \"20171220.Fly3.07\".\n"
     ]
    },
    {
     "name": "stderr",
     "output_type": "stream",
     "text": [
      "/Users/rkp/Dropbox/Repositories/mushroom_mushroom/data.py:475: RuntimeWarning: invalid value encountered in less\n",
      "  mask_low = odor_binary < C.ODOR_BINARY_CUTOFF\n",
      "/Users/rkp/Dropbox/Repositories/mushroom_mushroom/data.py:476: RuntimeWarning: invalid value encountered in greater_equal\n",
      "  mask_high = odor_binary >= C.ODOR_BINARY_CUTOFF\n"
     ]
    },
    {
     "name": "stdout",
     "output_type": "stream",
     "text": [
      "Cleaned.\n",
      "Cleaning data from trial \"20171220.Fly3.12\".\n"
     ]
    },
    {
     "name": "stderr",
     "output_type": "stream",
     "text": [
      "/Users/rkp/Dropbox/Repositories/mushroom_mushroom/data.py:475: RuntimeWarning: invalid value encountered in less\n",
      "  mask_low = odor_binary < C.ODOR_BINARY_CUTOFF\n",
      "/Users/rkp/Dropbox/Repositories/mushroom_mushroom/data.py:476: RuntimeWarning: invalid value encountered in greater_equal\n",
      "  mask_high = odor_binary >= C.ODOR_BINARY_CUTOFF\n"
     ]
    },
    {
     "name": "stdout",
     "output_type": "stream",
     "text": [
      "Cleaned.\n",
      "Cleaning data from trial \"20171220.Fly3.13\".\n"
     ]
    },
    {
     "name": "stderr",
     "output_type": "stream",
     "text": [
      "/Users/rkp/Dropbox/Repositories/mushroom_mushroom/data.py:475: RuntimeWarning: invalid value encountered in less\n",
      "  mask_low = odor_binary < C.ODOR_BINARY_CUTOFF\n",
      "/Users/rkp/Dropbox/Repositories/mushroom_mushroom/data.py:476: RuntimeWarning: invalid value encountered in greater_equal\n",
      "  mask_high = odor_binary >= C.ODOR_BINARY_CUTOFF\n"
     ]
    },
    {
     "name": "stdout",
     "output_type": "stream",
     "text": [
      "Cleaned.\n",
      "Cleaning data from trial \"20171220.Fly3.15\".\n"
     ]
    },
    {
     "name": "stderr",
     "output_type": "stream",
     "text": [
      "/Users/rkp/Dropbox/Repositories/mushroom_mushroom/data.py:475: RuntimeWarning: invalid value encountered in less\n",
      "  mask_low = odor_binary < C.ODOR_BINARY_CUTOFF\n",
      "/Users/rkp/Dropbox/Repositories/mushroom_mushroom/data.py:476: RuntimeWarning: invalid value encountered in greater_equal\n",
      "  mask_high = odor_binary >= C.ODOR_BINARY_CUTOFF\n"
     ]
    },
    {
     "name": "stdout",
     "output_type": "stream",
     "text": [
      "Cleaned.\n",
      "Cleaning data from trial \"20171220.Fly3.16\".\n"
     ]
    },
    {
     "name": "stderr",
     "output_type": "stream",
     "text": [
      "/Users/rkp/Dropbox/Repositories/mushroom_mushroom/data.py:475: RuntimeWarning: invalid value encountered in less\n",
      "  mask_low = odor_binary < C.ODOR_BINARY_CUTOFF\n",
      "/Users/rkp/Dropbox/Repositories/mushroom_mushroom/data.py:476: RuntimeWarning: invalid value encountered in greater_equal\n",
      "  mask_high = odor_binary >= C.ODOR_BINARY_CUTOFF\n"
     ]
    },
    {
     "name": "stdout",
     "output_type": "stream",
     "text": [
      "Cleaned.\n",
      "Cleaning data from trial \"20171220.Fly3.18\".\n"
     ]
    },
    {
     "name": "stderr",
     "output_type": "stream",
     "text": [
      "/Users/rkp/Dropbox/Repositories/mushroom_mushroom/data.py:475: RuntimeWarning: invalid value encountered in less\n",
      "  mask_low = odor_binary < C.ODOR_BINARY_CUTOFF\n",
      "/Users/rkp/Dropbox/Repositories/mushroom_mushroom/data.py:476: RuntimeWarning: invalid value encountered in greater_equal\n",
      "  mask_high = odor_binary >= C.ODOR_BINARY_CUTOFF\n"
     ]
    },
    {
     "name": "stdout",
     "output_type": "stream",
     "text": [
      "Cleaned.\n",
      "Cleaning data from trial \"20171220.Fly4.21\".\n"
     ]
    },
    {
     "name": "stderr",
     "output_type": "stream",
     "text": [
      "/Users/rkp/Dropbox/Repositories/mushroom_mushroom/data.py:475: RuntimeWarning: invalid value encountered in less\n",
      "  mask_low = odor_binary < C.ODOR_BINARY_CUTOFF\n",
      "/Users/rkp/Dropbox/Repositories/mushroom_mushroom/data.py:476: RuntimeWarning: invalid value encountered in greater_equal\n",
      "  mask_high = odor_binary >= C.ODOR_BINARY_CUTOFF\n"
     ]
    },
    {
     "name": "stdout",
     "output_type": "stream",
     "text": [
      "Cleaned.\n",
      "Cleaning data from trial \"20171220.Fly4.23\".\n"
     ]
    },
    {
     "name": "stderr",
     "output_type": "stream",
     "text": [
      "/Users/rkp/Dropbox/Repositories/mushroom_mushroom/data.py:475: RuntimeWarning: invalid value encountered in less\n",
      "  mask_low = odor_binary < C.ODOR_BINARY_CUTOFF\n",
      "/Users/rkp/Dropbox/Repositories/mushroom_mushroom/data.py:476: RuntimeWarning: invalid value encountered in greater_equal\n",
      "  mask_high = odor_binary >= C.ODOR_BINARY_CUTOFF\n"
     ]
    },
    {
     "name": "stdout",
     "output_type": "stream",
     "text": [
      "Cleaned.\n",
      "Cleaning data from trial \"20171220.Fly4.26\".\n"
     ]
    },
    {
     "name": "stderr",
     "output_type": "stream",
     "text": [
      "/Users/rkp/Dropbox/Repositories/mushroom_mushroom/data.py:475: RuntimeWarning: invalid value encountered in less\n",
      "  mask_low = odor_binary < C.ODOR_BINARY_CUTOFF\n",
      "/Users/rkp/Dropbox/Repositories/mushroom_mushroom/data.py:476: RuntimeWarning: invalid value encountered in greater_equal\n",
      "  mask_high = odor_binary >= C.ODOR_BINARY_CUTOFF\n"
     ]
    },
    {
     "name": "stdout",
     "output_type": "stream",
     "text": [
      "Cleaned.\n",
      "Cleaning data from trial \"20180126.Fly1.03\".\n"
     ]
    },
    {
     "name": "stderr",
     "output_type": "stream",
     "text": [
      "/Users/rkp/Dropbox/Repositories/mushroom_mushroom/data.py:475: RuntimeWarning: invalid value encountered in less\n",
      "  mask_low = odor_binary < C.ODOR_BINARY_CUTOFF\n",
      "/Users/rkp/Dropbox/Repositories/mushroom_mushroom/data.py:476: RuntimeWarning: invalid value encountered in greater_equal\n",
      "  mask_high = odor_binary >= C.ODOR_BINARY_CUTOFF\n"
     ]
    },
    {
     "name": "stdout",
     "output_type": "stream",
     "text": [
      "Cleaned.\n",
      "Cleaning data from trial \"20180126.Fly2.06\".\n"
     ]
    },
    {
     "name": "stderr",
     "output_type": "stream",
     "text": [
      "/Users/rkp/Dropbox/Repositories/mushroom_mushroom/data.py:475: RuntimeWarning: invalid value encountered in less\n",
      "  mask_low = odor_binary < C.ODOR_BINARY_CUTOFF\n",
      "/Users/rkp/Dropbox/Repositories/mushroom_mushroom/data.py:476: RuntimeWarning: invalid value encountered in greater_equal\n",
      "  mask_high = odor_binary >= C.ODOR_BINARY_CUTOFF\n"
     ]
    },
    {
     "name": "stdout",
     "output_type": "stream",
     "text": [
      "Cleaned.\n",
      "Cleaning data from trial \"20180126.Fly2.08\".\n"
     ]
    },
    {
     "name": "stderr",
     "output_type": "stream",
     "text": [
      "/Users/rkp/Dropbox/Repositories/mushroom_mushroom/data.py:475: RuntimeWarning: invalid value encountered in less\n",
      "  mask_low = odor_binary < C.ODOR_BINARY_CUTOFF\n",
      "/Users/rkp/Dropbox/Repositories/mushroom_mushroom/data.py:476: RuntimeWarning: invalid value encountered in greater_equal\n",
      "  mask_high = odor_binary >= C.ODOR_BINARY_CUTOFF\n"
     ]
    },
    {
     "name": "stdout",
     "output_type": "stream",
     "text": [
      "Cleaned.\n",
      "Cleaning data from trial \"20180126.Fly2.10\".\n"
     ]
    },
    {
     "name": "stderr",
     "output_type": "stream",
     "text": [
      "/Users/rkp/Dropbox/Repositories/mushroom_mushroom/data.py:475: RuntimeWarning: invalid value encountered in less\n",
      "  mask_low = odor_binary < C.ODOR_BINARY_CUTOFF\n",
      "/Users/rkp/Dropbox/Repositories/mushroom_mushroom/data.py:476: RuntimeWarning: invalid value encountered in greater_equal\n",
      "  mask_high = odor_binary >= C.ODOR_BINARY_CUTOFF\n"
     ]
    },
    {
     "name": "stdout",
     "output_type": "stream",
     "text": [
      "Cleaned.\n",
      "Cleaning data from trial \"20180126.Fly3.14\".\n"
     ]
    },
    {
     "name": "stderr",
     "output_type": "stream",
     "text": [
      "/Users/rkp/Dropbox/Repositories/mushroom_mushroom/data.py:475: RuntimeWarning: invalid value encountered in less\n",
      "  mask_low = odor_binary < C.ODOR_BINARY_CUTOFF\n",
      "/Users/rkp/Dropbox/Repositories/mushroom_mushroom/data.py:476: RuntimeWarning: invalid value encountered in greater_equal\n",
      "  mask_high = odor_binary >= C.ODOR_BINARY_CUTOFF\n"
     ]
    },
    {
     "name": "stdout",
     "output_type": "stream",
     "text": [
      "Cleaned.\n",
      "Cleaning data from trial \"20180126.Fly3.16\".\n"
     ]
    },
    {
     "name": "stderr",
     "output_type": "stream",
     "text": [
      "/Users/rkp/Dropbox/Repositories/mushroom_mushroom/data.py:475: RuntimeWarning: invalid value encountered in less\n",
      "  mask_low = odor_binary < C.ODOR_BINARY_CUTOFF\n",
      "/Users/rkp/Dropbox/Repositories/mushroom_mushroom/data.py:476: RuntimeWarning: invalid value encountered in greater_equal\n",
      "  mask_high = odor_binary >= C.ODOR_BINARY_CUTOFF\n"
     ]
    },
    {
     "name": "stdout",
     "output_type": "stream",
     "text": [
      "Cleaned.\n",
      "Cleaning data from trial \"20180126.Fly3.20\".\n"
     ]
    },
    {
     "name": "stderr",
     "output_type": "stream",
     "text": [
      "/Users/rkp/Dropbox/Repositories/mushroom_mushroom/data.py:475: RuntimeWarning: invalid value encountered in less\n",
      "  mask_low = odor_binary < C.ODOR_BINARY_CUTOFF\n",
      "/Users/rkp/Dropbox/Repositories/mushroom_mushroom/data.py:476: RuntimeWarning: invalid value encountered in greater_equal\n",
      "  mask_high = odor_binary >= C.ODOR_BINARY_CUTOFF\n"
     ]
    },
    {
     "name": "stdout",
     "output_type": "stream",
     "text": [
      "Cleaned.\n",
      "Cleaning data from trial \"20180126.Fly4.22\".\n"
     ]
    },
    {
     "name": "stderr",
     "output_type": "stream",
     "text": [
      "/Users/rkp/Dropbox/Repositories/mushroom_mushroom/data.py:475: RuntimeWarning: invalid value encountered in less\n",
      "  mask_low = odor_binary < C.ODOR_BINARY_CUTOFF\n",
      "/Users/rkp/Dropbox/Repositories/mushroom_mushroom/data.py:476: RuntimeWarning: invalid value encountered in greater_equal\n",
      "  mask_high = odor_binary >= C.ODOR_BINARY_CUTOFF\n"
     ]
    },
    {
     "name": "stdout",
     "output_type": "stream",
     "text": [
      "Cleaned.\n",
      "Cleaning data from trial \"20180126.Fly4.25\".\n"
     ]
    },
    {
     "name": "stderr",
     "output_type": "stream",
     "text": [
      "/Users/rkp/Dropbox/Repositories/mushroom_mushroom/data.py:475: RuntimeWarning: invalid value encountered in less\n",
      "  mask_low = odor_binary < C.ODOR_BINARY_CUTOFF\n",
      "/Users/rkp/Dropbox/Repositories/mushroom_mushroom/data.py:476: RuntimeWarning: invalid value encountered in greater_equal\n",
      "  mask_high = odor_binary >= C.ODOR_BINARY_CUTOFF\n"
     ]
    },
    {
     "name": "stdout",
     "output_type": "stream",
     "text": [
      "Cleaned.\n",
      "Cleaning data from trial \"20180126.Fly4.27\".\n"
     ]
    },
    {
     "name": "stderr",
     "output_type": "stream",
     "text": [
      "/Users/rkp/Dropbox/Repositories/mushroom_mushroom/data.py:475: RuntimeWarning: invalid value encountered in less\n",
      "  mask_low = odor_binary < C.ODOR_BINARY_CUTOFF\n",
      "/Users/rkp/Dropbox/Repositories/mushroom_mushroom/data.py:476: RuntimeWarning: invalid value encountered in greater_equal\n",
      "  mask_high = odor_binary >= C.ODOR_BINARY_CUTOFF\n"
     ]
    },
    {
     "name": "stdout",
     "output_type": "stream",
     "text": [
      "Cleaned.\n",
      "Cleaning data from trial \"20180126.Fly5.31\".\n"
     ]
    },
    {
     "name": "stderr",
     "output_type": "stream",
     "text": [
      "/Users/rkp/Dropbox/Repositories/mushroom_mushroom/data.py:475: RuntimeWarning: invalid value encountered in less\n",
      "  mask_low = odor_binary < C.ODOR_BINARY_CUTOFF\n",
      "/Users/rkp/Dropbox/Repositories/mushroom_mushroom/data.py:476: RuntimeWarning: invalid value encountered in greater_equal\n",
      "  mask_high = odor_binary >= C.ODOR_BINARY_CUTOFF\n"
     ]
    },
    {
     "name": "stdout",
     "output_type": "stream",
     "text": [
      "Cleaned.\n"
     ]
    }
   ],
   "source": [
    "clean_and_cache('mbon', 'closed_odor_fluct')"
   ]
  },
  {
   "cell_type": "code",
   "execution_count": 3,
   "metadata": {
    "collapsed": true
   },
   "outputs": [
    {
     "name": "stdout",
     "output_type": "stream",
     "text": [
      "Cleaning data from trial \"20171220.Fly3.05\".\n"
     ]
    },
    {
     "name": "stderr",
     "output_type": "stream",
     "text": [
      "/Users/rkp/Dropbox/Repositories/mushroom_mushroom/data.py:475: RuntimeWarning: invalid value encountered in less\n",
      "  mask_low = odor_binary < C.ODOR_BINARY_CUTOFF\n",
      "/Users/rkp/Dropbox/Repositories/mushroom_mushroom/data.py:476: RuntimeWarning: invalid value encountered in greater_equal\n",
      "  mask_high = odor_binary >= C.ODOR_BINARY_CUTOFF\n",
      "/Users/rkp/Dropbox/Repositories/mushroom_mushroom/data.py:636: RuntimeWarning: invalid value encountered in less\n",
      "  down_jumps = cc([[0.], (diff < (-th_jump * x_range)).astype(float)])\n",
      "/Users/rkp/Dropbox/Repositories/mushroom_mushroom/data.py:637: RuntimeWarning: invalid value encountered in greater\n",
      "  up_jumps = cc([[0.], (diff > (th_jump * x_range)).astype(float)])\n"
     ]
    },
    {
     "name": "stdout",
     "output_type": "stream",
     "text": [
      "Cleaned.\n",
      "Cleaning data from trial \"20171220.Fly3.08\".\n"
     ]
    },
    {
     "name": "stderr",
     "output_type": "stream",
     "text": [
      "/Users/rkp/Dropbox/Repositories/mushroom_mushroom/data.py:475: RuntimeWarning: invalid value encountered in less\n",
      "  mask_low = odor_binary < C.ODOR_BINARY_CUTOFF\n",
      "/Users/rkp/Dropbox/Repositories/mushroom_mushroom/data.py:476: RuntimeWarning: invalid value encountered in greater_equal\n",
      "  mask_high = odor_binary >= C.ODOR_BINARY_CUTOFF\n",
      "/Users/rkp/Dropbox/Repositories/mushroom_mushroom/data.py:636: RuntimeWarning: invalid value encountered in less\n",
      "  down_jumps = cc([[0.], (diff < (-th_jump * x_range)).astype(float)])\n",
      "/Users/rkp/Dropbox/Repositories/mushroom_mushroom/data.py:637: RuntimeWarning: invalid value encountered in greater\n",
      "  up_jumps = cc([[0.], (diff > (th_jump * x_range)).astype(float)])\n"
     ]
    },
    {
     "name": "stdout",
     "output_type": "stream",
     "text": [
      "Cleaned.\n",
      "Cleaning data from trial \"20171220.Fly3.09\".\n"
     ]
    },
    {
     "name": "stderr",
     "output_type": "stream",
     "text": [
      "/Users/rkp/Dropbox/Repositories/mushroom_mushroom/data.py:475: RuntimeWarning: invalid value encountered in less\n",
      "  mask_low = odor_binary < C.ODOR_BINARY_CUTOFF\n",
      "/Users/rkp/Dropbox/Repositories/mushroom_mushroom/data.py:476: RuntimeWarning: invalid value encountered in greater_equal\n",
      "  mask_high = odor_binary >= C.ODOR_BINARY_CUTOFF\n",
      "/Users/rkp/Dropbox/Repositories/mushroom_mushroom/data.py:636: RuntimeWarning: invalid value encountered in less\n",
      "  down_jumps = cc([[0.], (diff < (-th_jump * x_range)).astype(float)])\n",
      "/Users/rkp/Dropbox/Repositories/mushroom_mushroom/data.py:637: RuntimeWarning: invalid value encountered in greater\n",
      "  up_jumps = cc([[0.], (diff > (th_jump * x_range)).astype(float)])\n"
     ]
    },
    {
     "name": "stdout",
     "output_type": "stream",
     "text": [
      "Cleaned.\n",
      "Cleaning data from trial \"20171220.Fly3.10\".\n"
     ]
    },
    {
     "name": "stderr",
     "output_type": "stream",
     "text": [
      "/Users/rkp/Dropbox/Repositories/mushroom_mushroom/data.py:475: RuntimeWarning: invalid value encountered in less\n",
      "  mask_low = odor_binary < C.ODOR_BINARY_CUTOFF\n",
      "/Users/rkp/Dropbox/Repositories/mushroom_mushroom/data.py:476: RuntimeWarning: invalid value encountered in greater_equal\n",
      "  mask_high = odor_binary >= C.ODOR_BINARY_CUTOFF\n",
      "/Users/rkp/Dropbox/Repositories/mushroom_mushroom/data.py:636: RuntimeWarning: invalid value encountered in less\n",
      "  down_jumps = cc([[0.], (diff < (-th_jump * x_range)).astype(float)])\n",
      "/Users/rkp/Dropbox/Repositories/mushroom_mushroom/data.py:637: RuntimeWarning: invalid value encountered in greater\n",
      "  up_jumps = cc([[0.], (diff > (th_jump * x_range)).astype(float)])\n"
     ]
    },
    {
     "name": "stdout",
     "output_type": "stream",
     "text": [
      "Cleaned.\n",
      "Cleaning data from trial \"20171220.Fly3.11\".\n"
     ]
    },
    {
     "name": "stderr",
     "output_type": "stream",
     "text": [
      "/Users/rkp/Dropbox/Repositories/mushroom_mushroom/data.py:475: RuntimeWarning: invalid value encountered in less\n",
      "  mask_low = odor_binary < C.ODOR_BINARY_CUTOFF\n",
      "/Users/rkp/Dropbox/Repositories/mushroom_mushroom/data.py:476: RuntimeWarning: invalid value encountered in greater_equal\n",
      "  mask_high = odor_binary >= C.ODOR_BINARY_CUTOFF\n",
      "/Users/rkp/Dropbox/Repositories/mushroom_mushroom/data.py:636: RuntimeWarning: invalid value encountered in less\n",
      "  down_jumps = cc([[0.], (diff < (-th_jump * x_range)).astype(float)])\n",
      "/Users/rkp/Dropbox/Repositories/mushroom_mushroom/data.py:637: RuntimeWarning: invalid value encountered in greater\n",
      "  up_jumps = cc([[0.], (diff > (th_jump * x_range)).astype(float)])\n"
     ]
    },
    {
     "name": "stdout",
     "output_type": "stream",
     "text": [
      "Cleaned.\n",
      "Cleaning data from trial \"20171220.Fly3.14\".\n"
     ]
    },
    {
     "name": "stderr",
     "output_type": "stream",
     "text": [
      "/Users/rkp/Dropbox/Repositories/mushroom_mushroom/data.py:475: RuntimeWarning: invalid value encountered in less\n",
      "  mask_low = odor_binary < C.ODOR_BINARY_CUTOFF\n",
      "/Users/rkp/Dropbox/Repositories/mushroom_mushroom/data.py:476: RuntimeWarning: invalid value encountered in greater_equal\n",
      "  mask_high = odor_binary >= C.ODOR_BINARY_CUTOFF\n",
      "/Users/rkp/Dropbox/Repositories/mushroom_mushroom/data.py:636: RuntimeWarning: invalid value encountered in less\n",
      "  down_jumps = cc([[0.], (diff < (-th_jump * x_range)).astype(float)])\n",
      "/Users/rkp/Dropbox/Repositories/mushroom_mushroom/data.py:637: RuntimeWarning: invalid value encountered in greater\n",
      "  up_jumps = cc([[0.], (diff > (th_jump * x_range)).astype(float)])\n"
     ]
    },
    {
     "name": "stdout",
     "output_type": "stream",
     "text": [
      "Cleaned.\n",
      "Cleaning data from trial \"20171220.Fly3.17\".\n"
     ]
    },
    {
     "name": "stderr",
     "output_type": "stream",
     "text": [
      "/Users/rkp/Dropbox/Repositories/mushroom_mushroom/data.py:475: RuntimeWarning: invalid value encountered in less\n",
      "  mask_low = odor_binary < C.ODOR_BINARY_CUTOFF\n",
      "/Users/rkp/Dropbox/Repositories/mushroom_mushroom/data.py:476: RuntimeWarning: invalid value encountered in greater_equal\n",
      "  mask_high = odor_binary >= C.ODOR_BINARY_CUTOFF\n",
      "/Users/rkp/Dropbox/Repositories/mushroom_mushroom/data.py:636: RuntimeWarning: invalid value encountered in less\n",
      "  down_jumps = cc([[0.], (diff < (-th_jump * x_range)).astype(float)])\n",
      "/Users/rkp/Dropbox/Repositories/mushroom_mushroom/data.py:637: RuntimeWarning: invalid value encountered in greater\n",
      "  up_jumps = cc([[0.], (diff > (th_jump * x_range)).astype(float)])\n"
     ]
    },
    {
     "name": "stdout",
     "output_type": "stream",
     "text": [
      "Cleaned.\n",
      "Cleaning data from trial \"20171220.Fly3.19\".\n"
     ]
    },
    {
     "name": "stderr",
     "output_type": "stream",
     "text": [
      "/Users/rkp/Dropbox/Repositories/mushroom_mushroom/data.py:475: RuntimeWarning: invalid value encountered in less\n",
      "  mask_low = odor_binary < C.ODOR_BINARY_CUTOFF\n",
      "/Users/rkp/Dropbox/Repositories/mushroom_mushroom/data.py:476: RuntimeWarning: invalid value encountered in greater_equal\n",
      "  mask_high = odor_binary >= C.ODOR_BINARY_CUTOFF\n",
      "/Users/rkp/Dropbox/Repositories/mushroom_mushroom/data.py:636: RuntimeWarning: invalid value encountered in less\n",
      "  down_jumps = cc([[0.], (diff < (-th_jump * x_range)).astype(float)])\n",
      "/Users/rkp/Dropbox/Repositories/mushroom_mushroom/data.py:637: RuntimeWarning: invalid value encountered in greater\n",
      "  up_jumps = cc([[0.], (diff > (th_jump * x_range)).astype(float)])\n"
     ]
    },
    {
     "name": "stdout",
     "output_type": "stream",
     "text": [
      "Cleaned.\n",
      "Cleaning data from trial \"20171220.Fly4.20\".\n"
     ]
    },
    {
     "name": "stderr",
     "output_type": "stream",
     "text": [
      "/Users/rkp/Dropbox/Repositories/mushroom_mushroom/data.py:475: RuntimeWarning: invalid value encountered in less\n",
      "  mask_low = odor_binary < C.ODOR_BINARY_CUTOFF\n",
      "/Users/rkp/Dropbox/Repositories/mushroom_mushroom/data.py:476: RuntimeWarning: invalid value encountered in greater_equal\n",
      "  mask_high = odor_binary >= C.ODOR_BINARY_CUTOFF\n",
      "/Users/rkp/Dropbox/Repositories/mushroom_mushroom/data.py:636: RuntimeWarning: invalid value encountered in less\n",
      "  down_jumps = cc([[0.], (diff < (-th_jump * x_range)).astype(float)])\n",
      "/Users/rkp/Dropbox/Repositories/mushroom_mushroom/data.py:637: RuntimeWarning: invalid value encountered in greater\n",
      "  up_jumps = cc([[0.], (diff > (th_jump * x_range)).astype(float)])\n"
     ]
    },
    {
     "name": "stdout",
     "output_type": "stream",
     "text": [
      "Cleaned.\n",
      "Cleaning data from trial \"20171220.Fly4.22\".\n"
     ]
    },
    {
     "name": "stderr",
     "output_type": "stream",
     "text": [
      "/Users/rkp/Dropbox/Repositories/mushroom_mushroom/data.py:475: RuntimeWarning: invalid value encountered in less\n",
      "  mask_low = odor_binary < C.ODOR_BINARY_CUTOFF\n",
      "/Users/rkp/Dropbox/Repositories/mushroom_mushroom/data.py:476: RuntimeWarning: invalid value encountered in greater_equal\n",
      "  mask_high = odor_binary >= C.ODOR_BINARY_CUTOFF\n",
      "/Users/rkp/Dropbox/Repositories/mushroom_mushroom/data.py:636: RuntimeWarning: invalid value encountered in less\n",
      "  down_jumps = cc([[0.], (diff < (-th_jump * x_range)).astype(float)])\n",
      "/Users/rkp/Dropbox/Repositories/mushroom_mushroom/data.py:637: RuntimeWarning: invalid value encountered in greater\n",
      "  up_jumps = cc([[0.], (diff > (th_jump * x_range)).astype(float)])\n"
     ]
    },
    {
     "name": "stdout",
     "output_type": "stream",
     "text": [
      "Cleaned.\n",
      "Cleaning data from trial \"20171220.Fly4.24\".\n"
     ]
    },
    {
     "name": "stderr",
     "output_type": "stream",
     "text": [
      "/Users/rkp/Dropbox/Repositories/mushroom_mushroom/data.py:475: RuntimeWarning: invalid value encountered in less\n",
      "  mask_low = odor_binary < C.ODOR_BINARY_CUTOFF\n",
      "/Users/rkp/Dropbox/Repositories/mushroom_mushroom/data.py:476: RuntimeWarning: invalid value encountered in greater_equal\n",
      "  mask_high = odor_binary >= C.ODOR_BINARY_CUTOFF\n",
      "/Users/rkp/Dropbox/Repositories/mushroom_mushroom/data.py:636: RuntimeWarning: invalid value encountered in less\n",
      "  down_jumps = cc([[0.], (diff < (-th_jump * x_range)).astype(float)])\n",
      "/Users/rkp/Dropbox/Repositories/mushroom_mushroom/data.py:637: RuntimeWarning: invalid value encountered in greater\n",
      "  up_jumps = cc([[0.], (diff > (th_jump * x_range)).astype(float)])\n"
     ]
    },
    {
     "name": "stdout",
     "output_type": "stream",
     "text": [
      "Cleaned.\n",
      "Cleaning data from trial \"20171220.Fly4.25\".\n"
     ]
    },
    {
     "name": "stderr",
     "output_type": "stream",
     "text": [
      "/Users/rkp/Dropbox/Repositories/mushroom_mushroom/data.py:475: RuntimeWarning: invalid value encountered in less\n",
      "  mask_low = odor_binary < C.ODOR_BINARY_CUTOFF\n",
      "/Users/rkp/Dropbox/Repositories/mushroom_mushroom/data.py:476: RuntimeWarning: invalid value encountered in greater_equal\n",
      "  mask_high = odor_binary >= C.ODOR_BINARY_CUTOFF\n",
      "/Users/rkp/Dropbox/Repositories/mushroom_mushroom/data.py:636: RuntimeWarning: invalid value encountered in less\n",
      "  down_jumps = cc([[0.], (diff < (-th_jump * x_range)).astype(float)])\n",
      "/Users/rkp/Dropbox/Repositories/mushroom_mushroom/data.py:637: RuntimeWarning: invalid value encountered in greater\n",
      "  up_jumps = cc([[0.], (diff > (th_jump * x_range)).astype(float)])\n"
     ]
    },
    {
     "name": "stdout",
     "output_type": "stream",
     "text": [
      "Cleaned.\n",
      "Cleaning data from trial \"20171220.Fly4.27\".\n"
     ]
    },
    {
     "name": "stderr",
     "output_type": "stream",
     "text": [
      "/Users/rkp/Dropbox/Repositories/mushroom_mushroom/data.py:475: RuntimeWarning: invalid value encountered in less\n",
      "  mask_low = odor_binary < C.ODOR_BINARY_CUTOFF\n",
      "/Users/rkp/Dropbox/Repositories/mushroom_mushroom/data.py:476: RuntimeWarning: invalid value encountered in greater_equal\n",
      "  mask_high = odor_binary >= C.ODOR_BINARY_CUTOFF\n",
      "/Users/rkp/Dropbox/Repositories/mushroom_mushroom/data.py:636: RuntimeWarning: invalid value encountered in less\n",
      "  down_jumps = cc([[0.], (diff < (-th_jump * x_range)).astype(float)])\n",
      "/Users/rkp/Dropbox/Repositories/mushroom_mushroom/data.py:637: RuntimeWarning: invalid value encountered in greater\n",
      "  up_jumps = cc([[0.], (diff > (th_jump * x_range)).astype(float)])\n"
     ]
    },
    {
     "name": "stdout",
     "output_type": "stream",
     "text": [
      "Cleaned.\n",
      "Cleaning data from trial \"20171220.Fly4.28\".\n"
     ]
    },
    {
     "name": "stderr",
     "output_type": "stream",
     "text": [
      "/Users/rkp/Dropbox/Repositories/mushroom_mushroom/data.py:475: RuntimeWarning: invalid value encountered in less\n",
      "  mask_low = odor_binary < C.ODOR_BINARY_CUTOFF\n",
      "/Users/rkp/Dropbox/Repositories/mushroom_mushroom/data.py:476: RuntimeWarning: invalid value encountered in greater_equal\n",
      "  mask_high = odor_binary >= C.ODOR_BINARY_CUTOFF\n",
      "/Users/rkp/Dropbox/Repositories/mushroom_mushroom/data.py:636: RuntimeWarning: invalid value encountered in less\n",
      "  down_jumps = cc([[0.], (diff < (-th_jump * x_range)).astype(float)])\n",
      "/Users/rkp/Dropbox/Repositories/mushroom_mushroom/data.py:637: RuntimeWarning: invalid value encountered in greater\n",
      "  up_jumps = cc([[0.], (diff > (th_jump * x_range)).astype(float)])\n"
     ]
    },
    {
     "name": "stdout",
     "output_type": "stream",
     "text": [
      "Cleaned.\n",
      "Cleaning data from trial \"20171220.Fly4.29\".\n"
     ]
    },
    {
     "name": "stderr",
     "output_type": "stream",
     "text": [
      "/Users/rkp/Dropbox/Repositories/mushroom_mushroom/data.py:475: RuntimeWarning: invalid value encountered in less\n",
      "  mask_low = odor_binary < C.ODOR_BINARY_CUTOFF\n",
      "/Users/rkp/Dropbox/Repositories/mushroom_mushroom/data.py:476: RuntimeWarning: invalid value encountered in greater_equal\n",
      "  mask_high = odor_binary >= C.ODOR_BINARY_CUTOFF\n",
      "/Users/rkp/Dropbox/Repositories/mushroom_mushroom/data.py:636: RuntimeWarning: invalid value encountered in less\n",
      "  down_jumps = cc([[0.], (diff < (-th_jump * x_range)).astype(float)])\n",
      "/Users/rkp/Dropbox/Repositories/mushroom_mushroom/data.py:637: RuntimeWarning: invalid value encountered in greater\n",
      "  up_jumps = cc([[0.], (diff > (th_jump * x_range)).astype(float)])\n"
     ]
    },
    {
     "name": "stdout",
     "output_type": "stream",
     "text": [
      "Cleaned.\n",
      "Cleaning data from trial \"20180126.Fly1.02\".\n"
     ]
    },
    {
     "name": "stderr",
     "output_type": "stream",
     "text": [
      "/Users/rkp/Dropbox/Repositories/mushroom_mushroom/data.py:475: RuntimeWarning: invalid value encountered in less\n",
      "  mask_low = odor_binary < C.ODOR_BINARY_CUTOFF\n",
      "/Users/rkp/Dropbox/Repositories/mushroom_mushroom/data.py:476: RuntimeWarning: invalid value encountered in greater_equal\n",
      "  mask_high = odor_binary >= C.ODOR_BINARY_CUTOFF\n",
      "/Users/rkp/Dropbox/Repositories/mushroom_mushroom/data.py:636: RuntimeWarning: invalid value encountered in less\n",
      "  down_jumps = cc([[0.], (diff < (-th_jump * x_range)).astype(float)])\n",
      "/Users/rkp/Dropbox/Repositories/mushroom_mushroom/data.py:637: RuntimeWarning: invalid value encountered in greater\n",
      "  up_jumps = cc([[0.], (diff > (th_jump * x_range)).astype(float)])\n"
     ]
    },
    {
     "name": "stdout",
     "output_type": "stream",
     "text": [
      "Cleaned.\n",
      "Cleaning data from trial \"20180126.Fly1.04\".\n"
     ]
    },
    {
     "name": "stderr",
     "output_type": "stream",
     "text": [
      "/Users/rkp/Dropbox/Repositories/mushroom_mushroom/data.py:475: RuntimeWarning: invalid value encountered in less\n",
      "  mask_low = odor_binary < C.ODOR_BINARY_CUTOFF\n",
      "/Users/rkp/Dropbox/Repositories/mushroom_mushroom/data.py:476: RuntimeWarning: invalid value encountered in greater_equal\n",
      "  mask_high = odor_binary >= C.ODOR_BINARY_CUTOFF\n",
      "/Users/rkp/Dropbox/Repositories/mushroom_mushroom/data.py:636: RuntimeWarning: invalid value encountered in less\n",
      "  down_jumps = cc([[0.], (diff < (-th_jump * x_range)).astype(float)])\n",
      "/Users/rkp/Dropbox/Repositories/mushroom_mushroom/data.py:637: RuntimeWarning: invalid value encountered in greater\n",
      "  up_jumps = cc([[0.], (diff > (th_jump * x_range)).astype(float)])\n"
     ]
    },
    {
     "name": "stdout",
     "output_type": "stream",
     "text": [
      "Cleaned.\n",
      "Cleaning data from trial \"20180126.Fly2.07\".\n"
     ]
    },
    {
     "name": "stderr",
     "output_type": "stream",
     "text": [
      "/Users/rkp/Dropbox/Repositories/mushroom_mushroom/data.py:475: RuntimeWarning: invalid value encountered in less\n",
      "  mask_low = odor_binary < C.ODOR_BINARY_CUTOFF\n",
      "/Users/rkp/Dropbox/Repositories/mushroom_mushroom/data.py:476: RuntimeWarning: invalid value encountered in greater_equal\n",
      "  mask_high = odor_binary >= C.ODOR_BINARY_CUTOFF\n",
      "/Users/rkp/Dropbox/Repositories/mushroom_mushroom/data.py:636: RuntimeWarning: invalid value encountered in less\n",
      "  down_jumps = cc([[0.], (diff < (-th_jump * x_range)).astype(float)])\n",
      "/Users/rkp/Dropbox/Repositories/mushroom_mushroom/data.py:637: RuntimeWarning: invalid value encountered in greater\n",
      "  up_jumps = cc([[0.], (diff > (th_jump * x_range)).astype(float)])\n"
     ]
    },
    {
     "name": "stdout",
     "output_type": "stream",
     "text": [
      "Cleaned.\n",
      "Cleaning data from trial \"20180126.Fly2.09\".\n"
     ]
    },
    {
     "name": "stderr",
     "output_type": "stream",
     "text": [
      "/Users/rkp/Dropbox/Repositories/mushroom_mushroom/data.py:475: RuntimeWarning: invalid value encountered in less\n",
      "  mask_low = odor_binary < C.ODOR_BINARY_CUTOFF\n",
      "/Users/rkp/Dropbox/Repositories/mushroom_mushroom/data.py:476: RuntimeWarning: invalid value encountered in greater_equal\n",
      "  mask_high = odor_binary >= C.ODOR_BINARY_CUTOFF\n",
      "/Users/rkp/Dropbox/Repositories/mushroom_mushroom/data.py:636: RuntimeWarning: invalid value encountered in less\n",
      "  down_jumps = cc([[0.], (diff < (-th_jump * x_range)).astype(float)])\n",
      "/Users/rkp/Dropbox/Repositories/mushroom_mushroom/data.py:637: RuntimeWarning: invalid value encountered in greater\n",
      "  up_jumps = cc([[0.], (diff > (th_jump * x_range)).astype(float)])\n"
     ]
    },
    {
     "name": "stdout",
     "output_type": "stream",
     "text": [
      "Cleaned.\n",
      "Cleaning data from trial \"20180126.Fly2.11\".\n"
     ]
    },
    {
     "name": "stderr",
     "output_type": "stream",
     "text": [
      "/Users/rkp/Dropbox/Repositories/mushroom_mushroom/data.py:475: RuntimeWarning: invalid value encountered in less\n",
      "  mask_low = odor_binary < C.ODOR_BINARY_CUTOFF\n",
      "/Users/rkp/Dropbox/Repositories/mushroom_mushroom/data.py:476: RuntimeWarning: invalid value encountered in greater_equal\n",
      "  mask_high = odor_binary >= C.ODOR_BINARY_CUTOFF\n",
      "/Users/rkp/Dropbox/Repositories/mushroom_mushroom/data.py:636: RuntimeWarning: invalid value encountered in less\n",
      "  down_jumps = cc([[0.], (diff < (-th_jump * x_range)).astype(float)])\n",
      "/Users/rkp/Dropbox/Repositories/mushroom_mushroom/data.py:637: RuntimeWarning: invalid value encountered in greater\n",
      "  up_jumps = cc([[0.], (diff > (th_jump * x_range)).astype(float)])\n"
     ]
    },
    {
     "name": "stdout",
     "output_type": "stream",
     "text": [
      "Cleaned.\n",
      "Cleaning data from trial \"20180126.Fly2.12\".\n"
     ]
    },
    {
     "name": "stderr",
     "output_type": "stream",
     "text": [
      "/Users/rkp/Dropbox/Repositories/mushroom_mushroom/data.py:475: RuntimeWarning: invalid value encountered in less\n",
      "  mask_low = odor_binary < C.ODOR_BINARY_CUTOFF\n",
      "/Users/rkp/Dropbox/Repositories/mushroom_mushroom/data.py:476: RuntimeWarning: invalid value encountered in greater_equal\n",
      "  mask_high = odor_binary >= C.ODOR_BINARY_CUTOFF\n",
      "/Users/rkp/Dropbox/Repositories/mushroom_mushroom/data.py:636: RuntimeWarning: invalid value encountered in less\n",
      "  down_jumps = cc([[0.], (diff < (-th_jump * x_range)).astype(float)])\n",
      "/Users/rkp/Dropbox/Repositories/mushroom_mushroom/data.py:637: RuntimeWarning: invalid value encountered in greater\n",
      "  up_jumps = cc([[0.], (diff > (th_jump * x_range)).astype(float)])\n"
     ]
    },
    {
     "name": "stdout",
     "output_type": "stream",
     "text": [
      "Cleaned.\n",
      "Cleaning data from trial \"20180126.Fly3.13\".\n"
     ]
    },
    {
     "name": "stderr",
     "output_type": "stream",
     "text": [
      "/Users/rkp/Dropbox/Repositories/mushroom_mushroom/data.py:475: RuntimeWarning: invalid value encountered in less\n",
      "  mask_low = odor_binary < C.ODOR_BINARY_CUTOFF\n",
      "/Users/rkp/Dropbox/Repositories/mushroom_mushroom/data.py:476: RuntimeWarning: invalid value encountered in greater_equal\n",
      "  mask_high = odor_binary >= C.ODOR_BINARY_CUTOFF\n",
      "/Users/rkp/Dropbox/Repositories/mushroom_mushroom/data.py:636: RuntimeWarning: invalid value encountered in less\n",
      "  down_jumps = cc([[0.], (diff < (-th_jump * x_range)).astype(float)])\n",
      "/Users/rkp/Dropbox/Repositories/mushroom_mushroom/data.py:637: RuntimeWarning: invalid value encountered in greater\n",
      "  up_jumps = cc([[0.], (diff > (th_jump * x_range)).astype(float)])\n"
     ]
    },
    {
     "name": "stdout",
     "output_type": "stream",
     "text": [
      "Cleaned.\n",
      "Cleaning data from trial \"20180126.Fly3.15\".\n"
     ]
    },
    {
     "name": "stderr",
     "output_type": "stream",
     "text": [
      "/Users/rkp/Dropbox/Repositories/mushroom_mushroom/data.py:475: RuntimeWarning: invalid value encountered in less\n",
      "  mask_low = odor_binary < C.ODOR_BINARY_CUTOFF\n",
      "/Users/rkp/Dropbox/Repositories/mushroom_mushroom/data.py:476: RuntimeWarning: invalid value encountered in greater_equal\n",
      "  mask_high = odor_binary >= C.ODOR_BINARY_CUTOFF\n",
      "/Users/rkp/Dropbox/Repositories/mushroom_mushroom/data.py:636: RuntimeWarning: invalid value encountered in less\n",
      "  down_jumps = cc([[0.], (diff < (-th_jump * x_range)).astype(float)])\n",
      "/Users/rkp/Dropbox/Repositories/mushroom_mushroom/data.py:637: RuntimeWarning: invalid value encountered in greater\n",
      "  up_jumps = cc([[0.], (diff > (th_jump * x_range)).astype(float)])\n"
     ]
    },
    {
     "name": "stdout",
     "output_type": "stream",
     "text": [
      "Cleaned.\n",
      "Cleaning data from trial \"20180126.Fly3.17\".\n"
     ]
    },
    {
     "name": "stderr",
     "output_type": "stream",
     "text": [
      "/Users/rkp/Dropbox/Repositories/mushroom_mushroom/data.py:475: RuntimeWarning: invalid value encountered in less\n",
      "  mask_low = odor_binary < C.ODOR_BINARY_CUTOFF\n",
      "/Users/rkp/Dropbox/Repositories/mushroom_mushroom/data.py:476: RuntimeWarning: invalid value encountered in greater_equal\n",
      "  mask_high = odor_binary >= C.ODOR_BINARY_CUTOFF\n",
      "/Users/rkp/Dropbox/Repositories/mushroom_mushroom/data.py:636: RuntimeWarning: invalid value encountered in less\n",
      "  down_jumps = cc([[0.], (diff < (-th_jump * x_range)).astype(float)])\n",
      "/Users/rkp/Dropbox/Repositories/mushroom_mushroom/data.py:637: RuntimeWarning: invalid value encountered in greater\n",
      "  up_jumps = cc([[0.], (diff > (th_jump * x_range)).astype(float)])\n"
     ]
    },
    {
     "name": "stdout",
     "output_type": "stream",
     "text": [
      "Cleaned.\n",
      "Cleaning data from trial \"20180126.Fly3.18\".\n"
     ]
    },
    {
     "name": "stderr",
     "output_type": "stream",
     "text": [
      "/Users/rkp/Dropbox/Repositories/mushroom_mushroom/data.py:475: RuntimeWarning: invalid value encountered in less\n",
      "  mask_low = odor_binary < C.ODOR_BINARY_CUTOFF\n",
      "/Users/rkp/Dropbox/Repositories/mushroom_mushroom/data.py:476: RuntimeWarning: invalid value encountered in greater_equal\n",
      "  mask_high = odor_binary >= C.ODOR_BINARY_CUTOFF\n",
      "/Users/rkp/Dropbox/Repositories/mushroom_mushroom/data.py:636: RuntimeWarning: invalid value encountered in less\n",
      "  down_jumps = cc([[0.], (diff < (-th_jump * x_range)).astype(float)])\n",
      "/Users/rkp/Dropbox/Repositories/mushroom_mushroom/data.py:637: RuntimeWarning: invalid value encountered in greater\n",
      "  up_jumps = cc([[0.], (diff > (th_jump * x_range)).astype(float)])\n"
     ]
    },
    {
     "name": "stdout",
     "output_type": "stream",
     "text": [
      "Cleaned.\n",
      "Cleaning data from trial \"20180126.Fly3.19\".\n"
     ]
    },
    {
     "name": "stderr",
     "output_type": "stream",
     "text": [
      "/Users/rkp/Dropbox/Repositories/mushroom_mushroom/data.py:475: RuntimeWarning: invalid value encountered in less\n",
      "  mask_low = odor_binary < C.ODOR_BINARY_CUTOFF\n",
      "/Users/rkp/Dropbox/Repositories/mushroom_mushroom/data.py:476: RuntimeWarning: invalid value encountered in greater_equal\n",
      "  mask_high = odor_binary >= C.ODOR_BINARY_CUTOFF\n",
      "/Users/rkp/Dropbox/Repositories/mushroom_mushroom/data.py:636: RuntimeWarning: invalid value encountered in less\n",
      "  down_jumps = cc([[0.], (diff < (-th_jump * x_range)).astype(float)])\n",
      "/Users/rkp/Dropbox/Repositories/mushroom_mushroom/data.py:637: RuntimeWarning: invalid value encountered in greater\n",
      "  up_jumps = cc([[0.], (diff > (th_jump * x_range)).astype(float)])\n"
     ]
    },
    {
     "name": "stdout",
     "output_type": "stream",
     "text": [
      "Cleaned.\n",
      "Cleaning data from trial \"20180126.Fly4.21\".\n"
     ]
    },
    {
     "name": "stderr",
     "output_type": "stream",
     "text": [
      "/Users/rkp/Dropbox/Repositories/mushroom_mushroom/data.py:475: RuntimeWarning: invalid value encountered in less\n",
      "  mask_low = odor_binary < C.ODOR_BINARY_CUTOFF\n",
      "/Users/rkp/Dropbox/Repositories/mushroom_mushroom/data.py:476: RuntimeWarning: invalid value encountered in greater_equal\n",
      "  mask_high = odor_binary >= C.ODOR_BINARY_CUTOFF\n",
      "/Users/rkp/Dropbox/Repositories/mushroom_mushroom/data.py:636: RuntimeWarning: invalid value encountered in less\n",
      "  down_jumps = cc([[0.], (diff < (-th_jump * x_range)).astype(float)])\n",
      "/Users/rkp/Dropbox/Repositories/mushroom_mushroom/data.py:637: RuntimeWarning: invalid value encountered in greater\n",
      "  up_jumps = cc([[0.], (diff > (th_jump * x_range)).astype(float)])\n"
     ]
    },
    {
     "name": "stdout",
     "output_type": "stream",
     "text": [
      "Cleaned.\n",
      "Cleaning data from trial \"20180126.Fly4.23\".\n"
     ]
    },
    {
     "name": "stderr",
     "output_type": "stream",
     "text": [
      "/Users/rkp/Dropbox/Repositories/mushroom_mushroom/data.py:475: RuntimeWarning: invalid value encountered in less\n",
      "  mask_low = odor_binary < C.ODOR_BINARY_CUTOFF\n",
      "/Users/rkp/Dropbox/Repositories/mushroom_mushroom/data.py:476: RuntimeWarning: invalid value encountered in greater_equal\n",
      "  mask_high = odor_binary >= C.ODOR_BINARY_CUTOFF\n",
      "/Users/rkp/Dropbox/Repositories/mushroom_mushroom/data.py:636: RuntimeWarning: invalid value encountered in less\n",
      "  down_jumps = cc([[0.], (diff < (-th_jump * x_range)).astype(float)])\n",
      "/Users/rkp/Dropbox/Repositories/mushroom_mushroom/data.py:637: RuntimeWarning: invalid value encountered in greater\n",
      "  up_jumps = cc([[0.], (diff > (th_jump * x_range)).astype(float)])\n"
     ]
    },
    {
     "name": "stdout",
     "output_type": "stream",
     "text": [
      "Cleaned.\n",
      "Cleaning data from trial \"20180126.Fly4.24\".\n"
     ]
    },
    {
     "name": "stderr",
     "output_type": "stream",
     "text": [
      "/Users/rkp/Dropbox/Repositories/mushroom_mushroom/data.py:475: RuntimeWarning: invalid value encountered in less\n",
      "  mask_low = odor_binary < C.ODOR_BINARY_CUTOFF\n",
      "/Users/rkp/Dropbox/Repositories/mushroom_mushroom/data.py:476: RuntimeWarning: invalid value encountered in greater_equal\n",
      "  mask_high = odor_binary >= C.ODOR_BINARY_CUTOFF\n",
      "/Users/rkp/Dropbox/Repositories/mushroom_mushroom/data.py:636: RuntimeWarning: invalid value encountered in less\n",
      "  down_jumps = cc([[0.], (diff < (-th_jump * x_range)).astype(float)])\n",
      "/Users/rkp/Dropbox/Repositories/mushroom_mushroom/data.py:637: RuntimeWarning: invalid value encountered in greater\n",
      "  up_jumps = cc([[0.], (diff > (th_jump * x_range)).astype(float)])\n"
     ]
    },
    {
     "name": "stdout",
     "output_type": "stream",
     "text": [
      "Cleaned.\n",
      "Cleaning data from trial \"20180126.Fly4.26\".\n"
     ]
    },
    {
     "name": "stderr",
     "output_type": "stream",
     "text": [
      "/Users/rkp/Dropbox/Repositories/mushroom_mushroom/data.py:475: RuntimeWarning: invalid value encountered in less\n",
      "  mask_low = odor_binary < C.ODOR_BINARY_CUTOFF\n",
      "/Users/rkp/Dropbox/Repositories/mushroom_mushroom/data.py:476: RuntimeWarning: invalid value encountered in greater_equal\n",
      "  mask_high = odor_binary >= C.ODOR_BINARY_CUTOFF\n",
      "/Users/rkp/Dropbox/Repositories/mushroom_mushroom/data.py:636: RuntimeWarning: invalid value encountered in less\n",
      "  down_jumps = cc([[0.], (diff < (-th_jump * x_range)).astype(float)])\n",
      "/Users/rkp/Dropbox/Repositories/mushroom_mushroom/data.py:637: RuntimeWarning: invalid value encountered in greater\n",
      "  up_jumps = cc([[0.], (diff > (th_jump * x_range)).astype(float)])\n"
     ]
    },
    {
     "name": "stdout",
     "output_type": "stream",
     "text": [
      "Cleaned.\n",
      "Cleaning data from trial \"20180126.Fly4.28\".\n"
     ]
    },
    {
     "name": "stderr",
     "output_type": "stream",
     "text": [
      "/Users/rkp/Dropbox/Repositories/mushroom_mushroom/data.py:475: RuntimeWarning: invalid value encountered in less\n",
      "  mask_low = odor_binary < C.ODOR_BINARY_CUTOFF\n",
      "/Users/rkp/Dropbox/Repositories/mushroom_mushroom/data.py:476: RuntimeWarning: invalid value encountered in greater_equal\n",
      "  mask_high = odor_binary >= C.ODOR_BINARY_CUTOFF\n",
      "/Users/rkp/Dropbox/Repositories/mushroom_mushroom/data.py:636: RuntimeWarning: invalid value encountered in less\n",
      "  down_jumps = cc([[0.], (diff < (-th_jump * x_range)).astype(float)])\n",
      "/Users/rkp/Dropbox/Repositories/mushroom_mushroom/data.py:637: RuntimeWarning: invalid value encountered in greater\n",
      "  up_jumps = cc([[0.], (diff > (th_jump * x_range)).astype(float)])\n"
     ]
    },
    {
     "name": "stdout",
     "output_type": "stream",
     "text": [
      "Cleaned.\n",
      "Cleaning data from trial \"20180126.Fly4.29\".\n"
     ]
    },
    {
     "name": "stderr",
     "output_type": "stream",
     "text": [
      "/Users/rkp/Dropbox/Repositories/mushroom_mushroom/data.py:475: RuntimeWarning: invalid value encountered in less\n",
      "  mask_low = odor_binary < C.ODOR_BINARY_CUTOFF\n",
      "/Users/rkp/Dropbox/Repositories/mushroom_mushroom/data.py:476: RuntimeWarning: invalid value encountered in greater_equal\n",
      "  mask_high = odor_binary >= C.ODOR_BINARY_CUTOFF\n",
      "/Users/rkp/Dropbox/Repositories/mushroom_mushroom/data.py:636: RuntimeWarning: invalid value encountered in less\n",
      "  down_jumps = cc([[0.], (diff < (-th_jump * x_range)).astype(float)])\n",
      "/Users/rkp/Dropbox/Repositories/mushroom_mushroom/data.py:637: RuntimeWarning: invalid value encountered in greater\n",
      "  up_jumps = cc([[0.], (diff > (th_jump * x_range)).astype(float)])\n"
     ]
    },
    {
     "name": "stdout",
     "output_type": "stream",
     "text": [
      "Cleaned.\n",
      "Cleaning data from trial \"20180126.Fly5.30\".\n"
     ]
    },
    {
     "name": "stderr",
     "output_type": "stream",
     "text": [
      "/Users/rkp/Dropbox/Repositories/mushroom_mushroom/data.py:475: RuntimeWarning: invalid value encountered in less\n",
      "  mask_low = odor_binary < C.ODOR_BINARY_CUTOFF\n",
      "/Users/rkp/Dropbox/Repositories/mushroom_mushroom/data.py:476: RuntimeWarning: invalid value encountered in greater_equal\n",
      "  mask_high = odor_binary >= C.ODOR_BINARY_CUTOFF\n",
      "/Users/rkp/Dropbox/Repositories/mushroom_mushroom/data.py:636: RuntimeWarning: invalid value encountered in less\n",
      "  down_jumps = cc([[0.], (diff < (-th_jump * x_range)).astype(float)])\n",
      "/Users/rkp/Dropbox/Repositories/mushroom_mushroom/data.py:637: RuntimeWarning: invalid value encountered in greater\n",
      "  up_jumps = cc([[0.], (diff > (th_jump * x_range)).astype(float)])\n"
     ]
    },
    {
     "name": "stdout",
     "output_type": "stream",
     "text": [
      "Cleaned.\n",
      "Cleaning data from trial \"20180126.Fly5.32\".\n"
     ]
    },
    {
     "name": "stderr",
     "output_type": "stream",
     "text": [
      "/Users/rkp/Dropbox/Repositories/mushroom_mushroom/data.py:475: RuntimeWarning: invalid value encountered in less\n",
      "  mask_low = odor_binary < C.ODOR_BINARY_CUTOFF\n",
      "/Users/rkp/Dropbox/Repositories/mushroom_mushroom/data.py:476: RuntimeWarning: invalid value encountered in greater_equal\n",
      "  mask_high = odor_binary >= C.ODOR_BINARY_CUTOFF\n",
      "/Users/rkp/Dropbox/Repositories/mushroom_mushroom/data.py:636: RuntimeWarning: invalid value encountered in less\n",
      "  down_jumps = cc([[0.], (diff < (-th_jump * x_range)).astype(float)])\n",
      "/Users/rkp/Dropbox/Repositories/mushroom_mushroom/data.py:637: RuntimeWarning: invalid value encountered in greater\n",
      "  up_jumps = cc([[0.], (diff > (th_jump * x_range)).astype(float)])\n"
     ]
    },
    {
     "name": "stdout",
     "output_type": "stream",
     "text": [
      "Cleaned.\n",
      "Cleaning data from trial \"20180126.Fly5.33\".\n"
     ]
    },
    {
     "name": "stderr",
     "output_type": "stream",
     "text": [
      "/Users/rkp/Dropbox/Repositories/mushroom_mushroom/data.py:475: RuntimeWarning: invalid value encountered in less\n",
      "  mask_low = odor_binary < C.ODOR_BINARY_CUTOFF\n",
      "/Users/rkp/Dropbox/Repositories/mushroom_mushroom/data.py:476: RuntimeWarning: invalid value encountered in greater_equal\n",
      "  mask_high = odor_binary >= C.ODOR_BINARY_CUTOFF\n",
      "/Users/rkp/Dropbox/Repositories/mushroom_mushroom/data.py:636: RuntimeWarning: invalid value encountered in less\n",
      "  down_jumps = cc([[0.], (diff < (-th_jump * x_range)).astype(float)])\n",
      "/Users/rkp/Dropbox/Repositories/mushroom_mushroom/data.py:637: RuntimeWarning: invalid value encountered in greater\n",
      "  up_jumps = cc([[0.], (diff > (th_jump * x_range)).astype(float)])\n"
     ]
    },
    {
     "name": "stdout",
     "output_type": "stream",
     "text": [
      "Cleaned.\n",
      "Cleaning data from trial \"20180126.Fly5.34\".\n"
     ]
    },
    {
     "name": "stderr",
     "output_type": "stream",
     "text": [
      "/Users/rkp/Dropbox/Repositories/mushroom_mushroom/data.py:475: RuntimeWarning: invalid value encountered in less\n",
      "  mask_low = odor_binary < C.ODOR_BINARY_CUTOFF\n",
      "/Users/rkp/Dropbox/Repositories/mushroom_mushroom/data.py:476: RuntimeWarning: invalid value encountered in greater_equal\n",
      "  mask_high = odor_binary >= C.ODOR_BINARY_CUTOFF\n",
      "/Users/rkp/Dropbox/Repositories/mushroom_mushroom/data.py:636: RuntimeWarning: invalid value encountered in less\n",
      "  down_jumps = cc([[0.], (diff < (-th_jump * x_range)).astype(float)])\n",
      "/Users/rkp/Dropbox/Repositories/mushroom_mushroom/data.py:637: RuntimeWarning: invalid value encountered in greater\n",
      "  up_jumps = cc([[0.], (diff > (th_jump * x_range)).astype(float)])\n"
     ]
    },
    {
     "name": "stdout",
     "output_type": "stream",
     "text": [
      "Cleaned.\n",
      "Cleaning data from trial \"20180126.Fly5.35\".\n"
     ]
    },
    {
     "name": "stderr",
     "output_type": "stream",
     "text": [
      "/Users/rkp/Dropbox/Repositories/mushroom_mushroom/data.py:475: RuntimeWarning: invalid value encountered in less\n",
      "  mask_low = odor_binary < C.ODOR_BINARY_CUTOFF\n",
      "/Users/rkp/Dropbox/Repositories/mushroom_mushroom/data.py:476: RuntimeWarning: invalid value encountered in greater_equal\n",
      "  mask_high = odor_binary >= C.ODOR_BINARY_CUTOFF\n",
      "/Users/rkp/Dropbox/Repositories/mushroom_mushroom/data.py:636: RuntimeWarning: invalid value encountered in less\n",
      "  down_jumps = cc([[0.], (diff < (-th_jump * x_range)).astype(float)])\n",
      "/Users/rkp/Dropbox/Repositories/mushroom_mushroom/data.py:637: RuntimeWarning: invalid value encountered in greater\n",
      "  up_jumps = cc([[0.], (diff > (th_jump * x_range)).astype(float)])\n"
     ]
    },
    {
     "name": "stdout",
     "output_type": "stream",
     "text": [
      "Cleaned.\n"
     ]
    }
   ],
   "source": [
    "clean_and_cache('mbon', 'white_odor_fluct')"
   ]
  },
  {
   "cell_type": "code",
   "execution_count": 4,
   "metadata": {
    "collapsed": true
   },
   "outputs": [
    {
     "name": "stdout",
     "output_type": "stream",
     "text": [
      "Cleaning data from trial \"20180126.Fly1.01\".\n"
     ]
    },
    {
     "name": "stderr",
     "output_type": "stream",
     "text": [
      "/Users/rkp/Dropbox/Repositories/mushroom_mushroom/data.py:475: RuntimeWarning: invalid value encountered in less\n",
      "  mask_low = odor_binary < C.ODOR_BINARY_CUTOFF\n",
      "/Users/rkp/Dropbox/Repositories/mushroom_mushroom/data.py:476: RuntimeWarning: invalid value encountered in greater_equal\n",
      "  mask_high = odor_binary >= C.ODOR_BINARY_CUTOFF\n",
      "/Users/rkp/Dropbox/Repositories/mushroom_mushroom/data.py:636: RuntimeWarning: invalid value encountered in less\n",
      "  down_jumps = cc([[0.], (diff < (-th_jump * x_range)).astype(float)])\n",
      "/Users/rkp/Dropbox/Repositories/mushroom_mushroom/data.py:637: RuntimeWarning: invalid value encountered in greater\n",
      "  up_jumps = cc([[0.], (diff > (th_jump * x_range)).astype(float)])\n"
     ]
    },
    {
     "name": "stdout",
     "output_type": "stream",
     "text": [
      "Cleaned.\n"
     ]
    }
   ],
   "source": [
    "clean_and_cache('mbon', 'no_air')"
   ]
  }
 ],
 "metadata": {
  "kernelspec": {
   "display_name": "Python 3",
   "language": "python",
   "name": "python3"
  },
  "language_info": {
   "codemirror_mode": {
    "name": "ipython",
    "version": 3
   },
   "file_extension": ".py",
   "mimetype": "text/x-python",
   "name": "python",
   "nbconvert_exporter": "python",
   "pygments_lexer": "ipython3",
   "version": "3.6.3"
  }
 },
 "nbformat": 4,
 "nbformat_minor": 2
}

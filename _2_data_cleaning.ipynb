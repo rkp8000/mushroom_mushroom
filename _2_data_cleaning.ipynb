{
 "cells": [
  {
   "cell_type": "markdown",
   "metadata": {},
   "source": [
    "# Clean and cache data from all trials in all expts"
   ]
  },
  {
   "cell_type": "code",
   "execution_count": 1,
   "metadata": {
    "collapsed": true
   },
   "outputs": [],
   "source": [
    "import os\n",
    "\n",
    "from data import DataLoader\n",
    "from db import make_session, d_models\n",
    "\n",
    "import LOCAL as L\n",
    "\n",
    "\n",
    "SFX_CLEAN = 0\n",
    "\n",
    "\n",
    "def clean_and_cache(region, expt, verbose=False, skip_existing=True):\n",
    "    \n",
    "    # load trials\n",
    "    session = make_session()\n",
    "    trials = session.query(d_models.Trial).filter_by(\n",
    "        region=region, expt=expt).all()\n",
    "    session.close()\n",
    "    \n",
    "    # remove cleaned file and create DataLoader for each trial\n",
    "    for trial in trials:\n",
    "        \n",
    "        path_clean = os.path.join(\n",
    "            L.DATA_ROOT, trial.path, '{}_{}.csv'.format(trial.pfx_clean, SFX_CLEAN))\n",
    "        \n",
    "        if os.path.exists(path_clean) and skip_existing:\n",
    "            continue\n",
    "            \n",
    "        print('Cleaning data from trial \"{}\".'.format(trial.name))\n",
    "        \n",
    "        if os.path.exists(path_clean):\n",
    "            os.remove(path_clean)\n",
    "\n",
    "        # load trial with DataLoader\n",
    "        dl = DataLoader(trial, sfx=SFX_CLEAN, vel_filt=None, verbose=verbose)\n",
    "        \n",
    "        print('Cleaned.')"
   ]
  },
  {
   "cell_type": "code",
   "execution_count": 2,
   "metadata": {
    "collapsed": true
   },
   "outputs": [],
   "source": [
    "clean_and_cache('dan', 'asensory_5_hz')"
   ]
  },
  {
   "cell_type": "code",
   "execution_count": 3,
   "metadata": {
    "collapsed": true
   },
   "outputs": [],
   "source": [
    "clean_and_cache('dan', 'asensory_10_hz')"
   ]
  },
  {
   "cell_type": "code",
   "execution_count": 4,
   "metadata": {
    "collapsed": true
   },
   "outputs": [],
   "source": [
    "clean_and_cache('dan', 'closed')"
   ]
  },
  {
   "cell_type": "code",
   "execution_count": 5,
   "metadata": {
    "collapsed": true
   },
   "outputs": [],
   "source": [
    "clean_and_cache('dan', 'sinusoidal')"
   ]
  },
  {
   "cell_type": "code",
   "execution_count": 6,
   "metadata": {
    "collapsed": true
   },
   "outputs": [],
   "source": [
    "clean_and_cache('dan', 'closed_white')"
   ]
  },
  {
   "cell_type": "code",
   "execution_count": 7,
   "metadata": {
    "collapsed": true
   },
   "outputs": [],
   "source": [
    "clean_and_cache('dan', 'no_air_motion')"
   ]
  },
  {
   "cell_type": "code",
   "execution_count": 8,
   "metadata": {
    "collapsed": true
   },
   "outputs": [],
   "source": [
    "clean_and_cache('dan', 'closed_odor_fluct')"
   ]
  },
  {
   "cell_type": "code",
   "execution_count": 9,
   "metadata": {
    "collapsed": true
   },
   "outputs": [],
   "source": [
    "clean_and_cache('dan', 'white_odor_fluct')"
   ]
  },
  {
   "cell_type": "code",
   "execution_count": 10,
   "metadata": {
    "collapsed": true
   },
   "outputs": [],
   "source": [
    "clean_and_cache('dan', 'no_air')"
   ]
  },
  {
   "cell_type": "code",
   "execution_count": 11,
   "metadata": {
    "collapsed": true
   },
   "outputs": [],
   "source": [
    "clean_and_cache('dan', 'single_pulse')"
   ]
  },
  {
   "cell_type": "code",
   "execution_count": 12,
   "metadata": {
    "collapsed": true
   },
   "outputs": [],
   "source": [
    "clean_and_cache('mbon', 'closed_odor_fluct')"
   ]
  },
  {
   "cell_type": "code",
   "execution_count": 13,
   "metadata": {
    "collapsed": true
   },
   "outputs": [],
   "source": [
    "clean_and_cache('mbon', 'white_odor_fluct')"
   ]
  },
  {
   "cell_type": "code",
   "execution_count": 14,
   "metadata": {
    "collapsed": true
   },
   "outputs": [],
   "source": [
    "clean_and_cache('mbon', 'no_air')"
   ]
  },
  {
   "cell_type": "code",
   "execution_count": 2,
   "metadata": {
    "collapsed": true
   },
   "outputs": [
    {
     "name": "stdout",
     "output_type": "stream",
     "text": [
      "Cleaning data from trial \"20180309.Fly1.01\".\n"
     ]
    },
    {
     "name": "stderr",
     "output_type": "stream",
     "text": [
      "/Users/rkp/Dropbox/Repositories/mushroom_mushroom/data.py:475: RuntimeWarning: invalid value encountered in less\n",
      "  mask_low = odor_binary < C.ODOR_BINARY_CUTOFF\n",
      "/Users/rkp/Dropbox/Repositories/mushroom_mushroom/data.py:476: RuntimeWarning: invalid value encountered in greater_equal\n",
      "  mask_high = odor_binary >= C.ODOR_BINARY_CUTOFF\n",
      "/Users/rkp/Dropbox/Repositories/mushroom_mushroom/data.py:636: RuntimeWarning: invalid value encountered in less\n",
      "  down_jumps = cc([[0.], (diff < (-th_jump * x_range)).astype(float)])\n",
      "/Users/rkp/Dropbox/Repositories/mushroom_mushroom/data.py:637: RuntimeWarning: invalid value encountered in greater\n",
      "  up_jumps = cc([[0.], (diff > (th_jump * x_range)).astype(float)])\n"
     ]
    },
    {
     "name": "stdout",
     "output_type": "stream",
     "text": [
      "Cleaned.\n",
      "Cleaning data from trial \"20180309.Fly1.03\".\n"
     ]
    },
    {
     "name": "stderr",
     "output_type": "stream",
     "text": [
      "/Users/rkp/Dropbox/Repositories/mushroom_mushroom/data.py:475: RuntimeWarning: invalid value encountered in less\n",
      "  mask_low = odor_binary < C.ODOR_BINARY_CUTOFF\n",
      "/Users/rkp/Dropbox/Repositories/mushroom_mushroom/data.py:476: RuntimeWarning: invalid value encountered in greater_equal\n",
      "  mask_high = odor_binary >= C.ODOR_BINARY_CUTOFF\n",
      "/Users/rkp/Dropbox/Repositories/mushroom_mushroom/data.py:636: RuntimeWarning: invalid value encountered in less\n",
      "  down_jumps = cc([[0.], (diff < (-th_jump * x_range)).astype(float)])\n",
      "/Users/rkp/Dropbox/Repositories/mushroom_mushroom/data.py:637: RuntimeWarning: invalid value encountered in greater\n",
      "  up_jumps = cc([[0.], (diff > (th_jump * x_range)).astype(float)])\n"
     ]
    },
    {
     "name": "stdout",
     "output_type": "stream",
     "text": [
      "Cleaned.\n",
      "Cleaning data from trial \"20180309.Fly1.05\".\n"
     ]
    },
    {
     "name": "stderr",
     "output_type": "stream",
     "text": [
      "/Users/rkp/Dropbox/Repositories/mushroom_mushroom/data.py:475: RuntimeWarning: invalid value encountered in less\n",
      "  mask_low = odor_binary < C.ODOR_BINARY_CUTOFF\n",
      "/Users/rkp/Dropbox/Repositories/mushroom_mushroom/data.py:476: RuntimeWarning: invalid value encountered in greater_equal\n",
      "  mask_high = odor_binary >= C.ODOR_BINARY_CUTOFF\n",
      "/Users/rkp/Dropbox/Repositories/mushroom_mushroom/data.py:636: RuntimeWarning: invalid value encountered in less\n",
      "  down_jumps = cc([[0.], (diff < (-th_jump * x_range)).astype(float)])\n",
      "/Users/rkp/Dropbox/Repositories/mushroom_mushroom/data.py:637: RuntimeWarning: invalid value encountered in greater\n",
      "  up_jumps = cc([[0.], (diff > (th_jump * x_range)).astype(float)])\n"
     ]
    },
    {
     "name": "stdout",
     "output_type": "stream",
     "text": [
      "Cleaned.\n",
      "Cleaning data from trial \"20180309.Fly1.07\".\n"
     ]
    },
    {
     "name": "stderr",
     "output_type": "stream",
     "text": [
      "/Users/rkp/Dropbox/Repositories/mushroom_mushroom/data.py:475: RuntimeWarning: invalid value encountered in less\n",
      "  mask_low = odor_binary < C.ODOR_BINARY_CUTOFF\n",
      "/Users/rkp/Dropbox/Repositories/mushroom_mushroom/data.py:476: RuntimeWarning: invalid value encountered in greater_equal\n",
      "  mask_high = odor_binary >= C.ODOR_BINARY_CUTOFF\n",
      "/Users/rkp/Dropbox/Repositories/mushroom_mushroom/data.py:636: RuntimeWarning: invalid value encountered in less\n",
      "  down_jumps = cc([[0.], (diff < (-th_jump * x_range)).astype(float)])\n",
      "/Users/rkp/Dropbox/Repositories/mushroom_mushroom/data.py:637: RuntimeWarning: invalid value encountered in greater\n",
      "  up_jumps = cc([[0.], (diff > (th_jump * x_range)).astype(float)])\n"
     ]
    },
    {
     "name": "stdout",
     "output_type": "stream",
     "text": [
      "Cleaned.\n",
      "Cleaning data from trial \"20180309.Fly2.09\".\n"
     ]
    },
    {
     "name": "stderr",
     "output_type": "stream",
     "text": [
      "/Users/rkp/Dropbox/Repositories/mushroom_mushroom/data.py:475: RuntimeWarning: invalid value encountered in less\n",
      "  mask_low = odor_binary < C.ODOR_BINARY_CUTOFF\n",
      "/Users/rkp/Dropbox/Repositories/mushroom_mushroom/data.py:476: RuntimeWarning: invalid value encountered in greater_equal\n",
      "  mask_high = odor_binary >= C.ODOR_BINARY_CUTOFF\n",
      "/Users/rkp/Dropbox/Repositories/mushroom_mushroom/data.py:636: RuntimeWarning: invalid value encountered in less\n",
      "  down_jumps = cc([[0.], (diff < (-th_jump * x_range)).astype(float)])\n",
      "/Users/rkp/Dropbox/Repositories/mushroom_mushroom/data.py:637: RuntimeWarning: invalid value encountered in greater\n",
      "  up_jumps = cc([[0.], (diff > (th_jump * x_range)).astype(float)])\n"
     ]
    },
    {
     "name": "stdout",
     "output_type": "stream",
     "text": [
      "Cleaned.\n",
      "Cleaning data from trial \"20180309.Fly2.11\".\n"
     ]
    },
    {
     "name": "stderr",
     "output_type": "stream",
     "text": [
      "/Users/rkp/Dropbox/Repositories/mushroom_mushroom/data.py:475: RuntimeWarning: invalid value encountered in less\n",
      "  mask_low = odor_binary < C.ODOR_BINARY_CUTOFF\n",
      "/Users/rkp/Dropbox/Repositories/mushroom_mushroom/data.py:476: RuntimeWarning: invalid value encountered in greater_equal\n",
      "  mask_high = odor_binary >= C.ODOR_BINARY_CUTOFF\n",
      "/Users/rkp/Dropbox/Repositories/mushroom_mushroom/data.py:636: RuntimeWarning: invalid value encountered in less\n",
      "  down_jumps = cc([[0.], (diff < (-th_jump * x_range)).astype(float)])\n",
      "/Users/rkp/Dropbox/Repositories/mushroom_mushroom/data.py:637: RuntimeWarning: invalid value encountered in greater\n",
      "  up_jumps = cc([[0.], (diff > (th_jump * x_range)).astype(float)])\n"
     ]
    },
    {
     "name": "stdout",
     "output_type": "stream",
     "text": [
      "Cleaned.\n",
      "Cleaning data from trial \"20180309.Fly2.13\".\n"
     ]
    },
    {
     "name": "stderr",
     "output_type": "stream",
     "text": [
      "/Users/rkp/Dropbox/Repositories/mushroom_mushroom/data.py:475: RuntimeWarning: invalid value encountered in less\n",
      "  mask_low = odor_binary < C.ODOR_BINARY_CUTOFF\n",
      "/Users/rkp/Dropbox/Repositories/mushroom_mushroom/data.py:476: RuntimeWarning: invalid value encountered in greater_equal\n",
      "  mask_high = odor_binary >= C.ODOR_BINARY_CUTOFF\n",
      "/Users/rkp/Dropbox/Repositories/mushroom_mushroom/data.py:636: RuntimeWarning: invalid value encountered in less\n",
      "  down_jumps = cc([[0.], (diff < (-th_jump * x_range)).astype(float)])\n",
      "/Users/rkp/Dropbox/Repositories/mushroom_mushroom/data.py:637: RuntimeWarning: invalid value encountered in greater\n",
      "  up_jumps = cc([[0.], (diff > (th_jump * x_range)).astype(float)])\n"
     ]
    },
    {
     "name": "stdout",
     "output_type": "stream",
     "text": [
      "Cleaned.\n",
      "Cleaning data from trial \"20180309.Fly2.15\".\n"
     ]
    },
    {
     "name": "stderr",
     "output_type": "stream",
     "text": [
      "/Users/rkp/Dropbox/Repositories/mushroom_mushroom/data.py:475: RuntimeWarning: invalid value encountered in less\n",
      "  mask_low = odor_binary < C.ODOR_BINARY_CUTOFF\n",
      "/Users/rkp/Dropbox/Repositories/mushroom_mushroom/data.py:476: RuntimeWarning: invalid value encountered in greater_equal\n",
      "  mask_high = odor_binary >= C.ODOR_BINARY_CUTOFF\n",
      "/Users/rkp/Dropbox/Repositories/mushroom_mushroom/data.py:636: RuntimeWarning: invalid value encountered in less\n",
      "  down_jumps = cc([[0.], (diff < (-th_jump * x_range)).astype(float)])\n",
      "/Users/rkp/Dropbox/Repositories/mushroom_mushroom/data.py:637: RuntimeWarning: invalid value encountered in greater\n",
      "  up_jumps = cc([[0.], (diff > (th_jump * x_range)).astype(float)])\n"
     ]
    },
    {
     "name": "stdout",
     "output_type": "stream",
     "text": [
      "Cleaned.\n",
      "Cleaning data from trial \"20180309.Fly3.17\".\n"
     ]
    },
    {
     "name": "stderr",
     "output_type": "stream",
     "text": [
      "/Users/rkp/Dropbox/Repositories/mushroom_mushroom/data.py:475: RuntimeWarning: invalid value encountered in less\n",
      "  mask_low = odor_binary < C.ODOR_BINARY_CUTOFF\n",
      "/Users/rkp/Dropbox/Repositories/mushroom_mushroom/data.py:476: RuntimeWarning: invalid value encountered in greater_equal\n",
      "  mask_high = odor_binary >= C.ODOR_BINARY_CUTOFF\n",
      "/Users/rkp/Dropbox/Repositories/mushroom_mushroom/data.py:636: RuntimeWarning: invalid value encountered in less\n",
      "  down_jumps = cc([[0.], (diff < (-th_jump * x_range)).astype(float)])\n",
      "/Users/rkp/Dropbox/Repositories/mushroom_mushroom/data.py:637: RuntimeWarning: invalid value encountered in greater\n",
      "  up_jumps = cc([[0.], (diff > (th_jump * x_range)).astype(float)])\n"
     ]
    },
    {
     "name": "stdout",
     "output_type": "stream",
     "text": [
      "Cleaned.\n",
      "Cleaning data from trial \"20180309.Fly3.19\".\n"
     ]
    },
    {
     "name": "stderr",
     "output_type": "stream",
     "text": [
      "/Users/rkp/Dropbox/Repositories/mushroom_mushroom/data.py:475: RuntimeWarning: invalid value encountered in less\n",
      "  mask_low = odor_binary < C.ODOR_BINARY_CUTOFF\n",
      "/Users/rkp/Dropbox/Repositories/mushroom_mushroom/data.py:476: RuntimeWarning: invalid value encountered in greater_equal\n",
      "  mask_high = odor_binary >= C.ODOR_BINARY_CUTOFF\n",
      "/Users/rkp/Dropbox/Repositories/mushroom_mushroom/data.py:636: RuntimeWarning: invalid value encountered in less\n",
      "  down_jumps = cc([[0.], (diff < (-th_jump * x_range)).astype(float)])\n",
      "/Users/rkp/Dropbox/Repositories/mushroom_mushroom/data.py:637: RuntimeWarning: invalid value encountered in greater\n",
      "  up_jumps = cc([[0.], (diff > (th_jump * x_range)).astype(float)])\n"
     ]
    },
    {
     "name": "stdout",
     "output_type": "stream",
     "text": [
      "Cleaned.\n",
      "Cleaning data from trial \"20180309.Fly3.21\".\n"
     ]
    },
    {
     "name": "stderr",
     "output_type": "stream",
     "text": [
      "/Users/rkp/Dropbox/Repositories/mushroom_mushroom/data.py:475: RuntimeWarning: invalid value encountered in less\n",
      "  mask_low = odor_binary < C.ODOR_BINARY_CUTOFF\n",
      "/Users/rkp/Dropbox/Repositories/mushroom_mushroom/data.py:476: RuntimeWarning: invalid value encountered in greater_equal\n",
      "  mask_high = odor_binary >= C.ODOR_BINARY_CUTOFF\n",
      "/Users/rkp/Dropbox/Repositories/mushroom_mushroom/data.py:636: RuntimeWarning: invalid value encountered in less\n",
      "  down_jumps = cc([[0.], (diff < (-th_jump * x_range)).astype(float)])\n",
      "/Users/rkp/Dropbox/Repositories/mushroom_mushroom/data.py:637: RuntimeWarning: invalid value encountered in greater\n",
      "  up_jumps = cc([[0.], (diff > (th_jump * x_range)).astype(float)])\n"
     ]
    },
    {
     "name": "stdout",
     "output_type": "stream",
     "text": [
      "Cleaned.\n",
      "Cleaning data from trial \"20180309.Fly3.23\".\n"
     ]
    },
    {
     "name": "stderr",
     "output_type": "stream",
     "text": [
      "/Users/rkp/Dropbox/Repositories/mushroom_mushroom/data.py:475: RuntimeWarning: invalid value encountered in less\n",
      "  mask_low = odor_binary < C.ODOR_BINARY_CUTOFF\n",
      "/Users/rkp/Dropbox/Repositories/mushroom_mushroom/data.py:476: RuntimeWarning: invalid value encountered in greater_equal\n",
      "  mask_high = odor_binary >= C.ODOR_BINARY_CUTOFF\n",
      "/Users/rkp/Dropbox/Repositories/mushroom_mushroom/data.py:636: RuntimeWarning: invalid value encountered in less\n",
      "  down_jumps = cc([[0.], (diff < (-th_jump * x_range)).astype(float)])\n",
      "/Users/rkp/Dropbox/Repositories/mushroom_mushroom/data.py:637: RuntimeWarning: invalid value encountered in greater\n",
      "  up_jumps = cc([[0.], (diff > (th_jump * x_range)).astype(float)])\n"
     ]
    },
    {
     "name": "stdout",
     "output_type": "stream",
     "text": [
      "Cleaned.\n",
      "Cleaning data from trial \"20180309.Fly4.25\".\n"
     ]
    },
    {
     "name": "stderr",
     "output_type": "stream",
     "text": [
      "/Users/rkp/Dropbox/Repositories/mushroom_mushroom/data.py:475: RuntimeWarning: invalid value encountered in less\n",
      "  mask_low = odor_binary < C.ODOR_BINARY_CUTOFF\n",
      "/Users/rkp/Dropbox/Repositories/mushroom_mushroom/data.py:476: RuntimeWarning: invalid value encountered in greater_equal\n",
      "  mask_high = odor_binary >= C.ODOR_BINARY_CUTOFF\n",
      "/Users/rkp/Dropbox/Repositories/mushroom_mushroom/data.py:636: RuntimeWarning: invalid value encountered in less\n",
      "  down_jumps = cc([[0.], (diff < (-th_jump * x_range)).astype(float)])\n",
      "/Users/rkp/Dropbox/Repositories/mushroom_mushroom/data.py:637: RuntimeWarning: invalid value encountered in greater\n",
      "  up_jumps = cc([[0.], (diff > (th_jump * x_range)).astype(float)])\n"
     ]
    },
    {
     "name": "stdout",
     "output_type": "stream",
     "text": [
      "Cleaned.\n",
      "Cleaning data from trial \"20180309.Fly4.27\".\n"
     ]
    },
    {
     "name": "stderr",
     "output_type": "stream",
     "text": [
      "/Users/rkp/Dropbox/Repositories/mushroom_mushroom/data.py:475: RuntimeWarning: invalid value encountered in less\n",
      "  mask_low = odor_binary < C.ODOR_BINARY_CUTOFF\n",
      "/Users/rkp/Dropbox/Repositories/mushroom_mushroom/data.py:476: RuntimeWarning: invalid value encountered in greater_equal\n",
      "  mask_high = odor_binary >= C.ODOR_BINARY_CUTOFF\n",
      "/Users/rkp/Dropbox/Repositories/mushroom_mushroom/data.py:636: RuntimeWarning: invalid value encountered in less\n",
      "  down_jumps = cc([[0.], (diff < (-th_jump * x_range)).astype(float)])\n",
      "/Users/rkp/Dropbox/Repositories/mushroom_mushroom/data.py:637: RuntimeWarning: invalid value encountered in greater\n",
      "  up_jumps = cc([[0.], (diff > (th_jump * x_range)).astype(float)])\n"
     ]
    },
    {
     "name": "stdout",
     "output_type": "stream",
     "text": [
      "Cleaned.\n",
      "Cleaning data from trial \"20180309.Fly4.29\".\n"
     ]
    },
    {
     "name": "stderr",
     "output_type": "stream",
     "text": [
      "/Users/rkp/Dropbox/Repositories/mushroom_mushroom/data.py:475: RuntimeWarning: invalid value encountered in less\n",
      "  mask_low = odor_binary < C.ODOR_BINARY_CUTOFF\n",
      "/Users/rkp/Dropbox/Repositories/mushroom_mushroom/data.py:476: RuntimeWarning: invalid value encountered in greater_equal\n",
      "  mask_high = odor_binary >= C.ODOR_BINARY_CUTOFF\n",
      "/Users/rkp/Dropbox/Repositories/mushroom_mushroom/data.py:636: RuntimeWarning: invalid value encountered in less\n",
      "  down_jumps = cc([[0.], (diff < (-th_jump * x_range)).astype(float)])\n",
      "/Users/rkp/Dropbox/Repositories/mushroom_mushroom/data.py:637: RuntimeWarning: invalid value encountered in greater\n",
      "  up_jumps = cc([[0.], (diff > (th_jump * x_range)).astype(float)])\n"
     ]
    },
    {
     "name": "stdout",
     "output_type": "stream",
     "text": [
      "Cleaned.\n",
      "Cleaning data from trial \"20180309.Fly5.31\".\n"
     ]
    },
    {
     "name": "stderr",
     "output_type": "stream",
     "text": [
      "/Users/rkp/Dropbox/Repositories/mushroom_mushroom/data.py:475: RuntimeWarning: invalid value encountered in less\n",
      "  mask_low = odor_binary < C.ODOR_BINARY_CUTOFF\n",
      "/Users/rkp/Dropbox/Repositories/mushroom_mushroom/data.py:476: RuntimeWarning: invalid value encountered in greater_equal\n",
      "  mask_high = odor_binary >= C.ODOR_BINARY_CUTOFF\n",
      "/Users/rkp/Dropbox/Repositories/mushroom_mushroom/data.py:636: RuntimeWarning: invalid value encountered in less\n",
      "  down_jumps = cc([[0.], (diff < (-th_jump * x_range)).astype(float)])\n",
      "/Users/rkp/Dropbox/Repositories/mushroom_mushroom/data.py:637: RuntimeWarning: invalid value encountered in greater\n",
      "  up_jumps = cc([[0.], (diff > (th_jump * x_range)).astype(float)])\n"
     ]
    },
    {
     "name": "stdout",
     "output_type": "stream",
     "text": [
      "Cleaned.\n",
      "Cleaning data from trial \"20180309.Fly5.33\".\n"
     ]
    },
    {
     "name": "stderr",
     "output_type": "stream",
     "text": [
      "/Users/rkp/Dropbox/Repositories/mushroom_mushroom/data.py:475: RuntimeWarning: invalid value encountered in less\n",
      "  mask_low = odor_binary < C.ODOR_BINARY_CUTOFF\n",
      "/Users/rkp/Dropbox/Repositories/mushroom_mushroom/data.py:476: RuntimeWarning: invalid value encountered in greater_equal\n",
      "  mask_high = odor_binary >= C.ODOR_BINARY_CUTOFF\n",
      "/Users/rkp/Dropbox/Repositories/mushroom_mushroom/data.py:636: RuntimeWarning: invalid value encountered in less\n",
      "  down_jumps = cc([[0.], (diff < (-th_jump * x_range)).astype(float)])\n",
      "/Users/rkp/Dropbox/Repositories/mushroom_mushroom/data.py:637: RuntimeWarning: invalid value encountered in greater\n",
      "  up_jumps = cc([[0.], (diff > (th_jump * x_range)).astype(float)])\n"
     ]
    },
    {
     "name": "stdout",
     "output_type": "stream",
     "text": [
      "Cleaned.\n",
      "Cleaning data from trial \"20180309.Fly5.35\".\n"
     ]
    },
    {
     "name": "stderr",
     "output_type": "stream",
     "text": [
      "/Users/rkp/Dropbox/Repositories/mushroom_mushroom/data.py:475: RuntimeWarning: invalid value encountered in less\n",
      "  mask_low = odor_binary < C.ODOR_BINARY_CUTOFF\n",
      "/Users/rkp/Dropbox/Repositories/mushroom_mushroom/data.py:476: RuntimeWarning: invalid value encountered in greater_equal\n",
      "  mask_high = odor_binary >= C.ODOR_BINARY_CUTOFF\n",
      "/Users/rkp/Dropbox/Repositories/mushroom_mushroom/data.py:636: RuntimeWarning: invalid value encountered in less\n",
      "  down_jumps = cc([[0.], (diff < (-th_jump * x_range)).astype(float)])\n",
      "/Users/rkp/Dropbox/Repositories/mushroom_mushroom/data.py:637: RuntimeWarning: invalid value encountered in greater\n",
      "  up_jumps = cc([[0.], (diff > (th_jump * x_range)).astype(float)])\n"
     ]
    },
    {
     "name": "stdout",
     "output_type": "stream",
     "text": [
      "Cleaned.\n",
      "Cleaning data from trial \"20180309.Fly5.37\".\n"
     ]
    },
    {
     "name": "stderr",
     "output_type": "stream",
     "text": [
      "/Users/rkp/Dropbox/Repositories/mushroom_mushroom/data.py:475: RuntimeWarning: invalid value encountered in less\n",
      "  mask_low = odor_binary < C.ODOR_BINARY_CUTOFF\n",
      "/Users/rkp/Dropbox/Repositories/mushroom_mushroom/data.py:476: RuntimeWarning: invalid value encountered in greater_equal\n",
      "  mask_high = odor_binary >= C.ODOR_BINARY_CUTOFF\n",
      "/Users/rkp/Dropbox/Repositories/mushroom_mushroom/data.py:636: RuntimeWarning: invalid value encountered in less\n",
      "  down_jumps = cc([[0.], (diff < (-th_jump * x_range)).astype(float)])\n",
      "/Users/rkp/Dropbox/Repositories/mushroom_mushroom/data.py:637: RuntimeWarning: invalid value encountered in greater\n",
      "  up_jumps = cc([[0.], (diff > (th_jump * x_range)).astype(float)])\n"
     ]
    },
    {
     "name": "stdout",
     "output_type": "stream",
     "text": [
      "Cleaned.\n",
      "Cleaning data from trial \"20180309.Fly6.39\".\n"
     ]
    },
    {
     "name": "stderr",
     "output_type": "stream",
     "text": [
      "/Users/rkp/Dropbox/Repositories/mushroom_mushroom/data.py:475: RuntimeWarning: invalid value encountered in less\n",
      "  mask_low = odor_binary < C.ODOR_BINARY_CUTOFF\n",
      "/Users/rkp/Dropbox/Repositories/mushroom_mushroom/data.py:476: RuntimeWarning: invalid value encountered in greater_equal\n",
      "  mask_high = odor_binary >= C.ODOR_BINARY_CUTOFF\n",
      "/Users/rkp/Dropbox/Repositories/mushroom_mushroom/data.py:636: RuntimeWarning: invalid value encountered in less\n",
      "  down_jumps = cc([[0.], (diff < (-th_jump * x_range)).astype(float)])\n",
      "/Users/rkp/Dropbox/Repositories/mushroom_mushroom/data.py:637: RuntimeWarning: invalid value encountered in greater\n",
      "  up_jumps = cc([[0.], (diff > (th_jump * x_range)).astype(float)])\n"
     ]
    },
    {
     "name": "stdout",
     "output_type": "stream",
     "text": [
      "Cleaned.\n",
      "Cleaning data from trial \"20180309.Fly6.41\".\n"
     ]
    },
    {
     "name": "stderr",
     "output_type": "stream",
     "text": [
      "/Users/rkp/Dropbox/Repositories/mushroom_mushroom/data.py:475: RuntimeWarning: invalid value encountered in less\n",
      "  mask_low = odor_binary < C.ODOR_BINARY_CUTOFF\n",
      "/Users/rkp/Dropbox/Repositories/mushroom_mushroom/data.py:476: RuntimeWarning: invalid value encountered in greater_equal\n",
      "  mask_high = odor_binary >= C.ODOR_BINARY_CUTOFF\n",
      "/Users/rkp/Dropbox/Repositories/mushroom_mushroom/data.py:636: RuntimeWarning: invalid value encountered in less\n",
      "  down_jumps = cc([[0.], (diff < (-th_jump * x_range)).astype(float)])\n",
      "/Users/rkp/Dropbox/Repositories/mushroom_mushroom/data.py:637: RuntimeWarning: invalid value encountered in greater\n",
      "  up_jumps = cc([[0.], (diff > (th_jump * x_range)).astype(float)])\n"
     ]
    },
    {
     "name": "stdout",
     "output_type": "stream",
     "text": [
      "Cleaned.\n",
      "Cleaning data from trial \"20180309.Fly6.43\".\n"
     ]
    },
    {
     "name": "stderr",
     "output_type": "stream",
     "text": [
      "/Users/rkp/Dropbox/Repositories/mushroom_mushroom/data.py:475: RuntimeWarning: invalid value encountered in less\n",
      "  mask_low = odor_binary < C.ODOR_BINARY_CUTOFF\n",
      "/Users/rkp/Dropbox/Repositories/mushroom_mushroom/data.py:476: RuntimeWarning: invalid value encountered in greater_equal\n",
      "  mask_high = odor_binary >= C.ODOR_BINARY_CUTOFF\n",
      "/Users/rkp/Dropbox/Repositories/mushroom_mushroom/data.py:636: RuntimeWarning: invalid value encountered in less\n",
      "  down_jumps = cc([[0.], (diff < (-th_jump * x_range)).astype(float)])\n",
      "/Users/rkp/Dropbox/Repositories/mushroom_mushroom/data.py:637: RuntimeWarning: invalid value encountered in greater\n",
      "  up_jumps = cc([[0.], (diff > (th_jump * x_range)).astype(float)])\n"
     ]
    },
    {
     "name": "stdout",
     "output_type": "stream",
     "text": [
      "Cleaned.\n",
      "Cleaning data from trial \"20180309.Fly6.45\".\n"
     ]
    },
    {
     "name": "stderr",
     "output_type": "stream",
     "text": [
      "/Users/rkp/Dropbox/Repositories/mushroom_mushroom/data.py:475: RuntimeWarning: invalid value encountered in less\n",
      "  mask_low = odor_binary < C.ODOR_BINARY_CUTOFF\n",
      "/Users/rkp/Dropbox/Repositories/mushroom_mushroom/data.py:476: RuntimeWarning: invalid value encountered in greater_equal\n",
      "  mask_high = odor_binary >= C.ODOR_BINARY_CUTOFF\n",
      "/Users/rkp/Dropbox/Repositories/mushroom_mushroom/data.py:636: RuntimeWarning: invalid value encountered in less\n",
      "  down_jumps = cc([[0.], (diff < (-th_jump * x_range)).astype(float)])\n",
      "/Users/rkp/Dropbox/Repositories/mushroom_mushroom/data.py:637: RuntimeWarning: invalid value encountered in greater\n",
      "  up_jumps = cc([[0.], (diff > (th_jump * x_range)).astype(float)])\n"
     ]
    },
    {
     "name": "stdout",
     "output_type": "stream",
     "text": [
      "Cleaned.\n"
     ]
    }
   ],
   "source": [
    "clean_and_cache('dan', 'white_odor_fluct_highflow')"
   ]
  },
  {
   "cell_type": "code",
   "execution_count": 3,
   "metadata": {
    "collapsed": true
   },
   "outputs": [
    {
     "name": "stdout",
     "output_type": "stream",
     "text": [
      "Cleaning data from trial \"20180309.Fly1.02\".\n"
     ]
    },
    {
     "name": "stderr",
     "output_type": "stream",
     "text": [
      "/Users/rkp/Dropbox/Repositories/mushroom_mushroom/data.py:475: RuntimeWarning: invalid value encountered in less\n",
      "  mask_low = odor_binary < C.ODOR_BINARY_CUTOFF\n",
      "/Users/rkp/Dropbox/Repositories/mushroom_mushroom/data.py:476: RuntimeWarning: invalid value encountered in greater_equal\n",
      "  mask_high = odor_binary >= C.ODOR_BINARY_CUTOFF\n",
      "/Users/rkp/Dropbox/Repositories/mushroom_mushroom/data.py:636: RuntimeWarning: invalid value encountered in less\n",
      "  down_jumps = cc([[0.], (diff < (-th_jump * x_range)).astype(float)])\n",
      "/Users/rkp/Dropbox/Repositories/mushroom_mushroom/data.py:637: RuntimeWarning: invalid value encountered in greater\n",
      "  up_jumps = cc([[0.], (diff > (th_jump * x_range)).astype(float)])\n"
     ]
    },
    {
     "name": "stdout",
     "output_type": "stream",
     "text": [
      "Cleaned.\n",
      "Cleaning data from trial \"20180309.Fly1.04\".\n"
     ]
    },
    {
     "name": "stderr",
     "output_type": "stream",
     "text": [
      "/Users/rkp/Dropbox/Repositories/mushroom_mushroom/data.py:475: RuntimeWarning: invalid value encountered in less\n",
      "  mask_low = odor_binary < C.ODOR_BINARY_CUTOFF\n",
      "/Users/rkp/Dropbox/Repositories/mushroom_mushroom/data.py:476: RuntimeWarning: invalid value encountered in greater_equal\n",
      "  mask_high = odor_binary >= C.ODOR_BINARY_CUTOFF\n",
      "/Users/rkp/Dropbox/Repositories/mushroom_mushroom/data.py:636: RuntimeWarning: invalid value encountered in less\n",
      "  down_jumps = cc([[0.], (diff < (-th_jump * x_range)).astype(float)])\n",
      "/Users/rkp/Dropbox/Repositories/mushroom_mushroom/data.py:637: RuntimeWarning: invalid value encountered in greater\n",
      "  up_jumps = cc([[0.], (diff > (th_jump * x_range)).astype(float)])\n"
     ]
    },
    {
     "name": "stdout",
     "output_type": "stream",
     "text": [
      "Cleaned.\n",
      "Cleaning data from trial \"20180309.Fly1.06\".\n"
     ]
    },
    {
     "name": "stderr",
     "output_type": "stream",
     "text": [
      "/Users/rkp/Dropbox/Repositories/mushroom_mushroom/data.py:475: RuntimeWarning: invalid value encountered in less\n",
      "  mask_low = odor_binary < C.ODOR_BINARY_CUTOFF\n",
      "/Users/rkp/Dropbox/Repositories/mushroom_mushroom/data.py:476: RuntimeWarning: invalid value encountered in greater_equal\n",
      "  mask_high = odor_binary >= C.ODOR_BINARY_CUTOFF\n",
      "/Users/rkp/Dropbox/Repositories/mushroom_mushroom/data.py:636: RuntimeWarning: invalid value encountered in less\n",
      "  down_jumps = cc([[0.], (diff < (-th_jump * x_range)).astype(float)])\n",
      "/Users/rkp/Dropbox/Repositories/mushroom_mushroom/data.py:637: RuntimeWarning: invalid value encountered in greater\n",
      "  up_jumps = cc([[0.], (diff > (th_jump * x_range)).astype(float)])\n"
     ]
    },
    {
     "name": "stdout",
     "output_type": "stream",
     "text": [
      "Cleaned.\n",
      "Cleaning data from trial \"20180309.Fly1.08\".\n"
     ]
    },
    {
     "name": "stderr",
     "output_type": "stream",
     "text": [
      "/Users/rkp/Dropbox/Repositories/mushroom_mushroom/data.py:475: RuntimeWarning: invalid value encountered in less\n",
      "  mask_low = odor_binary < C.ODOR_BINARY_CUTOFF\n",
      "/Users/rkp/Dropbox/Repositories/mushroom_mushroom/data.py:476: RuntimeWarning: invalid value encountered in greater_equal\n",
      "  mask_high = odor_binary >= C.ODOR_BINARY_CUTOFF\n",
      "/Users/rkp/Dropbox/Repositories/mushroom_mushroom/data.py:636: RuntimeWarning: invalid value encountered in less\n",
      "  down_jumps = cc([[0.], (diff < (-th_jump * x_range)).astype(float)])\n",
      "/Users/rkp/Dropbox/Repositories/mushroom_mushroom/data.py:637: RuntimeWarning: invalid value encountered in greater\n",
      "  up_jumps = cc([[0.], (diff > (th_jump * x_range)).astype(float)])\n"
     ]
    },
    {
     "name": "stdout",
     "output_type": "stream",
     "text": [
      "Cleaned.\n",
      "Cleaning data from trial \"20180309.Fly2.10\".\n"
     ]
    },
    {
     "name": "stderr",
     "output_type": "stream",
     "text": [
      "/Users/rkp/Dropbox/Repositories/mushroom_mushroom/data.py:475: RuntimeWarning: invalid value encountered in less\n",
      "  mask_low = odor_binary < C.ODOR_BINARY_CUTOFF\n",
      "/Users/rkp/Dropbox/Repositories/mushroom_mushroom/data.py:476: RuntimeWarning: invalid value encountered in greater_equal\n",
      "  mask_high = odor_binary >= C.ODOR_BINARY_CUTOFF\n",
      "/Users/rkp/Dropbox/Repositories/mushroom_mushroom/data.py:636: RuntimeWarning: invalid value encountered in less\n",
      "  down_jumps = cc([[0.], (diff < (-th_jump * x_range)).astype(float)])\n",
      "/Users/rkp/Dropbox/Repositories/mushroom_mushroom/data.py:637: RuntimeWarning: invalid value encountered in greater\n",
      "  up_jumps = cc([[0.], (diff > (th_jump * x_range)).astype(float)])\n"
     ]
    },
    {
     "name": "stdout",
     "output_type": "stream",
     "text": [
      "Cleaned.\n",
      "Cleaning data from trial \"20180309.Fly2.12\".\n"
     ]
    },
    {
     "name": "stderr",
     "output_type": "stream",
     "text": [
      "/Users/rkp/Dropbox/Repositories/mushroom_mushroom/data.py:475: RuntimeWarning: invalid value encountered in less\n",
      "  mask_low = odor_binary < C.ODOR_BINARY_CUTOFF\n",
      "/Users/rkp/Dropbox/Repositories/mushroom_mushroom/data.py:476: RuntimeWarning: invalid value encountered in greater_equal\n",
      "  mask_high = odor_binary >= C.ODOR_BINARY_CUTOFF\n",
      "/Users/rkp/Dropbox/Repositories/mushroom_mushroom/data.py:636: RuntimeWarning: invalid value encountered in less\n",
      "  down_jumps = cc([[0.], (diff < (-th_jump * x_range)).astype(float)])\n",
      "/Users/rkp/Dropbox/Repositories/mushroom_mushroom/data.py:637: RuntimeWarning: invalid value encountered in greater\n",
      "  up_jumps = cc([[0.], (diff > (th_jump * x_range)).astype(float)])\n"
     ]
    },
    {
     "name": "stdout",
     "output_type": "stream",
     "text": [
      "Cleaned.\n",
      "Cleaning data from trial \"20180309.Fly2.14\".\n"
     ]
    },
    {
     "name": "stderr",
     "output_type": "stream",
     "text": [
      "/Users/rkp/Dropbox/Repositories/mushroom_mushroom/data.py:475: RuntimeWarning: invalid value encountered in less\n",
      "  mask_low = odor_binary < C.ODOR_BINARY_CUTOFF\n",
      "/Users/rkp/Dropbox/Repositories/mushroom_mushroom/data.py:476: RuntimeWarning: invalid value encountered in greater_equal\n",
      "  mask_high = odor_binary >= C.ODOR_BINARY_CUTOFF\n",
      "/Users/rkp/Dropbox/Repositories/mushroom_mushroom/data.py:636: RuntimeWarning: invalid value encountered in less\n",
      "  down_jumps = cc([[0.], (diff < (-th_jump * x_range)).astype(float)])\n",
      "/Users/rkp/Dropbox/Repositories/mushroom_mushroom/data.py:637: RuntimeWarning: invalid value encountered in greater\n",
      "  up_jumps = cc([[0.], (diff > (th_jump * x_range)).astype(float)])\n"
     ]
    },
    {
     "name": "stdout",
     "output_type": "stream",
     "text": [
      "Cleaned.\n",
      "Cleaning data from trial \"20180309.Fly2.16\".\n"
     ]
    },
    {
     "name": "stderr",
     "output_type": "stream",
     "text": [
      "/Users/rkp/Dropbox/Repositories/mushroom_mushroom/data.py:475: RuntimeWarning: invalid value encountered in less\n",
      "  mask_low = odor_binary < C.ODOR_BINARY_CUTOFF\n",
      "/Users/rkp/Dropbox/Repositories/mushroom_mushroom/data.py:476: RuntimeWarning: invalid value encountered in greater_equal\n",
      "  mask_high = odor_binary >= C.ODOR_BINARY_CUTOFF\n",
      "/Users/rkp/Dropbox/Repositories/mushroom_mushroom/data.py:636: RuntimeWarning: invalid value encountered in less\n",
      "  down_jumps = cc([[0.], (diff < (-th_jump * x_range)).astype(float)])\n",
      "/Users/rkp/Dropbox/Repositories/mushroom_mushroom/data.py:637: RuntimeWarning: invalid value encountered in greater\n",
      "  up_jumps = cc([[0.], (diff > (th_jump * x_range)).astype(float)])\n"
     ]
    },
    {
     "name": "stdout",
     "output_type": "stream",
     "text": [
      "Cleaned.\n",
      "Cleaning data from trial \"20180309.Fly3.18\".\n"
     ]
    },
    {
     "name": "stderr",
     "output_type": "stream",
     "text": [
      "/Users/rkp/Dropbox/Repositories/mushroom_mushroom/data.py:475: RuntimeWarning: invalid value encountered in less\n",
      "  mask_low = odor_binary < C.ODOR_BINARY_CUTOFF\n",
      "/Users/rkp/Dropbox/Repositories/mushroom_mushroom/data.py:476: RuntimeWarning: invalid value encountered in greater_equal\n",
      "  mask_high = odor_binary >= C.ODOR_BINARY_CUTOFF\n",
      "/Users/rkp/Dropbox/Repositories/mushroom_mushroom/data.py:636: RuntimeWarning: invalid value encountered in less\n",
      "  down_jumps = cc([[0.], (diff < (-th_jump * x_range)).astype(float)])\n",
      "/Users/rkp/Dropbox/Repositories/mushroom_mushroom/data.py:637: RuntimeWarning: invalid value encountered in greater\n",
      "  up_jumps = cc([[0.], (diff > (th_jump * x_range)).astype(float)])\n"
     ]
    },
    {
     "name": "stdout",
     "output_type": "stream",
     "text": [
      "Cleaned.\n",
      "Cleaning data from trial \"20180309.Fly3.20\".\n"
     ]
    },
    {
     "name": "stderr",
     "output_type": "stream",
     "text": [
      "/Users/rkp/Dropbox/Repositories/mushroom_mushroom/data.py:475: RuntimeWarning: invalid value encountered in less\n",
      "  mask_low = odor_binary < C.ODOR_BINARY_CUTOFF\n",
      "/Users/rkp/Dropbox/Repositories/mushroom_mushroom/data.py:476: RuntimeWarning: invalid value encountered in greater_equal\n",
      "  mask_high = odor_binary >= C.ODOR_BINARY_CUTOFF\n",
      "/Users/rkp/Dropbox/Repositories/mushroom_mushroom/data.py:636: RuntimeWarning: invalid value encountered in less\n",
      "  down_jumps = cc([[0.], (diff < (-th_jump * x_range)).astype(float)])\n",
      "/Users/rkp/Dropbox/Repositories/mushroom_mushroom/data.py:637: RuntimeWarning: invalid value encountered in greater\n",
      "  up_jumps = cc([[0.], (diff > (th_jump * x_range)).astype(float)])\n"
     ]
    },
    {
     "name": "stdout",
     "output_type": "stream",
     "text": [
      "Cleaned.\n",
      "Cleaning data from trial \"20180309.Fly3.22\".\n"
     ]
    },
    {
     "name": "stderr",
     "output_type": "stream",
     "text": [
      "/Users/rkp/Dropbox/Repositories/mushroom_mushroom/data.py:475: RuntimeWarning: invalid value encountered in less\n",
      "  mask_low = odor_binary < C.ODOR_BINARY_CUTOFF\n",
      "/Users/rkp/Dropbox/Repositories/mushroom_mushroom/data.py:476: RuntimeWarning: invalid value encountered in greater_equal\n",
      "  mask_high = odor_binary >= C.ODOR_BINARY_CUTOFF\n",
      "/Users/rkp/Dropbox/Repositories/mushroom_mushroom/data.py:636: RuntimeWarning: invalid value encountered in less\n",
      "  down_jumps = cc([[0.], (diff < (-th_jump * x_range)).astype(float)])\n",
      "/Users/rkp/Dropbox/Repositories/mushroom_mushroom/data.py:637: RuntimeWarning: invalid value encountered in greater\n",
      "  up_jumps = cc([[0.], (diff > (th_jump * x_range)).astype(float)])\n"
     ]
    },
    {
     "name": "stdout",
     "output_type": "stream",
     "text": [
      "Cleaned.\n",
      "Cleaning data from trial \"20180309.Fly3.24\".\n"
     ]
    },
    {
     "name": "stderr",
     "output_type": "stream",
     "text": [
      "/Users/rkp/Dropbox/Repositories/mushroom_mushroom/data.py:475: RuntimeWarning: invalid value encountered in less\n",
      "  mask_low = odor_binary < C.ODOR_BINARY_CUTOFF\n",
      "/Users/rkp/Dropbox/Repositories/mushroom_mushroom/data.py:476: RuntimeWarning: invalid value encountered in greater_equal\n",
      "  mask_high = odor_binary >= C.ODOR_BINARY_CUTOFF\n",
      "/Users/rkp/Dropbox/Repositories/mushroom_mushroom/data.py:636: RuntimeWarning: invalid value encountered in less\n",
      "  down_jumps = cc([[0.], (diff < (-th_jump * x_range)).astype(float)])\n",
      "/Users/rkp/Dropbox/Repositories/mushroom_mushroom/data.py:637: RuntimeWarning: invalid value encountered in greater\n",
      "  up_jumps = cc([[0.], (diff > (th_jump * x_range)).astype(float)])\n"
     ]
    },
    {
     "name": "stdout",
     "output_type": "stream",
     "text": [
      "Cleaned.\n",
      "Cleaning data from trial \"20180309.Fly4.26\".\n"
     ]
    },
    {
     "name": "stderr",
     "output_type": "stream",
     "text": [
      "/Users/rkp/Dropbox/Repositories/mushroom_mushroom/data.py:475: RuntimeWarning: invalid value encountered in less\n",
      "  mask_low = odor_binary < C.ODOR_BINARY_CUTOFF\n",
      "/Users/rkp/Dropbox/Repositories/mushroom_mushroom/data.py:476: RuntimeWarning: invalid value encountered in greater_equal\n",
      "  mask_high = odor_binary >= C.ODOR_BINARY_CUTOFF\n",
      "/Users/rkp/Dropbox/Repositories/mushroom_mushroom/data.py:636: RuntimeWarning: invalid value encountered in less\n",
      "  down_jumps = cc([[0.], (diff < (-th_jump * x_range)).astype(float)])\n",
      "/Users/rkp/Dropbox/Repositories/mushroom_mushroom/data.py:637: RuntimeWarning: invalid value encountered in greater\n",
      "  up_jumps = cc([[0.], (diff > (th_jump * x_range)).astype(float)])\n"
     ]
    },
    {
     "name": "stdout",
     "output_type": "stream",
     "text": [
      "Cleaned.\n",
      "Cleaning data from trial \"20180309.Fly4.28\".\n"
     ]
    },
    {
     "name": "stderr",
     "output_type": "stream",
     "text": [
      "/Users/rkp/Dropbox/Repositories/mushroom_mushroom/data.py:475: RuntimeWarning: invalid value encountered in less\n",
      "  mask_low = odor_binary < C.ODOR_BINARY_CUTOFF\n",
      "/Users/rkp/Dropbox/Repositories/mushroom_mushroom/data.py:476: RuntimeWarning: invalid value encountered in greater_equal\n",
      "  mask_high = odor_binary >= C.ODOR_BINARY_CUTOFF\n",
      "/Users/rkp/Dropbox/Repositories/mushroom_mushroom/data.py:636: RuntimeWarning: invalid value encountered in less\n",
      "  down_jumps = cc([[0.], (diff < (-th_jump * x_range)).astype(float)])\n",
      "/Users/rkp/Dropbox/Repositories/mushroom_mushroom/data.py:637: RuntimeWarning: invalid value encountered in greater\n",
      "  up_jumps = cc([[0.], (diff > (th_jump * x_range)).astype(float)])\n"
     ]
    },
    {
     "name": "stdout",
     "output_type": "stream",
     "text": [
      "Cleaned.\n",
      "Cleaning data from trial \"20180309.Fly4.30\".\n"
     ]
    },
    {
     "name": "stderr",
     "output_type": "stream",
     "text": [
      "/Users/rkp/Dropbox/Repositories/mushroom_mushroom/data.py:475: RuntimeWarning: invalid value encountered in less\n",
      "  mask_low = odor_binary < C.ODOR_BINARY_CUTOFF\n",
      "/Users/rkp/Dropbox/Repositories/mushroom_mushroom/data.py:476: RuntimeWarning: invalid value encountered in greater_equal\n",
      "  mask_high = odor_binary >= C.ODOR_BINARY_CUTOFF\n",
      "/Users/rkp/Dropbox/Repositories/mushroom_mushroom/data.py:636: RuntimeWarning: invalid value encountered in less\n",
      "  down_jumps = cc([[0.], (diff < (-th_jump * x_range)).astype(float)])\n",
      "/Users/rkp/Dropbox/Repositories/mushroom_mushroom/data.py:637: RuntimeWarning: invalid value encountered in greater\n",
      "  up_jumps = cc([[0.], (diff > (th_jump * x_range)).astype(float)])\n"
     ]
    },
    {
     "name": "stdout",
     "output_type": "stream",
     "text": [
      "Cleaned.\n",
      "Cleaning data from trial \"20180309.Fly5.32\".\n"
     ]
    },
    {
     "name": "stderr",
     "output_type": "stream",
     "text": [
      "/Users/rkp/Dropbox/Repositories/mushroom_mushroom/data.py:475: RuntimeWarning: invalid value encountered in less\n",
      "  mask_low = odor_binary < C.ODOR_BINARY_CUTOFF\n",
      "/Users/rkp/Dropbox/Repositories/mushroom_mushroom/data.py:476: RuntimeWarning: invalid value encountered in greater_equal\n",
      "  mask_high = odor_binary >= C.ODOR_BINARY_CUTOFF\n",
      "/Users/rkp/Dropbox/Repositories/mushroom_mushroom/data.py:636: RuntimeWarning: invalid value encountered in less\n",
      "  down_jumps = cc([[0.], (diff < (-th_jump * x_range)).astype(float)])\n",
      "/Users/rkp/Dropbox/Repositories/mushroom_mushroom/data.py:637: RuntimeWarning: invalid value encountered in greater\n",
      "  up_jumps = cc([[0.], (diff > (th_jump * x_range)).astype(float)])\n"
     ]
    },
    {
     "name": "stdout",
     "output_type": "stream",
     "text": [
      "Cleaned.\n",
      "Cleaning data from trial \"20180309.Fly5.34\".\n"
     ]
    },
    {
     "name": "stderr",
     "output_type": "stream",
     "text": [
      "/Users/rkp/Dropbox/Repositories/mushroom_mushroom/data.py:475: RuntimeWarning: invalid value encountered in less\n",
      "  mask_low = odor_binary < C.ODOR_BINARY_CUTOFF\n",
      "/Users/rkp/Dropbox/Repositories/mushroom_mushroom/data.py:476: RuntimeWarning: invalid value encountered in greater_equal\n",
      "  mask_high = odor_binary >= C.ODOR_BINARY_CUTOFF\n",
      "/Users/rkp/Dropbox/Repositories/mushroom_mushroom/data.py:636: RuntimeWarning: invalid value encountered in less\n",
      "  down_jumps = cc([[0.], (diff < (-th_jump * x_range)).astype(float)])\n",
      "/Users/rkp/Dropbox/Repositories/mushroom_mushroom/data.py:637: RuntimeWarning: invalid value encountered in greater\n",
      "  up_jumps = cc([[0.], (diff > (th_jump * x_range)).astype(float)])\n"
     ]
    },
    {
     "name": "stdout",
     "output_type": "stream",
     "text": [
      "Cleaned.\n",
      "Cleaning data from trial \"20180309.Fly5.36\".\n"
     ]
    },
    {
     "name": "stderr",
     "output_type": "stream",
     "text": [
      "/Users/rkp/Dropbox/Repositories/mushroom_mushroom/data.py:475: RuntimeWarning: invalid value encountered in less\n",
      "  mask_low = odor_binary < C.ODOR_BINARY_CUTOFF\n",
      "/Users/rkp/Dropbox/Repositories/mushroom_mushroom/data.py:476: RuntimeWarning: invalid value encountered in greater_equal\n",
      "  mask_high = odor_binary >= C.ODOR_BINARY_CUTOFF\n",
      "/Users/rkp/Dropbox/Repositories/mushroom_mushroom/data.py:636: RuntimeWarning: invalid value encountered in less\n",
      "  down_jumps = cc([[0.], (diff < (-th_jump * x_range)).astype(float)])\n",
      "/Users/rkp/Dropbox/Repositories/mushroom_mushroom/data.py:637: RuntimeWarning: invalid value encountered in greater\n",
      "  up_jumps = cc([[0.], (diff > (th_jump * x_range)).astype(float)])\n"
     ]
    },
    {
     "name": "stdout",
     "output_type": "stream",
     "text": [
      "Cleaned.\n",
      "Cleaning data from trial \"20180309.Fly5.38\".\n"
     ]
    },
    {
     "name": "stderr",
     "output_type": "stream",
     "text": [
      "/Users/rkp/Dropbox/Repositories/mushroom_mushroom/data.py:475: RuntimeWarning: invalid value encountered in less\n",
      "  mask_low = odor_binary < C.ODOR_BINARY_CUTOFF\n",
      "/Users/rkp/Dropbox/Repositories/mushroom_mushroom/data.py:476: RuntimeWarning: invalid value encountered in greater_equal\n",
      "  mask_high = odor_binary >= C.ODOR_BINARY_CUTOFF\n",
      "/Users/rkp/Dropbox/Repositories/mushroom_mushroom/data.py:636: RuntimeWarning: invalid value encountered in less\n",
      "  down_jumps = cc([[0.], (diff < (-th_jump * x_range)).astype(float)])\n",
      "/Users/rkp/Dropbox/Repositories/mushroom_mushroom/data.py:637: RuntimeWarning: invalid value encountered in greater\n",
      "  up_jumps = cc([[0.], (diff > (th_jump * x_range)).astype(float)])\n"
     ]
    },
    {
     "name": "stdout",
     "output_type": "stream",
     "text": [
      "Cleaned.\n",
      "Cleaning data from trial \"20180309.Fly6.40\".\n"
     ]
    },
    {
     "name": "stderr",
     "output_type": "stream",
     "text": [
      "/Users/rkp/Dropbox/Repositories/mushroom_mushroom/data.py:475: RuntimeWarning: invalid value encountered in less\n",
      "  mask_low = odor_binary < C.ODOR_BINARY_CUTOFF\n",
      "/Users/rkp/Dropbox/Repositories/mushroom_mushroom/data.py:476: RuntimeWarning: invalid value encountered in greater_equal\n",
      "  mask_high = odor_binary >= C.ODOR_BINARY_CUTOFF\n",
      "/Users/rkp/Dropbox/Repositories/mushroom_mushroom/data.py:636: RuntimeWarning: invalid value encountered in less\n",
      "  down_jumps = cc([[0.], (diff < (-th_jump * x_range)).astype(float)])\n",
      "/Users/rkp/Dropbox/Repositories/mushroom_mushroom/data.py:637: RuntimeWarning: invalid value encountered in greater\n",
      "  up_jumps = cc([[0.], (diff > (th_jump * x_range)).astype(float)])\n"
     ]
    },
    {
     "name": "stdout",
     "output_type": "stream",
     "text": [
      "Cleaned.\n",
      "Cleaning data from trial \"20180309.Fly6.42\".\n"
     ]
    },
    {
     "name": "stderr",
     "output_type": "stream",
     "text": [
      "/Users/rkp/Dropbox/Repositories/mushroom_mushroom/data.py:475: RuntimeWarning: invalid value encountered in less\n",
      "  mask_low = odor_binary < C.ODOR_BINARY_CUTOFF\n",
      "/Users/rkp/Dropbox/Repositories/mushroom_mushroom/data.py:476: RuntimeWarning: invalid value encountered in greater_equal\n",
      "  mask_high = odor_binary >= C.ODOR_BINARY_CUTOFF\n",
      "/Users/rkp/Dropbox/Repositories/mushroom_mushroom/data.py:636: RuntimeWarning: invalid value encountered in less\n",
      "  down_jumps = cc([[0.], (diff < (-th_jump * x_range)).astype(float)])\n",
      "/Users/rkp/Dropbox/Repositories/mushroom_mushroom/data.py:637: RuntimeWarning: invalid value encountered in greater\n",
      "  up_jumps = cc([[0.], (diff > (th_jump * x_range)).astype(float)])\n"
     ]
    },
    {
     "name": "stdout",
     "output_type": "stream",
     "text": [
      "Cleaned.\n",
      "Cleaning data from trial \"20180309.Fly6.44\".\n"
     ]
    },
    {
     "name": "stderr",
     "output_type": "stream",
     "text": [
      "/Users/rkp/Dropbox/Repositories/mushroom_mushroom/data.py:475: RuntimeWarning: invalid value encountered in less\n",
      "  mask_low = odor_binary < C.ODOR_BINARY_CUTOFF\n",
      "/Users/rkp/Dropbox/Repositories/mushroom_mushroom/data.py:476: RuntimeWarning: invalid value encountered in greater_equal\n",
      "  mask_high = odor_binary >= C.ODOR_BINARY_CUTOFF\n",
      "/Users/rkp/Dropbox/Repositories/mushroom_mushroom/data.py:636: RuntimeWarning: invalid value encountered in less\n",
      "  down_jumps = cc([[0.], (diff < (-th_jump * x_range)).astype(float)])\n",
      "/Users/rkp/Dropbox/Repositories/mushroom_mushroom/data.py:637: RuntimeWarning: invalid value encountered in greater\n",
      "  up_jumps = cc([[0.], (diff > (th_jump * x_range)).astype(float)])\n"
     ]
    },
    {
     "name": "stdout",
     "output_type": "stream",
     "text": [
      "Cleaned.\n",
      "Cleaning data from trial \"20180309.Fly6.46\".\n"
     ]
    },
    {
     "name": "stderr",
     "output_type": "stream",
     "text": [
      "/Users/rkp/Dropbox/Repositories/mushroom_mushroom/data.py:475: RuntimeWarning: invalid value encountered in less\n",
      "  mask_low = odor_binary < C.ODOR_BINARY_CUTOFF\n",
      "/Users/rkp/Dropbox/Repositories/mushroom_mushroom/data.py:476: RuntimeWarning: invalid value encountered in greater_equal\n",
      "  mask_high = odor_binary >= C.ODOR_BINARY_CUTOFF\n",
      "/Users/rkp/Dropbox/Repositories/mushroom_mushroom/data.py:636: RuntimeWarning: invalid value encountered in less\n",
      "  down_jumps = cc([[0.], (diff < (-th_jump * x_range)).astype(float)])\n",
      "/Users/rkp/Dropbox/Repositories/mushroom_mushroom/data.py:637: RuntimeWarning: invalid value encountered in greater\n",
      "  up_jumps = cc([[0.], (diff > (th_jump * x_range)).astype(float)])\n"
     ]
    },
    {
     "name": "stdout",
     "output_type": "stream",
     "text": [
      "Cleaned.\n"
     ]
    }
   ],
   "source": [
    "clean_and_cache('dan', 'white_odor_fluct_lowflow')"
   ]
  },
  {
   "cell_type": "code",
   "execution_count": 2,
   "metadata": {},
   "outputs": [
    {
     "name": "stdout",
     "output_type": "stream",
     "text": [
      "Cleaning data from trial \"20170821.Fly1.1\".\n",
      "Cleaned.\n",
      "Cleaning data from trial \"20170822.Fly1.1\".\n",
      "Cleaned.\n",
      "Cleaning data from trial \"20170826.Fly4.1\".\n",
      "Cleaned.\n",
      "Cleaning data from trial \"20170826.Fly7.2\".\n",
      "Cleaned.\n",
      "Cleaning data from trial \"20170828.Fly2.2\".\n",
      "Cleaned.\n",
      "Cleaning data from trial \"20170828.Fly2.6\".\n",
      "Cleaned.\n",
      "Cleaning data from trial \"20170828.Fly4.3\".\n",
      "Cleaned.\n"
     ]
    }
   ],
   "source": [
    "clean_and_cache('dan', 'closed_low_flow_multi1')"
   ]
  },
  {
   "cell_type": "code",
   "execution_count": 3,
   "metadata": {},
   "outputs": [
    {
     "name": "stdout",
     "output_type": "stream",
     "text": [
      "Cleaning data from trial \"20180119.Fly10.1\".\n"
     ]
    },
    {
     "ename": "Exception",
     "evalue": "Time vector and GCaMP vector must be equal lengths.",
     "output_type": "error",
     "traceback": [
      "\u001b[0;31m--------------------------------------------------------------------------\u001b[0m",
      "\u001b[0;31mException\u001b[0m                                Traceback (most recent call last)",
      "\u001b[0;32m<ipython-input-3-04b08ae76ac4>\u001b[0m in \u001b[0;36m<module>\u001b[0;34m()\u001b[0m\n\u001b[0;32m----> 1\u001b[0;31m \u001b[0mclean_and_cache\u001b[0m\u001b[0;34m(\u001b[0m\u001b[0;34m'dan'\u001b[0m\u001b[0;34m,\u001b[0m \u001b[0;34m'closed_low_flow_multi2'\u001b[0m\u001b[0;34m)\u001b[0m\u001b[0;34m\u001b[0m\u001b[0m\n\u001b[0m",
      "\u001b[0;32m<ipython-input-1-40e88e1d06f7>\u001b[0m in \u001b[0;36mclean_and_cache\u001b[0;34m(region, expt, verbose, skip_existing)\u001b[0m\n\u001b[1;32m     33\u001b[0m \u001b[0;34m\u001b[0m\u001b[0m\n\u001b[1;32m     34\u001b[0m         \u001b[0;31m# load trial with DataLoader\u001b[0m\u001b[0;34m\u001b[0m\u001b[0;34m\u001b[0m\u001b[0m\n\u001b[0;32m---> 35\u001b[0;31m         \u001b[0mdl\u001b[0m \u001b[0;34m=\u001b[0m \u001b[0mDataLoader\u001b[0m\u001b[0;34m(\u001b[0m\u001b[0mtrial\u001b[0m\u001b[0;34m,\u001b[0m \u001b[0msfx\u001b[0m\u001b[0;34m=\u001b[0m\u001b[0mSFX_CLEAN\u001b[0m\u001b[0;34m,\u001b[0m \u001b[0mvel_filt\u001b[0m\u001b[0;34m=\u001b[0m\u001b[0;32mNone\u001b[0m\u001b[0;34m,\u001b[0m \u001b[0mverbose\u001b[0m\u001b[0;34m=\u001b[0m\u001b[0mverbose\u001b[0m\u001b[0;34m)\u001b[0m\u001b[0;34m\u001b[0m\u001b[0m\n\u001b[0m\u001b[1;32m     36\u001b[0m \u001b[0;34m\u001b[0m\u001b[0m\n\u001b[1;32m     37\u001b[0m         \u001b[0mprint\u001b[0m\u001b[0;34m(\u001b[0m\u001b[0;34m'Cleaned.'\u001b[0m\u001b[0;34m)\u001b[0m\u001b[0;34m\u001b[0m\u001b[0m\n",
      "\u001b[0;32m~/Dropbox/Repositories/mushroom_mushroom/data.py\u001b[0m in \u001b[0;36m__init__\u001b[0;34m(self, trial, sfx, vel_filt, verbose)\u001b[0m\n\u001b[1;32m     53\u001b[0m             \u001b[0;31m# create raw time vector and data matrix for each data component\u001b[0m\u001b[0;34m\u001b[0m\u001b[0;34m\u001b[0m\u001b[0m\n\u001b[1;32m     54\u001b[0m             \u001b[0;31m# (move these all to their own functions later)\u001b[0m\u001b[0;34m\u001b[0m\u001b[0;34m\u001b[0m\u001b[0m\n\u001b[0;32m---> 55\u001b[0;31m             \u001b[0mt_gcamp\u001b[0m\u001b[0;34m,\u001b[0m \u001b[0mgcamp\u001b[0m \u001b[0;34m=\u001b[0m \u001b[0mload_gcamp\u001b[0m\u001b[0;34m(\u001b[0m\u001b[0mtrial\u001b[0m\u001b[0;34m)\u001b[0m\u001b[0;34m\u001b[0m\u001b[0m\n\u001b[0m\u001b[1;32m     56\u001b[0m             \u001b[0mt_behav\u001b[0m\u001b[0;34m,\u001b[0m \u001b[0mbehav\u001b[0m \u001b[0;34m=\u001b[0m \u001b[0mload_behav\u001b[0m\u001b[0;34m(\u001b[0m\u001b[0mtrial\u001b[0m\u001b[0;34m)\u001b[0m\u001b[0;34m\u001b[0m\u001b[0m\n\u001b[1;32m     57\u001b[0m             \u001b[0mt_air\u001b[0m\u001b[0;34m,\u001b[0m \u001b[0mair\u001b[0m \u001b[0;34m=\u001b[0m \u001b[0mload_air\u001b[0m\u001b[0;34m(\u001b[0m\u001b[0mtrial\u001b[0m\u001b[0;34m,\u001b[0m \u001b[0mt_behav\u001b[0m\u001b[0;34m,\u001b[0m \u001b[0mbehav\u001b[0m\u001b[0;34m)\u001b[0m\u001b[0;34m\u001b[0m\u001b[0m\n",
      "\u001b[0;32m~/Dropbox/Repositories/mushroom_mushroom/data.py\u001b[0m in \u001b[0;36mload_gcamp\u001b[0;34m(trial)\u001b[0m\n\u001b[1;32m    320\u001b[0m \u001b[0;34m\u001b[0m\u001b[0m\n\u001b[1;32m    321\u001b[0m         \u001b[0;32mif\u001b[0m \u001b[0;32mnot\u001b[0m \u001b[0mlen\u001b[0m\u001b[0;34m(\u001b[0m\u001b[0mt_gcamp\u001b[0m\u001b[0;34m)\u001b[0m \u001b[0;34m==\u001b[0m \u001b[0mlen\u001b[0m\u001b[0;34m(\u001b[0m\u001b[0mgcamp\u001b[0m\u001b[0;34m)\u001b[0m\u001b[0;34m:\u001b[0m\u001b[0;34m\u001b[0m\u001b[0m\n\u001b[0;32m--> 322\u001b[0;31m             \u001b[0;32mraise\u001b[0m \u001b[0mException\u001b[0m\u001b[0;34m(\u001b[0m\u001b[0;34m'Time vector and GCaMP vector must be equal lengths.'\u001b[0m\u001b[0;34m)\u001b[0m\u001b[0;34m\u001b[0m\u001b[0m\n\u001b[0m\u001b[1;32m    323\u001b[0m \u001b[0;34m\u001b[0m\u001b[0m\n\u001b[1;32m    324\u001b[0m     \u001b[0;31m# convert time vector to relative time\u001b[0m\u001b[0;34m\u001b[0m\u001b[0;34m\u001b[0m\u001b[0m\n",
      "\u001b[0;31mException\u001b[0m: Time vector and GCaMP vector must be equal lengths."
     ]
    }
   ],
   "source": [
    "clean_and_cache('dan', 'closed_low_flow_multi2')"
   ]
  }
 ],
 "metadata": {
  "kernelspec": {
   "display_name": "Python 3",
   "language": "python",
   "name": "python3"
  },
  "language_info": {
   "codemirror_mode": {
    "name": "ipython",
    "version": 3
   },
   "file_extension": ".py",
   "mimetype": "text/x-python",
   "name": "python",
   "nbconvert_exporter": "python",
   "pygments_lexer": "ipython3",
   "version": "3.6.3"
  }
 },
 "nbformat": 4,
 "nbformat_minor": 2
}

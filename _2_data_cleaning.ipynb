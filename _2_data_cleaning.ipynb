{
 "cells": [
  {
   "cell_type": "code",
   "execution_count": null,
   "metadata": {
    "collapsed": true
   },
   "outputs": [],
   "source": [
    "import os\n",
    "\n",
    "from data import DataLoader\n",
    "from db import make_session, d_models\n",
    "\n",
    "import LOCAL as L\n",
    "\n",
    "\n",
    "SFX_CLEAN = 0\n",
    "\n",
    "\n",
    "def clean_and_cache(expt, verbose=False):\n",
    "    \n",
    "    # load trials\n",
    "    session = make_session()\n",
    "    trials = session.query(d_models.Trial).filter_by(\n",
    "        expt=expt).all()\n",
    "    session.close()\n",
    "    \n",
    "    # remove cleaned file and create DataLoader for each trial\n",
    "    for trial in trials:\n",
    "        \n",
    "        print('Cleaning data from trial \"{}\".'.format(trial.name))\n",
    "        \n",
    "        path_clean = os.path.join(\n",
    "            L.DATA_ROOT, trial.path, '{}_{}.csv'.format(trial.pfx_clean, SFX_CLEAN))\n",
    "\n",
    "        if os.path.exists(path_clean):\n",
    "            os.remove(path_clean)\n",
    "\n",
    "        # load trial with DataLoader\n",
    "        dl = DataLoader(trial, sfx=SFX_CLEAN, vel_filt=None, verbose=verbose)\n",
    "        \n",
    "        print('Cleaned.')"
   ]
  },
  {
   "cell_type": "code",
   "execution_count": null,
   "metadata": {},
   "outputs": [],
   "source": [
    "clean_and_cache('asensory_5_hz')"
   ]
  },
  {
   "cell_type": "code",
   "execution_count": null,
   "metadata": {},
   "outputs": [],
   "source": [
    "clean_and_cache('asensory_10_hz')"
   ]
  },
  {
   "cell_type": "code",
   "execution_count": null,
   "metadata": {},
   "outputs": [],
   "source": [
    "clean_and_cache('closed')"
   ]
  },
  {
   "cell_type": "code",
   "execution_count": null,
   "metadata": {},
   "outputs": [],
   "source": [
    "clean_and_cache('sinusoidal')"
   ]
  },
  {
   "cell_type": "code",
   "execution_count": null,
   "metadata": {},
   "outputs": [],
   "source": [
    "clean_and_cache('closed_white')"
   ]
  },
  {
   "cell_type": "code",
   "execution_count": null,
   "metadata": {},
   "outputs": [],
   "source": [
    "clean_and_cache('no_air_motion')"
   ]
  },
  {
   "cell_type": "code",
   "execution_count": null,
   "metadata": {},
   "outputs": [],
   "source": [
    "# clean_and_cache('closed_odor_fluct')"
   ]
  },
  {
   "cell_type": "code",
   "execution_count": null,
   "metadata": {},
   "outputs": [],
   "source": [
    "# clean_and_cache('white_odor_fluct')"
   ]
  }
 ],
 "metadata": {
  "kernelspec": {
   "display_name": "Python 3",
   "language": "python",
   "name": "python3"
  },
  "language_info": {
   "codemirror_mode": {
    "name": "ipython",
    "version": 3
   },
   "file_extension": ".py",
   "mimetype": "text/x-python",
   "name": "python",
   "nbconvert_exporter": "python",
   "pygments_lexer": "ipython3",
   "version": "3.6.3"
  }
 },
 "nbformat": 4,
 "nbformat_minor": 2
}

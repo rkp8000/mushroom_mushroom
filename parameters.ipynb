{
 "cells": [
  {
   "cell_type": "markdown",
   "metadata": {},
   "source": [
    "### Walking vs. paused identification\n",
    "\n",
    "| symbol | variable | meaning | value | units | rationale |\n",
    "|:-------|:---------|:--------|------:|:------|:----------|\n",
    "|$T_{pause}^{min}$|`T_PAUSE_MIN`|minimum time that fly's walking speed must be below a designated threshold for us to label those time points as \"paused\"|0.5|s|around walking speed autocorrelation time|\n",
    "|$T_{pause}^{cush, outer}$|`T_PAUSE_CUSH_OUTER`|cushion surrounding paused states that we label as ambiguous to ensure that walking states do not include paused-walking transitions|1|s|walking speed autocorrelation time plus conservative buffer|\n",
    "|$T_{pause}^{cush, inner}$|`T_PAUSE_CUSH_INNER`|cushion removed paused state ends that we label as ambiguous to ensure that paused states do not include paused-walking transitions|0.3|s|reasonably conservative buffer|"
   ]
  }
 ],
 "metadata": {
  "kernelspec": {
   "display_name": "Python 3",
   "language": "python",
   "name": "python3"
  },
  "language_info": {
   "codemirror_mode": {
    "name": "ipython",
    "version": 3
   },
   "file_extension": ".py",
   "mimetype": "text/x-python",
   "name": "python",
   "nbconvert_exporter": "python",
   "pygments_lexer": "ipython3",
   "version": "3.6.1"
  }
 },
 "nbformat": 4,
 "nbformat_minor": 2
}

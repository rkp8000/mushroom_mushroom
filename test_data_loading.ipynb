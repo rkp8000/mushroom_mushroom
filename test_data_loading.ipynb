{
 "cells": [
  {
   "cell_type": "markdown",
   "metadata": {
    "collapsed": true
   },
   "source": [
    "# Tests for data resampling by experiment type"
   ]
  },
  {
   "cell_type": "code",
   "execution_count": 1,
   "metadata": {
    "collapsed": true
   },
   "outputs": [],
   "source": [
    "%reset -f\n",
    "%matplotlib inline\n",
    "import numpy as np\n",
    "import matplotlib.pyplot as plt\n",
    "import pandas as pd\n",
    "\n",
    "from data import DataLoader, norm_by_col\n",
    "from db import make_session, d_models\n",
    "from plot import set_font_size\n",
    "\n",
    "import CONFIG as C\n",
    "import LOCAL as L\n",
    "\n",
    "SFX_CLEAN = 'test'\n",
    "T_LIM_START = [-10, 40]\n",
    "T_LIM_END = [270, 310]"
   ]
  },
  {
   "cell_type": "code",
   "execution_count": null,
   "metadata": {
    "collapsed": true
   },
   "outputs": [],
   "source": [
    "def plot_gcamp_resampled(trial, dl):\n",
    "    \n",
    "    if trial.expt in C.EXPTS_ASENSORY:\n",
    "        \n",
    "        # load original GCaMP data\n",
    "        path_gcamp = os.path.join(L.DATA_ROOT, trial.path, trial.f_gcamp)\n",
    "        \n",
    "        gcamp_ = pd.read_csv(path_gcamp, header=None).as_matrix()\n",
    "        \n",
    "        t_gcamp = gcamp_[0, :] - gcamp_[0, 0]\n",
    "        \n",
    "        g2r_red = gcamp_[1, :]\n",
    "        g3r_red = gcamp_[2, :]\n",
    "        g4r_red = gcamp_[3, :]\n",
    "        g5r_red = gcamp_[4, :]\n",
    "        \n",
    "        g2r_green = gcamp_[5, :]\n",
    "        g3r_green = gcamp_[6, :]\n",
    "        g4r_green = gcamp_[7, :]\n",
    "        g5r_green = gcamp_[8, :]\n",
    "        \n",
    "        # make sure all G*L variables are nans\n",
    "        for v in ['G2L_RED', 'G3L_RED', 'G4L_RED', 'G5L_RED']:\n",
    "            assert np.all(np.isnan(dl.data[v]))\n",
    "            \n",
    "        for v in ['G2L_GREEN', 'G3L_GREEN', 'G4L_GREEN', 'G5L_GREEN']:\n",
    "            assert np.all(np.isnan(dl.data[v]))\n",
    "        \n",
    "        # show overlaid plots of original and resampled data at start and end of trial\n",
    "        for t_lim in [T_LIM_START, T_LIM_END]:\n",
    "            \n",
    "            fig, axs = plt.subplots(8, 1, figsize=(15, 15), tight_layout=True, sharex=True)\n",
    "            fig.subplots_adjust(hspace=0)\n",
    "\n",
    "            # plot raw data\n",
    "            axs[0].plot(t_gcamp, g2r_red, color=(1, 0, 1), lw=4, zorder=0)\n",
    "            axs[1].plot(t_gcamp, g3r_red, color=(1, 0, 1), lw=4, zorder=0)\n",
    "            axs[2].plot(t_gcamp, g4r_red, color=(1, 0, 1), lw=4, zorder=0)\n",
    "            axs[3].plot(t_gcamp, g5r_red, color=(1, 0, 1), lw=4, zorder=0)\n",
    "\n",
    "            axs[4].plot(t_gcamp, g2r_green, color=(0, 1, 0), lw=4, zorder=0)\n",
    "            axs[5].plot(t_gcamp, g3r_green, color=(0, 1, 0), lw=4, zorder=0)\n",
    "            axs[6].plot(t_gcamp, g4r_green, color=(0, 1, 0), lw=4, zorder=0)\n",
    "            axs[7].plot(t_gcamp, g5r_green, color=(0, 1, 0), lw=4, zorder=0)\n",
    "\n",
    "            # plot resampled data\n",
    "            axs[0].plot(dl.data['TIME'], dl.data['G2R_RED'], color='k', lw=2, zorder=1)\n",
    "            axs[1].plot(dl.data['TIME'], dl.data['G3R_RED'], color='k', lw=2, zorder=1)\n",
    "            axs[2].plot(dl.data['TIME'], dl.data['G4R_RED'], color='k', lw=2, zorder=1)\n",
    "            axs[3].plot(dl.data['TIME'], dl.data['G5R_RED'], color='k', lw=2, zorder=1)\n",
    "\n",
    "            axs[4].plot(dl.data['TIME'], dl.data['G2R_GREEN'], color='k', lw=2, zorder=1)\n",
    "            axs[5].plot(dl.data['TIME'], dl.data['G3R_GREEN'], color='k', lw=2, zorder=1)\n",
    "            axs[6].plot(dl.data['TIME'], dl.data['G4R_GREEN'], color='k', lw=2, zorder=1)\n",
    "            axs[7].plot(dl.data['TIME'], dl.data['G5R_GREEN'], color='k', lw=2, zorder=1)\n",
    "\n",
    "            # set axis limits\n",
    "            for ax in axs:\n",
    "                ax.set_xlim(t_lim)\n",
    "                \n",
    "            # label axes\n",
    "            axs[0].set_ylabel('G2R_RED')\n",
    "            axs[1].set_ylabel('G3R_RED')\n",
    "            axs[2].set_ylabel('G4R_RED')\n",
    "            axs[3].set_ylabel('G5R_RED')\n",
    "\n",
    "            axs[4].set_ylabel('G2R_GREEN')\n",
    "            axs[5].set_ylabel('G3R_GREEN')\n",
    "            axs[6].set_ylabel('G4R_GREEN')\n",
    "            axs[7].set_ylabel('G5R_GREEN')\n",
    "\n",
    "            axs[0].set_title('GCAMP: TRIAL {0} (T_LIM = {1:.2f}:{2:.2f}s)'.format(trial.name, *t_lim))\n",
    "            axs[7].set_xlabel('time (s)')\n",
    "\n",
    "            for ax in axs:\n",
    "                set_font_size(ax, 16)\n",
    "    \n",
    "    elif trial.expt in C.EXPTS_SENSORY:\n",
    "        \n",
    "        # load original GCaMP data\n",
    "        path_t_gcamp = os.path.join(L.DATA_ROOT, trial.path, trial.f_t_gcamp)\n",
    "        path_gcamp = os.path.join(L.DATA_ROOT, trial.path, trial.f_gcamp)\n",
    "        \n",
    "        t_gcamp_ = pd.read_csv(path_t_gcamp).as_matrix()[0, :]\n",
    "        gcamp_ = pd.read_csv(path_gcamp).as_matrix().astype(float).T\n",
    "        \n",
    "        t_gcamp = t_gcamp_ - t_gcamp_[0]\n",
    "        \n",
    "        g2r_red = gcamp_[0, :]\n",
    "        g3r_red = gcamp_[1, :]\n",
    "        g4r_red = gcamp_[2, :]\n",
    "        g5r_red = gcamp_[3, :]\n",
    "        \n",
    "        g2l_red = gcamp_[4, :]\n",
    "        g3l_red = gcamp_[5, :]\n",
    "        g4l_red = gcamp_[6, :]\n",
    "        g5l_red = gcamp_[7, :]\n",
    "        \n",
    "        g2r_green = gcamp_[8, :]\n",
    "        g3r_green = gcamp_[9, :]\n",
    "        g4r_green = gcamp_[10, :]\n",
    "        g5r_green = gcamp_[11, :]\n",
    "        \n",
    "        g2l_green = gcamp_[12, :]\n",
    "        g3l_green = gcamp_[13, :]\n",
    "        g4l_green = gcamp_[14, :]\n",
    "        g5l_green = gcamp_[15, :]\n",
    "        \n",
    "        # show overlaid plots of original and resampled data at start and end of trial\n",
    "        for t_lim in [T_LIM_START, T_LIM_END]:\n",
    "            \n",
    "            fig, axs = plt.subplots(16, 1, figsize=(15, 30), tight_layout=True, sharex=True)\n",
    "            fig.subplots_adjust(hspace=0)\n",
    "\n",
    "            # plot raw data\n",
    "            axs[0].plot(t_gcamp, g2r_red, color=(1, 0, 1), lw=4, zorder=0)\n",
    "            axs[1].plot(t_gcamp, g3r_red, color=(1, 0, 1), lw=4, zorder=0)\n",
    "            axs[2].plot(t_gcamp, g4r_red, color=(1, 0, 1), lw=4, zorder=0)\n",
    "            axs[3].plot(t_gcamp, g5r_red, color=(1, 0, 1), lw=4, zorder=0)\n",
    "            \n",
    "            axs[4].plot(t_gcamp, g2l_red, color=(1, 0, 1), lw=4, zorder=0)\n",
    "            axs[5].plot(t_gcamp, g3l_red, color=(1, 0, 1), lw=4, zorder=0)\n",
    "            axs[6].plot(t_gcamp, g4l_red, color=(1, 0, 1), lw=4, zorder=0)\n",
    "            axs[7].plot(t_gcamp, g5l_red, color=(1, 0, 1), lw=4, zorder=0)\n",
    "\n",
    "            axs[8].plot(t_gcamp, g2r_green, color=(0, 1, 0), lw=4, zorder=0)\n",
    "            axs[9].plot(t_gcamp, g3r_green, color=(0, 1, 0), lw=4, zorder=0)\n",
    "            axs[10].plot(t_gcamp, g4r_green, color=(0, 1, 0), lw=4, zorder=0)\n",
    "            axs[11].plot(t_gcamp, g5r_green, color=(0, 1, 0), lw=4, zorder=0)\n",
    "\n",
    "            axs[12].plot(t_gcamp, g2l_green, color=(0, 1, 0), lw=4, zorder=0)\n",
    "            axs[13].plot(t_gcamp, g3l_green, color=(0, 1, 0), lw=4, zorder=0)\n",
    "            axs[14].plot(t_gcamp, g4l_green, color=(0, 1, 0), lw=4, zorder=0)\n",
    "            axs[15].plot(t_gcamp, g5l_green, color=(0, 1, 0), lw=4, zorder=0)\n",
    "            \n",
    "            # plot resampled data\n",
    "            axs[0].plot(dl.data['TIME'], dl.data['G2R_RED'], color='k', lw=2, zorder=1)\n",
    "            axs[1].plot(dl.data['TIME'], dl.data['G3R_RED'], color='k', lw=2, zorder=1)\n",
    "            axs[2].plot(dl.data['TIME'], dl.data['G4R_RED'], color='k', lw=2, zorder=1)\n",
    "            axs[3].plot(dl.data['TIME'], dl.data['G5R_RED'], color='k', lw=2, zorder=1)\n",
    "            \n",
    "            axs[4].plot(dl.data['TIME'], dl.data['G2L_RED'], color='k', lw=2, zorder=1)\n",
    "            axs[5].plot(dl.data['TIME'], dl.data['G3L_RED'], color='k', lw=2, zorder=1)\n",
    "            axs[6].plot(dl.data['TIME'], dl.data['G4L_RED'], color='k', lw=2, zorder=1)\n",
    "            axs[7].plot(dl.data['TIME'], dl.data['G5L_RED'], color='k', lw=2, zorder=1)\n",
    "\n",
    "            axs[8].plot(dl.data['TIME'], dl.data['G2R_GREEN'], color='k', lw=2, zorder=1)\n",
    "            axs[9].plot(dl.data['TIME'], dl.data['G3R_GREEN'], color='k', lw=2, zorder=1)\n",
    "            axs[10].plot(dl.data['TIME'], dl.data['G4R_GREEN'], color='k', lw=2, zorder=1)\n",
    "            axs[11].plot(dl.data['TIME'], dl.data['G5R_GREEN'], color='k', lw=2, zorder=1)\n",
    "\n",
    "            axs[12].plot(dl.data['TIME'], dl.data['G2L_GREEN'], color='k', lw=2, zorder=1)\n",
    "            axs[13].plot(dl.data['TIME'], dl.data['G3L_GREEN'], color='k', lw=2, zorder=1)\n",
    "            axs[14].plot(dl.data['TIME'], dl.data['G4L_GREEN'], color='k', lw=2, zorder=1)\n",
    "            axs[15].plot(dl.data['TIME'], dl.data['G5L_GREEN'], color='k', lw=2, zorder=1)\n",
    "            \n",
    "            # set axis limits\n",
    "            for ax in axs:\n",
    "                ax.set_xlim(t_lim)\n",
    "                \n",
    "            # label axes\n",
    "            axs[0].set_ylabel('G2R_RED')\n",
    "            axs[1].set_ylabel('G3R_RED')\n",
    "            axs[2].set_ylabel('G4R_RED')\n",
    "            axs[3].set_ylabel('G5R_RED')\n",
    "            \n",
    "            axs[4].set_ylabel('G2L_RED')\n",
    "            axs[5].set_ylabel('G3L_RED')\n",
    "            axs[6].set_ylabel('G4L_RED')\n",
    "            axs[7].set_ylabel('G5L_RED')\n",
    "\n",
    "            axs[8].set_ylabel('G2R_GREEN')\n",
    "            axs[9].set_ylabel('G3R_GREEN')\n",
    "            axs[10].set_ylabel('G4R_GREEN')\n",
    "            axs[11].set_ylabel('G5R_GREEN')\n",
    "            \n",
    "            axs[12].set_ylabel('G2L_GREEN')\n",
    "            axs[13].set_ylabel('G3L_GREEN')\n",
    "            axs[14].set_ylabel('G4L_GREEN')\n",
    "            axs[15].set_ylabel('G5L_GREEN')\n",
    "\n",
    "            axs[0].set_title('GCAMP: TRIAL {0} (T_LIM = {1:.2f}:{2:.2f}s)'.format(trial.name, *t_lim))\n",
    "            axs[15].set_xlabel('time (s)')\n",
    "\n",
    "            for ax in axs:\n",
    "                set_font_size(ax, 16)"
   ]
  },
  {
   "cell_type": "code",
   "execution_count": null,
   "metadata": {
    "collapsed": true
   },
   "outputs": [],
   "source": [
    "def plot_behav_resampled(trial, dl):\n",
    "    \n",
    "    # load behav data\n",
    "    path_behav = os.path.join(L.DATA_ROOT, trial.path, trial.f_behav)\n",
    "    behav_ = pd.read_csv(path_behav, header=None).as_matrix()\n",
    "    \n",
    "    if trial.expt in C.EXPTS_ASENSORY:\n",
    "        \n",
    "        mask = np.ones(behav_.shape[0], dtype=bool)\n",
    "        t_behav = 1000 * (behav_[:, 21] - behav_[0, 21])\n",
    "        \n",
    "    else:\n",
    "        \n",
    "        # load light_times\n",
    "        path_light = os.path.join(L.DATA_ROOT, trial.path, trial.f_light)\n",
    "        light_ = pd.read_excel(path_light, header=None).as_matrix().flatten()\n",
    "        \n",
    "        # select relevant data section\n",
    "        frame_ctr = behav_[:, 0]\n",
    "        mask = (light_[0] <= frame_ctr) & (frame_ctr < light_[1])\n",
    "        \n",
    "        t_behav = 1./60 * (frame_ctr[mask] - frame_ctr[mask][0])\n",
    "        \n",
    "    v_lat = behav_[mask, 5]\n",
    "    v_fwd = behav_[mask, 6]\n",
    "    v_ang = behav_[mask, 7]\n",
    "    heading = (180/np.pi) * (behav_[mask, 16] - np.pi)\n",
    "    \n",
    "    # show overlaid plots of original and resampled data at start and end of trial\n",
    "    for t_lim in [T_LIM_START, T_LIM_END]:\n",
    "\n",
    "        fig, axs = plt.subplots(4, 1, figsize=(15, 10), tight_layout=True, sharex=True)\n",
    "        fig.subplots_adjust(hspace=0)\n",
    "        \n",
    "        # plot raw data\n",
    "        axs[0].plot(t_behav, v_lat, color=(1, 0, 0), lw=4, zorder=0)\n",
    "        axs[1].plot(t_behav, v_fwd, color=(1, 0, 0), lw=4, zorder=0)\n",
    "        axs[2].plot(t_behav, v_ang, color=(1, 0, 0), lw=4, zorder=0)\n",
    "        axs[3].plot(t_behav, heading, color=(1, 0, 0), lw=4, zorder=0)\n",
    "        \n",
    "        # plot resampled data\n",
    "        axs[0].plot(dl.data['TIME'], dl.data['V_LAT'], color='k', lw=2, zorder=1)\n",
    "        axs[1].plot(dl.data['TIME'], dl.data['V_FWD'], color='k', lw=2, zorder=1)\n",
    "        axs[2].plot(dl.data['TIME'], dl.data['V_ANG'], color='k', lw=2, zorder=1)\n",
    "        axs[3].plot(dl.data['TIME'], dl.data['HEADING'], color='k', lw=2, zorder=1)\n",
    "        \n",
    "        # set limits\n",
    "        for ax in axs:\n",
    "            ax.set_xlim(t_lim)\n",
    "            \n",
    "        # label axes\n",
    "        axs[0].set_ylabel('V_LAT')\n",
    "        axs[1].set_ylabel('V_FWD')\n",
    "        axs[2].set_ylabel('V_ANG')\n",
    "        axs[3].set_ylabel('HEADING')\n",
    "        \n",
    "        axs[0].set_title('BEHAV: TRIAL {0} (T_LIM = {1:.2f}:{2:.2f}s)'.format(trial.name, *t_lim))\n",
    "        axs[0].set_xlabel('time (s)')\n",
    "        \n",
    "        for ax in axs:\n",
    "            set_font_size(ax, 16)"
   ]
  },
  {
   "cell_type": "code",
   "execution_count": null,
   "metadata": {
    "collapsed": true
   },
   "outputs": [],
   "source": [
    "def plot_air_resampled(trial, dl):\n",
    "    \n",
    "    if trial.expt in (['closed'] + C.EXPTS_W_AIR):\n",
    "        \n",
    "        # load air tube data\n",
    "        if trial.expt == 'closed':\n",
    "\n",
    "            # load behav data\n",
    "            path_behav = os.path.join(L.DATA_ROOT, trial.path, trial.f_behav)\n",
    "            behav_ = pd.read_csv(path_behav, header=None).as_matrix()\n",
    "\n",
    "            # load light_times\n",
    "            path_light = os.path.join(L.DATA_ROOT, trial.path, trial.f_light)\n",
    "            light_ = pd.read_excel(path_light, header=None).as_matrix().flatten()\n",
    "\n",
    "            # select relevant data section\n",
    "            frame_ctr = behav_[:, 0]\n",
    "            mask = (light_[0] <= frame_ctr) & (frame_ctr < light_[1])\n",
    "\n",
    "            t_air = 1./60 * (frame_ctr[mask] - frame_ctr[mask][0])\n",
    "            air = (180/np.pi) * (behav_[mask, 16] - np.pi)\n",
    "\n",
    "        elif trial.expt in C.EXPTS_W_AIR:\n",
    "            path_air = os.path.join(L.DATA_ROOT, trial.path, trial.f_air)\n",
    "            air_ = pd.read_csv(path_air, header=None).as_matrix().T\n",
    "\n",
    "            t_air = np.concatenate([[0], air_[:, 0]])\n",
    "            air = np.concatenate([[np.nan], air[:, 1]])\n",
    "    \n",
    "        # show overlaid plots of original and resampled data at start and end of trial\n",
    "        for t_lim in [T_LIM_START, T_LIM_END]:\n",
    "\n",
    "            fig, ax = plt.subplots(1, 1, figsize=(15, 3), tight_layout=True)\n",
    "\n",
    "            # plot raw data\n",
    "            ax.plot(t_air, air, color=(1, 0, 0), lw=4, zorder=0)\n",
    "\n",
    "            # plot resampled data\n",
    "            ax.plot(dl.data['TIME'], dl.data['AIR'], color='k', lw=2, zorder=1)\n",
    "\n",
    "            # set limits\n",
    "            ax.set_xlim(t_lim)\n",
    "\n",
    "            # label axes\n",
    "            ax.set_ylabel('AIR')\n",
    "\n",
    "            ax.set_title('AIR TUBE: TRIAL {0} (T_LIM = {1:.2f}:{2:.2f}s)'.format(trial.name, *t_lim))\n",
    "            ax.set_xlabel('time (s)')\n",
    "\n",
    "            set_font_size(ax, 16)\n",
    "    \n",
    "    else:\n",
    "        \n",
    "        assert np.all(np.isnan(dl.data['AIR']))\n",
    "        assert np.all(np.isnan(dl.data['W_AIR']))"
   ]
  },
  {
   "cell_type": "code",
   "execution_count": null,
   "metadata": {
    "collapsed": true
   },
   "outputs": [],
   "source": [
    "def plot_odor_resampled(trial, dl):\n",
    "    \n",
    "    # if odor is simple pulse from 90 - 150 s\n",
    "    if trial.expt not in EXPTS_ODOR_FLUCT:\n",
    "        \n",
    "        # load behav data\n",
    "        path_behav = os.path.join(L.DATA_ROOT, trial.path, trial.f_behav)\n",
    "        behav_ = pd.read_csv(path_behav, header=None).as_matrix()\n",
    "\n",
    "        if trial.expt in C.EXPTS_ASENSORY:\n",
    "\n",
    "            t_odor = 1000 * (behav_[:, 21] - behav_[0, 21])\n",
    "\n",
    "        else:\n",
    "\n",
    "            # load light_times\n",
    "            path_light = os.path.join(L.DATA_ROOT, trial.path, trial.f_light)\n",
    "            light_ = pd.read_excel(path_light, header=None).as_matrix().flatten()\n",
    "\n",
    "            # select relevant data section\n",
    "            frame_ctr = behav_[:, 0]\n",
    "            mask = (light_[0] <= frame_ctr) & (frame_ctr < light_[1])\n",
    "\n",
    "            t_odor = 1./60 * (frame_ctr[mask] - frame_ctr[mask][0])\n",
    "            \n",
    "        odor_binary = np.zeros(t_odor.shape)\n",
    "        odor_binary[(90 <= t_odor) & (t_odor < 150)] = 1\n",
    "        \n",
    "        assert np.all(np.isnan(dl.data['ODOR_PID']))\n",
    "    \n",
    "        # show overlaid plots of original and resampled data\n",
    "        fig, ax = plt.subplots(1, 1, figsize=(15, 3), tight_layout=True)\n",
    "\n",
    "        # plot raw data\n",
    "        ax.plot(t_odor, odor_binary, color=(1, 0, 1), lw=4, zorder=0)\n",
    "\n",
    "        # plot resampled data\n",
    "        ax.plot(dl.data['TIME'], dl.data['ODOR_BINARY'], color='k', lw=2, zorder=1)\n",
    "\n",
    "        # set limits\n",
    "        ax.set_xlim(-60, 360)\n",
    "\n",
    "        # label axes\n",
    "        ax.set_ylabel('ODOR_BINARY')\n",
    "\n",
    "        ax.set_title('ODOR_BINARY: TRIAL {0}'.format(trial.id))\n",
    "        ax.set_xlabel('time (s)')\n",
    "\n",
    "        set_font_size(ax, 16)\n",
    "    \n",
    "    elif trial.expt in EXPTS_ODOR_FLUCT:\n",
    "        \n",
    "        # load odor data\n",
    "        path_odor_binary = os.path.join(L.DATA_ROOT, trial.path, trial.f_odor_binary)\n",
    "        odor_binary_ = pd.read_csv(path_odor_binary, header=None).as_matrix().T\n",
    "        \n",
    "        path_odor_pid = os.path.join(L.DATA_ROOT, trial.path, trial.f_odor_pid)\n",
    "        odor_pid_ = pd.read_csv(path_odor_pid, header=None).as_matrix().T\n",
    "        \n",
    "        t_odor = odor_binary_[:, 0] - odor_binary_[0, 0]\n",
    "        \n",
    "        odor_binary = odor_binary_[:, 1]\n",
    "        \n",
    "        mask_low = odor_binary < C.ODOR_BINARY_CUTOFF\n",
    "        mask_high = odor_binary >= C.ODOR_BINARY_CUTOFF\n",
    "        \n",
    "        odor_binary[mask_low] = 0\n",
    "        odor_binary[mask_high] = 1\n",
    "        \n",
    "        odor_pid = odor_pid_[:, 1]\n",
    "        \n",
    "        # show overlaid plots of original and resampled data at start and end of trial\n",
    "        for t_lim in [T_LIM_START, T_LIM_END]:\n",
    "\n",
    "            fig, axs = plt.subplots(2, 1, figsize=(15, 3), tight_layout=True, sharex=True)\n",
    "\n",
    "            # plot raw data\n",
    "            axs[0].plot(t_odor, odor_binary, color=(1, 0, 0), lw=4, zorder=0)\n",
    "            axs[1].plot(t_odor, odor_pid, color=(1, 0, 0), lw=4, zorder=0)\n",
    "\n",
    "            # plot resampled data\n",
    "            axs[0].plot(dl.data['TIME'], dl.data['ODOR_BINARY'], color='k', lw=2, zorder=1)\n",
    "            axs[1].plot(dl.data['TIME'], dl.data['ODOR_PID'], color='k', lw=2, zorder=1)\n",
    "\n",
    "            # set limits\n",
    "            for ax in axs:\n",
    "                ax.set_xlim(t_lim)\n",
    "\n",
    "            # label axes\n",
    "            axs[0].set_ylabel('BINARY')\n",
    "            axs[1].set_ylabel('PID')\n",
    "\n",
    "            axs[0].set_title('ODOR: TRIAL {0} (T_LIM = {1:.2f}:{2:.2f}s)'.format(trial.name, *t_lim))\n",
    "            axs[1].set_xlabel('time (s)')\n",
    "\n",
    "            for ax in axs:\n",
    "                set_font_size(ax, 16)"
   ]
  },
  {
   "cell_type": "code",
   "execution_count": null,
   "metadata": {
    "collapsed": true
   },
   "outputs": [],
   "source": [
    "def test_resampling(trial_names):\n",
    "    \"\"\"Test resampling for trial by displaying resampled overlaid with raw data.\"\"\"\n",
    "    \n",
    "    for trial_name in trial_names:\n",
    "        \n",
    "        # get trial from db\n",
    "        session = make_session()\n",
    "        trial = session.query(d_models.Trial).filter_by(name=trial_name).first()\n",
    "        session.close()\n",
    "\n",
    "        # remove clean file\n",
    "        path_clean = os.path.join(\n",
    "            L.DATA_ROOT, trial.path, '{}_{}.csv'.format(trial.pfx_clean, SFX_CLEAN))\n",
    "\n",
    "        if os.path.exists(path_clean):\n",
    "            os.remove(path_clean)\n",
    "\n",
    "        # load trial with DataLoader\n",
    "        dl = DataLoader(trial, sfx=SFX_CLEAN, vel_filt=None)\n",
    "\n",
    "        # GCaMP\n",
    "        plot_gcamp_resampled(trial, dl)\n",
    "\n",
    "        # BEHAV\n",
    "        plot_behav_resampled(trial, dl)\n",
    "\n",
    "        # AIR TUBE\n",
    "        plot_air_resampled(trial, dl)\n",
    "\n",
    "        # ODOR\n",
    "        plot_odor_resampled(trial, dl)"
   ]
  },
  {
   "cell_type": "markdown",
   "metadata": {},
   "source": [
    "## 'asensory_5_hz'"
   ]
  },
  {
   "cell_type": "code",
   "execution_count": null,
   "metadata": {
    "collapsed": true
   },
   "outputs": [],
   "source": [
    "test_resampling(['20160211.Fly5.2'])"
   ]
  },
  {
   "cell_type": "markdown",
   "metadata": {},
   "source": [
    "## 'asensory_10_hz'"
   ]
  },
  {
   "cell_type": "code",
   "execution_count": null,
   "metadata": {
    "collapsed": true
   },
   "outputs": [],
   "source": [
    "test_resampling(['20160628.Fly5.3'])"
   ]
  },
  {
   "cell_type": "markdown",
   "metadata": {},
   "source": [
    "## 'closed'"
   ]
  },
  {
   "cell_type": "code",
   "execution_count": null,
   "metadata": {
    "collapsed": true
   },
   "outputs": [],
   "source": [
    "test_resampling(['20170428.Fly5.7'])"
   ]
  },
  {
   "cell_type": "markdown",
   "metadata": {},
   "source": [
    "## 'sinusoidal'"
   ]
  },
  {
   "cell_type": "code",
   "execution_count": null,
   "metadata": {
    "collapsed": true
   },
   "outputs": [],
   "source": [
    "test_resampling(['20170118.Fly2.5'])"
   ]
  },
  {
   "cell_type": "markdown",
   "metadata": {},
   "source": [
    "## 'closed_white'"
   ]
  },
  {
   "cell_type": "code",
   "execution_count": null,
   "metadata": {
    "collapsed": true
   },
   "outputs": [],
   "source": [
    "test_resampling(['20170428.Fly5.5'])"
   ]
  },
  {
   "cell_type": "markdown",
   "metadata": {},
   "source": [
    "## 'no_air_motion'"
   ]
  },
  {
   "cell_type": "code",
   "execution_count": null,
   "metadata": {
    "collapsed": true
   },
   "outputs": [],
   "source": [
    "test_resampling(['20170428.Fly5.3'])"
   ]
  },
  {
   "cell_type": "markdown",
   "metadata": {},
   "source": [
    "## 'closed_odor_fluct'"
   ]
  },
  {
   "cell_type": "code",
   "execution_count": null,
   "metadata": {
    "collapsed": true
   },
   "outputs": [],
   "source": [
    "test_resampling(['20171130.Fly4.3'])"
   ]
  },
  {
   "cell_type": "markdown",
   "metadata": {},
   "source": [
    "## 'white_odor_fluct'"
   ]
  },
  {
   "cell_type": "code",
   "execution_count": null,
   "metadata": {
    "collapsed": true
   },
   "outputs": [],
   "source": [
    "test_resampling(['20171130.Fly5.5'])"
   ]
  },
  {
   "cell_type": "markdown",
   "metadata": {},
   "source": [
    "# Test alignment of w_air and v_ang"
   ]
  },
  {
   "cell_type": "code",
   "execution_count": null,
   "metadata": {
    "collapsed": true
   },
   "outputs": [],
   "source": [
    "def plot_w_air_vs_v_ang(trial_names, t_lim):\n",
    "    \n",
    "    n_rows = len(trial_names)\n",
    "    fig_h = 2.5 * n_rows\n",
    "    \n",
    "    fig, axs = plt.subplots(n_rows, 1, figsize=(15, fig_h), tight_layout=True, sharex=True, squeeze=False)\n",
    "    \n",
    "    for trial_name, ax in zip(trial_names, axs.flatten()):\n",
    "        \n",
    "        session = make_session()\n",
    "        trial = session.query(d_models.Trial).filter_by(name=trial_name).first()\n",
    "        session.close()\n",
    "        \n",
    "        # remove clean file\n",
    "        path_clean = os.path.join(\n",
    "            L.DATA_ROOT, trial.path, '{}_{}.csv'.format(trial.pfx_clean, SFX_CLEAN))\n",
    "\n",
    "        if os.path.exists(path_clean):\n",
    "            os.remove(path_clean)\n",
    "\n",
    "        # load trial with DataLoader\n",
    "        dl = DataLoader(trial, sfx=SFX_CLEAN, vel_filt=None)\n",
    "        \n",
    "        # plot w_air and v_ang\n",
    "        w_air_normed = \n",
    "        v_ang_normed = norm_by_col(dl.data['V_ANG'])\n",
    "        \n",
    "        ax.plot(dl.data['TIME'], norm_by_col(dl.data['W_AIR']), color='k', lw=2)\n",
    "        ax.plot(dl.data['TIME'], norm_by_col(dl.data['V_ANG']), color='r', lw=2)\n",
    "        \n",
    "        ax.set_xlim(t_lim)\n",
    "        \n",
    "        ax.set_ylabel('W_AIR, V_ANG')\n",
    "        \n",
    "        ax.set_title('W_AIR VS V_ANG: TRIAL {0} (T_LIM = {1:.2f}:{2:.2f}s)'.format(trial.name, *t_lim))\n",
    "    \n",
    "    axs[-1, 0].set_xlabel('time (s)')\n",
    "    \n",
    "    for ax in axs.flatten():\n",
    "        set_font_size(ax, 16)"
   ]
  },
  {
   "cell_type": "markdown",
   "metadata": {},
   "source": [
    "## 'closed'"
   ]
  },
  {
   "cell_type": "code",
   "execution_count": null,
   "metadata": {
    "collapsed": true
   },
   "outputs": [],
   "source": [
    "plot_w_air_vs_v_ang(['20170428.Fly2.1'])"
   ]
  },
  {
   "cell_type": "markdown",
   "metadata": {},
   "source": [
    "## 'closed_white'"
   ]
  },
  {
   "cell_type": "code",
   "execution_count": null,
   "metadata": {
    "collapsed": true
   },
   "outputs": [],
   "source": [
    "plot_w_air_vs_v_ang(['20170428.Fly2.4'])"
   ]
  },
  {
   "cell_type": "markdown",
   "metadata": {},
   "source": [
    "## 'closed_odor_fluct'"
   ]
  },
  {
   "cell_type": "code",
   "execution_count": null,
   "metadata": {
    "collapsed": true
   },
   "outputs": [],
   "source": [
    "plot_w_air_vs_v_ang(['20171130.Fly4.2'])"
   ]
  },
  {
   "cell_type": "markdown",
   "metadata": {},
   "source": [
    "# Test auxiliary data-handling functions"
   ]
  },
  {
   "cell_type": "markdown",
   "metadata": {},
   "source": [
    "## function: `avg_or_interp`"
   ]
  },
  {
   "cell_type": "markdown",
   "metadata": {},
   "source": [
    "### Test case 1\n",
    "multi-column array requiring averaging, interpolating, and ignoring in four different columns;\n",
    "\n",
    "col 1 admits averaging; col 2 requires interpolating; cols 3, 4, and 5 require ignoring;"
   ]
  },
  {
   "cell_type": "code",
   "execution_count": null,
   "metadata": {
    "collapsed": true
   },
   "outputs": [],
   "source": [
    "from data import avg_or_interp\n",
    "\n",
    "t = np.array([0., 1, 2, 3, 4])\n",
    "x = np.array([\n",
    "    [.5,    0.1, np.nan,    0.1, np.nan],\n",
    "    [.6, np.nan, np.nan, np.nan, np.nan],\n",
    "    [.8, np.nan, np.nan, np.nan, np.nan],\n",
    "    [.9, np.nan,    0.2, np.nan, np.nan],\n",
    "    [1.,    0.5,    0.8, np.nan, np.nan],\n",
    "])\n",
    "w = (0.5, 2.5)\n",
    "\n",
    "y_correct = np.array([0.7, 0.25, np.nan, np.nan, np.nan])\n",
    "\n",
    "y = avg_or_interp(t, x, w, cols_ang=None)\n",
    "\n",
    "np.testing.assert_array_almost_equal(y, y_correct)\n",
    "\n",
    "print('TEST PASSED.')"
   ]
  },
  {
   "cell_type": "markdown",
   "metadata": {},
   "source": [
    "### Test case 2\n",
    "same as test case 1 but testing columns individually;"
   ]
  },
  {
   "cell_type": "code",
   "execution_count": null,
   "metadata": {
    "collapsed": true
   },
   "outputs": [],
   "source": [
    "for x_, y_correct_ in zip(x.T, y_correct):\n",
    "    \n",
    "    y = avg_or_interp(t, x_, w, cols_ang=None)\n",
    "    np.testing.assert_array_almost_equal([y], [y_correct_])\n",
    "    \n",
    "print('TEST PASSED')"
   ]
  },
  {
   "cell_type": "markdown",
   "metadata": {},
   "source": [
    "### Test case 3\n",
    "\n",
    "test including angular variables that require wrapping and unwrapping;"
   ]
  },
  {
   "cell_type": "code",
   "execution_count": null,
   "metadata": {
    "collapsed": true
   },
   "outputs": [],
   "source": [
    "t = np.array([0., 1, 2, 3, 4])\n",
    "x = np.array([\n",
    "    [ 170,    170,    170, np.nan,    0.1, np.nan],\n",
    "    [ 175, np.nan, np.nan, np.nan, np.nan, np.nan],\n",
    "    [-165, np.nan, np.nan, np.nan, np.nan, np.nan],\n",
    "    [-150, np.nan, np.nan,    0.2, np.nan, np.nan],\n",
    "    [-160,   -150,   -150,    0.8, np.nan, np.nan],\n",
    "])\n",
    "w = (0.5, 2.5)\n",
    "\n",
    "y_correct = np.array([-175, -175, 50, np.nan, np.nan, np.nan])\n",
    "\n",
    "y = avg_or_interp(t, x, w, cols_ang=[0, 1])\n",
    "\n",
    "np.testing.assert_array_almost_equal(y, y_correct)\n",
    "\n",
    "print('TEST PASSED.')"
   ]
  },
  {
   "cell_type": "markdown",
   "metadata": {},
   "source": [
    "## functions: `wrap`, `unwrap`"
   ]
  },
  {
   "cell_type": "code",
   "execution_count": null,
   "metadata": {
    "collapsed": true
   },
   "outputs": [],
   "source": [
    "from data import wrap, unwrap\n",
    "\n",
    "np.random.seed(0)\n",
    "\n",
    "x = np.cumsum(np.random.normal(0, 20, 2000))\n",
    "x_wrapped = wrap(x, -180, 180)\n",
    "x_unwrapped = unwrap(x_wrapped, -180, 180)\n",
    "\n",
    "fig, axs = plt.subplots(3, 1, figsize=(12, 9), tight_layout=True)\n",
    "\n",
    "axs[0].plot(x, color='k', lw=2)\n",
    "axs[0].set_title('Original')\n",
    "\n",
    "axs[1].plot(x_wrapped, color='k', lw=2)\n",
    "axs[1].set_title('Wrapped')\n",
    "\n",
    "axs[2].plot(x_unwrapped, color='k', lw=2)\n",
    "axs[2].set_title('Unwrapped')\n",
    "\n",
    "for ax in axs:\n",
    "    ax.axhline(-1260, color='gray', ls='--')\n",
    "    ax.axhline(-900, color='gray', ls='--')\n",
    "    ax.axhline(-540, color='gray', ls='--')\n",
    "    ax.axhline(-180, color='gray', ls='--')\n",
    "    ax.axhline(180, color='gray', ls='--')\n",
    "    ax.set_xlabel('t')\n",
    "    ax.set_ylabel('x')\n",
    "    set_font_size(ax, 16)\n",
    "    \n",
    "np.testing.assert_array_almost_equal(x, x_unwrapped)\n",
    "print('TEST PASSED')"
   ]
  },
  {
   "cell_type": "markdown",
   "metadata": {},
   "source": [
    "Tests passed if original (top) and unwrapped (bottom) are identical, and wrapped (middle) is constrained between -180 and 180."
   ]
  }
 ],
 "metadata": {
  "kernelspec": {
   "display_name": "Python 3",
   "language": "python",
   "name": "python3"
  },
  "language_info": {
   "codemirror_mode": {
    "name": "ipython",
    "version": 3
   },
   "file_extension": ".py",
   "mimetype": "text/x-python",
   "name": "python",
   "nbconvert_exporter": "python",
   "pygments_lexer": "ipython3",
   "version": "3.6.3"
  }
 },
 "nbformat": 4,
 "nbformat_minor": 2
}
